{
  "nbformat": 4,
  "nbformat_minor": 0,
  "metadata": {
    "colab": {
      "provenance": [],
      "include_colab_link": true
    },
    "kernelspec": {
      "name": "python3",
      "display_name": "Python 3"
    },
    "language_info": {
      "name": "python"
    }
  },
  "cells": [
    {
      "cell_type": "markdown",
      "metadata": {
        "id": "view-in-github",
        "colab_type": "text"
      },
      "source": [
        "<a href=\"https://colab.research.google.com/github/TaylorL74/data-and-python/blob/main/Copy_of_14_Lists_and_Tuples.ipynb\" target=\"_parent\"><img src=\"https://colab.research.google.com/assets/colab-badge.svg\" alt=\"Open In Colab\"/></a>"
      ]
    },
    {
      "cell_type": "markdown",
      "metadata": {
        "id": "Z-M-RCWATK71"
      },
      "source": [
        "# Lists and tuples challenge exercises\n",
        "\n",
        "The code below will create two lists and a tuple.\n",
        "*   the first list contains 1000 random numbers between 1 and 100\n",
        "*   the second list is of random length (up to 5000) and each item is one of the 9 characteristics that are protected under the Equality Act in the UK.\n",
        "*   the tuple contains the 9 protected characteristics\n",
        "\n",
        "Before you start the exercises, run the code below.  It will generate the lists and tuple so that you can use them in the exercises.  If you need to recreate the lists again (because you have changed them and need to work on the originals, just run this cell again).\n",
        "\n",
        "***Note:***  *a list variable contains a reference to the start of the list in memory, rather than storing the list itself.  This means that if you assign the list to another variable (to make a copy), it will only copy across the reference.  If you change the copy, you change the original list.*\n",
        "\n",
        "*If you need to make a copy of the list you will could use a loop to create a new list and copy all items across.*"
      ]
    },
    {
      "cell_type": "code",
      "metadata": {
        "id": "BDRckXeQXFMT"
      },
      "source": [
        "from random import randint, choice\n",
        "\n",
        "def get_num_list():\n",
        "  num_list = [randint(1,100) for n in range(1000)]\n",
        "  return num_list\n",
        "\n",
        "def get_protected_characteristics():\n",
        "  characteristics_tuple = ('age','disability','gender reassignment','marriage and civil partnership','pregnancy and maternity','race','religion or belief','sex','sexual orientation')\n",
        "  return characteristics_tuple\n",
        "\n",
        "def get_protected_characteristic_list(protected_characteristics):\n",
        "  char_list = [choice(protected_characteristics) for ch in range(5000)]\n",
        "  return char_list\n",
        "\n",
        "nums = get_num_list()\n",
        "protected_characteristics = get_protected_characteristics()\n",
        "characteristics = get_protected_characteristic_list(protected_characteristics)"
      ],
      "execution_count": null,
      "outputs": []
    },
    {
      "cell_type": "markdown",
      "metadata": {
        "id": "xXT38-4ZV45n"
      },
      "source": [
        "## The exercises below will use the lists:  \n",
        "*   **nums** (a list of 1000 random numbers, each number is between 0 and 100)\n",
        "*   **characteristics** (a list of 5000 random protected_characteristics)\n",
        "\n",
        "and the tuple:\n",
        "*  **protected_characteristics** (the 9 protected characteristics identified in the Equality Act)\n",
        "\n",
        "## You can run the cell above any number of times to generate new lists."
      ]
    },
    {
      "cell_type": "markdown",
      "metadata": {
        "id": "Ft0dXl7fUuaK"
      },
      "source": [
        "---\n",
        "### Exercise 1 - list head, tail and shape\n",
        "\n",
        "Write a function, **describe_list()** which will:\n",
        "*  print the length of the list `nums`\n",
        "*  print the first 10 items in `nums`  \n",
        "*  print the last 5 items in `nums`\n",
        "\n",
        "Expected output (the two lists will contained different values to those shown belows since they are randomly generated):\n",
        "\n",
        "1000 \\\n",
        "[78, 49, 81, 48, 79, 55, 76, 26, 75, 43] \\\n",
        "[59, 42, 84, 62, 18] \\"
      ]
    },
    {
      "cell_type": "code",
      "metadata": {
        "id": "jUcZD7mmTJdA",
        "outputId": "36aa2956-d5ad-41a4-da8f-40e76effea67",
        "colab": {
          "base_uri": "https://localhost:8080/"
        }
      },
      "source": [
        "def describe_list():\n",
        "  print(len(nums))\n",
        "  print(nums[:10])\n",
        "  print(nums[-5:])\n",
        "\n",
        "describe_list()"
      ],
      "execution_count": null,
      "outputs": [
        {
          "output_type": "stream",
          "name": "stdout",
          "text": [
            "1000\n",
            "[74, 14, 44, 28, 74, 72, 87, 13, 17, 19]\n",
            "[97, 18, 33, 8, 8]\n"
          ]
        }
      ]
    },
    {
      "cell_type": "markdown",
      "metadata": {
        "id": "yNWg08k6bXv0"
      },
      "source": [
        "---\n",
        "### Exercise 2 - show tuple items\n",
        "\n",
        "Write a function which will:\n",
        "*   use a loop to print each protected characteristics from the `protected_characteristics` tuple.\n",
        "\n",
        "Expected output:\n",
        "\n",
        "age\\\n",
        "disability\\\n",
        "gender reassignment\\\n",
        "marriage and civil partnership\\\n",
        "pregnancy and maternity\\\n",
        "race\\\n",
        "religion or belief\\\n",
        "sex\\\n",
        "sexual orientation"
      ]
    },
    {
      "cell_type": "code",
      "metadata": {
        "id": "P2HnCG9pb1BS",
        "outputId": "53d6e60d-c9c9-4cb0-d716-b257cedc273e",
        "colab": {
          "base_uri": "https://localhost:8080/"
        }
      },
      "source": [
        "def show_tuples():\n",
        "  for item in protected_characteristics:\n",
        "    print(item)\n",
        "\n",
        "show_tuples()"
      ],
      "execution_count": null,
      "outputs": [
        {
          "output_type": "stream",
          "name": "stdout",
          "text": [
            "age\n",
            "disability\n",
            "gender reassignment\n",
            "marriage and civil partnership\n",
            "pregnancy and maternity\n",
            "race\n",
            "religion or belief\n",
            "sex\n",
            "sexual orientation\n"
          ]
        }
      ]
    },
    {
      "cell_type": "markdown",
      "metadata": {
        "id": "RTSuQZs4b1JU"
      },
      "source": [
        "---\n",
        "### Exercise 3 - list a random subset\n",
        "\n",
        "Write a function which will:\n",
        "*  calculate the position of the middle item in the `characteristics` list   \n",
        "(*Hint: use len() to help with this*)\n",
        "*  calculate the position of the item that is 5 places before the middle item\n",
        "*  calculate the position of the item that is 5 places after the middle item\n",
        "*  print the part of the list that includes the items from 5 places before to 5 places after.  \n",
        "\n",
        "Expected output:  \n",
        "Your list will include 11 items."
      ]
    },
    {
      "cell_type": "code",
      "metadata": {
        "id": "OwhFnH2kdC11",
        "outputId": "6f014600-bb5a-4c88-881b-6bb4c1ad902c",
        "colab": {
          "base_uri": "https://localhost:8080/"
        }
      },
      "source": [
        "def random_subset():\n",
        "  length = len(characteristics)\n",
        "  middle_index = length // 2\n",
        "  before_index = middle_index - 5\n",
        "  after_index = middle_index + 6\n",
        "  # +6 to account for the fact that the list would stop before the final item otherwise\n",
        "  print(characteristics[before_index:after_index])\n",
        "\n",
        "random_subset()\n"
      ],
      "execution_count": null,
      "outputs": [
        {
          "output_type": "stream",
          "name": "stdout",
          "text": [
            "['age', 'marriage and civil partnership', 'marriage and civil partnership', 'religion or belief', 'sex', 'gender reassignment', 'age', 'religion or belief', 'gender reassignment', 'pregnancy and maternity', 'race']\n"
          ]
        }
      ]
    },
    {
      "cell_type": "markdown",
      "metadata": {
        "id": "KS0x3oFNePI9"
      },
      "source": [
        "---\n",
        "### Exercise 4 - create a copy\n",
        "\n",
        "Write a function which will: use a for loop to create a copy of the `nums` list:\n",
        "\n",
        "*   create a new, empty, list called **new_nums**  (*Hint: an empty list is [ ]*)\n",
        "*   use a for loop which uses the following syntax:  `for num in nums:`\n",
        "*   each time round the loop append `num` to `new_nums`  ( *`new_nums.append(num)`*)\n",
        "*   print the first 10 items of `new_nums`\n",
        "*   print the first 10 items of `nums`\n",
        "*   print the length of both lists"
      ]
    },
    {
      "cell_type": "code",
      "metadata": {
        "id": "mpK1Ip3we-uC",
        "outputId": "d8bc51fc-2c64-4007-9098-89148ceb218f",
        "colab": {
          "base_uri": "https://localhost:8080/"
        }
      },
      "source": [
        "def new_copy():\n",
        "  new_nums = []\n",
        "  for num in nums:\n",
        "    new_nums.append(num)\n",
        "  print(new_nums[:10])\n",
        "  print(nums[:10])\n",
        "  print(len(new_nums))\n",
        "  print(len(nums))\n",
        "\n",
        "new_copy()\n"
      ],
      "execution_count": null,
      "outputs": [
        {
          "output_type": "stream",
          "name": "stdout",
          "text": [
            "[41, 20, 43, 3, 15, 65, 69, 100, 55, 93]\n",
            "[41, 20, 43, 3, 15, 65, 69, 100, 55, 93]\n",
            "1000\n",
            "1000\n"
          ]
        }
      ]
    },
    {
      "cell_type": "markdown",
      "metadata": {
        "id": "deUIFWjRe-3G"
      },
      "source": [
        "\n",
        "---\n",
        "### Exercise 5 - count the occurrence of age in characteristics\n",
        "\n",
        "Write a function which will use the list method:\n",
        "\n",
        "`num_items = list_name.count(item)`\n",
        "\n",
        "to count the number of occurrences of 'age' in the `characteristics` list.  Print the result.\n",
        "\n",
        "Expected output:\n",
        "\n",
        "493"
      ]
    },
    {
      "cell_type": "code",
      "metadata": {
        "id": "b9TrHQ9hfoIU",
        "outputId": "c71111d5-7a30-4cb9-8dc7-c4b70dbe9302",
        "colab": {
          "base_uri": "https://localhost:8080/"
        }
      },
      "source": [
        "def count_age():\n",
        "  num_items = characteristics.count(\"age\")\n",
        "  print(num_items)\n",
        "\n",
        "count_age()"
      ],
      "execution_count": null,
      "outputs": [
        {
          "output_type": "stream",
          "name": "stdout",
          "text": [
            "560\n"
          ]
        }
      ]
    },
    {
      "cell_type": "markdown",
      "metadata": {
        "id": "zm2VI5RmfoSy"
      },
      "source": [
        "---\n",
        "### Exercise 6 - sort the nums list\n",
        "\n",
        "Write a function which will:\n",
        "*   call the function `get_num_list()` and store the result in a new list called **sort_nums**\n",
        "*   print the first, and last, 20 items in the `sort_nums` list\n",
        "*   use the `list_name.sort()` method to sort the `sort_nums` list into ascending order\n",
        "*   print the first, and last, 20 items again  \n",
        "*   use the `list_name.sort()` method again to sort the `sort_nums` list into descending order\n",
        "*   print the first, and last, 20 items again"
      ]
    },
    {
      "cell_type": "code",
      "metadata": {
        "id": "Fksgpj9JgWDs",
        "outputId": "942418ac-30f2-496c-cf3b-8abc48c905a6",
        "colab": {
          "base_uri": "https://localhost:8080/"
        }
      },
      "source": [
        "def get_num_list():\n",
        "  sort_nums = list(nums)\n",
        "  print(sort_nums[:20])\n",
        "  print(sort_nums[-20:])\n",
        "  sort_nums.sort()\n",
        "  print(sort_nums[:20])\n",
        "  print(sort_nums[-20:])\n",
        "  sort_nums.sort(reverse=True)\n",
        "  print(sort_nums[:20])\n",
        "  print(sort_nums[-20:])\n",
        "\n",
        "get_num_list()"
      ],
      "execution_count": null,
      "outputs": [
        {
          "output_type": "stream",
          "name": "stdout",
          "text": [
            "[74, 14, 44, 28, 74, 72, 87, 13, 17, 19, 82, 14, 47, 74, 18, 25, 10, 18, 37, 13]\n",
            "[54, 32, 38, 34, 35, 50, 79, 21, 38, 69, 10, 73, 31, 6, 28, 97, 18, 33, 8, 8]\n",
            "[1, 1, 1, 1, 1, 2, 2, 2, 2, 2, 3, 3, 3, 3, 3, 3, 3, 3, 3, 3]\n",
            "[99, 99, 99, 99, 99, 99, 99, 100, 100, 100, 100, 100, 100, 100, 100, 100, 100, 100, 100, 100]\n",
            "[100, 100, 100, 100, 100, 100, 100, 100, 100, 100, 100, 100, 100, 99, 99, 99, 99, 99, 99, 99]\n",
            "[3, 3, 3, 3, 3, 3, 3, 3, 3, 3, 2, 2, 2, 2, 2, 1, 1, 1, 1, 1]\n"
          ]
        }
      ]
    },
    {
      "cell_type": "markdown",
      "metadata": {
        "id": "_OF-Xuj1UrW0"
      },
      "source": [
        "---\n",
        "### Exercise 7 - get statistics (max(), min(), sum() )\n",
        "\n",
        "Write a function which will:\n",
        "*   print the maximum and minimum numbers in the `nums` list  \n",
        "*   print the sum of the `nums` list\n",
        "*   calculate and print the average of the `nums` list (using `len()` to help)"
      ]
    },
    {
      "cell_type": "code",
      "metadata": {
        "id": "9YmYMenZVGod",
        "outputId": "6d53e73d-17b0-4947-b26a-047c52224948",
        "colab": {
          "base_uri": "https://localhost:8080/"
        }
      },
      "source": [
        "def get_statistics():\n",
        "  print(min(nums))\n",
        "  print(max(nums))\n",
        "  print(sum(nums))\n",
        "  average = sum(nums) / len(nums)\n",
        "  print(average)\n",
        "\n",
        "get_statistics()"
      ],
      "execution_count": null,
      "outputs": [
        {
          "output_type": "stream",
          "name": "stdout",
          "text": [
            "1\n",
            "100\n",
            "50246\n",
            "50.246\n"
          ]
        }
      ]
    },
    {
      "cell_type": "markdown",
      "metadata": {
        "id": "Mn4tHQ_KVbHa"
      },
      "source": [
        "---\n",
        "### Exercise 8 - percentage difference\n",
        "\n",
        "Write a function which will:\n",
        "*   generate a new list called **ex8_nums** using `get_num_list()`\n",
        "*   calculate and print the percentage difference between the first number in each list (as a percentage of the number in the nums list) (Hint:  find the difference between the two numbers, divide the average of the two numbers and multiply by 100)\n",
        "*   calculate and print the percentage difference between the last numbers in each list in the same way\n",
        "*   calculate and print the percentage difference between the middle numbers in each list in the same way.\n",
        "*   calculate and print the percentage difference between the sums of each list in the same way"
      ]
    },
    {
      "cell_type": "code",
      "metadata": {
        "id": "nJCQjZIeZL0e",
        "outputId": "56040ec5-7a12-4568-c98c-f84ebc4638dc",
        "colab": {
          "base_uri": "https://localhost:8080/"
        }
      },
      "source": [
        "def percentage_difference():\n",
        "  print(\"?\")\n",
        "\n",
        "percentage_difference()"
      ],
      "execution_count": null,
      "outputs": [
        {
          "output_type": "stream",
          "name": "stdout",
          "text": [
            "?\n"
          ]
        }
      ]
    },
    {
      "cell_type": "markdown",
      "metadata": {
        "id": "HNs3lZmYawFO"
      },
      "source": [
        "---\n",
        "### Exercise 9 - characteristic counts\n",
        "\n",
        "Write a function which will:\n",
        "*  iterate through the `protected_characteristics` tuple and for each **characteristic**:\n",
        "*   *   count the number of occurrences of that `characteristic` in the `characteristics` list\n",
        "*   *   print the `protected_characteristic` and the **count**  \n",
        "\n",
        "Example expected output:\n",
        "\n",
        "age 100  \n",
        "disability 120  \n",
        "gender reassignment 120  \n",
        "marriage and civil partnership 111  \n",
        "pregnancy and maternity 103  \n",
        "race 106  \n",
        "religion or belief 95  \n",
        "sex 110  \n",
        "sexual orientation 113  \n",
        "\n",
        "Extra learning:  you can read [here](https://thispointer.com/python-how-to-pad-strings-with-zero-space-or-some-other-character/) how to justify the printed characteristic so that the output is organised into two columns as shown below:  \n",
        "![tabulated output](https://drive.google.com/uc?id=1CCXfX6K5ZeDefnq7vUsqxCDmqvcfY8Mz)\n",
        "\n",
        "\n",
        "\n"
      ]
    },
    {
      "cell_type": "code",
      "metadata": {
        "id": "GURT11albqUs",
        "outputId": "7a15ebdb-b55b-44a1-a4c3-b13319a8cb26",
        "colab": {
          "base_uri": "https://localhost:8080/"
        }
      },
      "source": [
        "def characteristics_count():\n",
        "  for item in protected_characteristics:\n",
        "    count = characteristics.count(item)\n",
        "    print(f\"{item} appears {count} times\")\n",
        "\n",
        "characteristics_count()"
      ],
      "execution_count": null,
      "outputs": [
        {
          "output_type": "stream",
          "name": "stdout",
          "text": [
            "age appears 560 times\n",
            "disability appears 521 times\n",
            "gender reassignment appears 569 times\n",
            "marriage and civil partnership appears 550 times\n",
            "pregnancy and maternity appears 565 times\n",
            "race appears 580 times\n",
            "religion or belief appears 486 times\n",
            "sex appears 626 times\n",
            "sexual orientation appears 543 times\n"
          ]
        }
      ]
    },
    {
      "cell_type": "markdown",
      "metadata": {
        "id": "9Po7yQj-ds38"
      },
      "source": [
        "---\n",
        "### Exercise 10 - characteristics statistics\n",
        "\n",
        "Assuming that the `characteristics` list may have been taken from a study of cases that have been taken to court in relation to the Equality Act.  \n",
        "\n",
        "Write a function which will:\n",
        "\n",
        "*   find the most common characteristic resulting in court action, from this population\n",
        "*   print this in a message, e.g. The characteristic with the highest number of court cases is:  *characteristic*\n",
        "*   print the list of `protected_characteristics`, on one line if possible - see [here](https://www.geeksforgeeks.org/print-lists-in-python-4-different-ways/)\n",
        "*   ask the user to enter a characteristic that they would like to see statistics on and use a while loop to continue until the user has entered a valid characteristic\n",
        "*   print the characteristic, its frequency and the percentage that this frequency is of the whole population."
      ]
    },
    {
      "cell_type": "code",
      "metadata": {
        "id": "uk_I5z7UgbDs",
        "outputId": "48300657-490b-47a9-cb06-58ed6634146e",
        "colab": {
          "base_uri": "https://localhost:8080/"
        }
      },
      "source": [
        "def characteristic_statistics():\n",
        "  common = 0\n",
        "  for characteristic in protected_characteristics:\n",
        "    count = characteristics.count(characteristic)\n",
        "    if count > common:\n",
        "      common = count\n",
        "      common_type = characteristic\n",
        "  print(f\"The {common_type} characteristic was the most common with {common} court appearances\")\n",
        "\n",
        "  print(protected_characteristics)\n",
        "\n",
        "  while True:\n",
        "    input_characteristic = str(input(\"Please enter a characteristic to view it's stats: \"))\n",
        "    if input_characteristic in protected_characteristics:\n",
        "      break\n",
        "    else:\n",
        "      print(\"Invalid input. Please try again: \")\n",
        "\n",
        "  print(input_characteristic)\n",
        "  count_input = characteristics.count(input_characteristic)\n",
        "  percentage = (count_input / len(characteristics)) * 100\n",
        "  print(f\"The frequency of this characteristic is {count_input}\")\n",
        "  print(f\"It represents {round(percentage, 2)}% of all court cases\")\n",
        "\n",
        "characteristic_statistics()\n",
        "\n",
        "\n",
        "\n"
      ],
      "execution_count": null,
      "outputs": [
        {
          "output_type": "stream",
          "name": "stdout",
          "text": [
            "The sex characteristic was the most common with 626 court appearances\n",
            "('age', 'disability', 'gender reassignment', 'marriage and civil partnership', 'pregnancy and maternity', 'race', 'religion or belief', 'sex', 'sexual orientation')\n",
            "Please enter a characteristic to view it's stats: sex\n",
            "sex\n",
            "The frequency of this characteristic is 626\n",
            "It represents 12.52% of all court cases\n"
          ]
        }
      ]
    },
    {
      "cell_type": "markdown",
      "source": [],
      "metadata": {
        "id": "rATgLyxowihN"
      }
    },
    {
      "cell_type": "markdown",
      "source": [
        "## Your thoughts on what you have learnt\n",
        "Please add some comments in the box below to reflect on what you have learnt through completing this worksheet, and any problems you encountered while doing so."
      ],
      "metadata": {
        "id": "0keHaFx_wiBW"
      }
    },
    {
      "cell_type": "markdown",
      "source": [
        "Learned how to access and use data stored in different lists and tuples to analyse and present data.\n",
        "\n",
        "More practice in using while loops to verify input."
      ],
      "metadata": {
        "id": "q92HGp7Gs7ce"
      }
    }
  ]
}