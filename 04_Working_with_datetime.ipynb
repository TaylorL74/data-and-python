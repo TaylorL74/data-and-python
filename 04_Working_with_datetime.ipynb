{
  "nbformat": 4,
  "nbformat_minor": 0,
  "metadata": {
    "colab": {
      "provenance": [],
      "include_colab_link": true
    },
    "kernelspec": {
      "name": "python3",
      "display_name": "Python 3"
    },
    "language_info": {
      "name": "python"
    }
  },
  "cells": [
    {
      "cell_type": "markdown",
      "metadata": {
        "id": "view-in-github",
        "colab_type": "text"
      },
      "source": [
        "<a href=\"https://colab.research.google.com/github/TaylorL74/data-and-python/blob/main/04_Working_with_datetime.ipynb\" target=\"_parent\"><img src=\"https://colab.research.google.com/assets/colab-badge.svg\" alt=\"Open In Colab\"/></a>"
      ]
    },
    {
      "cell_type": "markdown",
      "metadata": {
        "id": "7iQyKP-SQiw1"
      },
      "source": [
        "# User-defined functions using datetime library\n",
        "\n",
        "---\n"
      ]
    },
    {
      "cell_type": "markdown",
      "metadata": {
        "id": "Vi93h5I4QnKs"
      },
      "source": [
        "## Watch this presentation and video before starting this worksheet, if not viewed already:\n",
        "\n",
        "[04_Working_with_datetime](https://docs.google.com/presentation/d/e/2PACX-1vSLyCA6CyX5oNWaYmUbMO7h_70BIgqTEfzUCkU13NrUg1K23z3JDjoOxnyySO_thR2EWQDnzUMiZjnE/pub?start=false&loop=false&delayms=3000)"
      ]
    },
    {
      "cell_type": "markdown",
      "metadata": {
        "id": "MIDLi7CNR034"
      },
      "source": [
        "---\n",
        "### Exercise 1 - print current date and time\n",
        "\n",
        "Write a function that will get the date and time now, then print it.  \n",
        "\n",
        "*Hint:  the format has been added for you, the other exercises will follow a similar format.   Always remember to import datetime from datetime as shown below*"
      ]
    },
    {
      "cell_type": "code",
      "metadata": {
        "id": "gS6GJdXbQfHp",
        "outputId": "e0282fa5-bf56-4e85-96b1-69ad631340d9",
        "colab": {
          "base_uri": "https://localhost:8080/"
        }
      },
      "source": [
        "from datetime import datetime\n",
        "\n",
        "def get_datetime_now():\n",
        "  # add your code to get the current date and time below here\n",
        "  now = datetime.now()\n",
        "  print(now)\n",
        "\n",
        "\n",
        "get_datetime_now()"
      ],
      "execution_count": 1,
      "outputs": [
        {
          "output_type": "stream",
          "name": "stdout",
          "text": [
            "2024-10-29 14:00:36.366769\n"
          ]
        }
      ]
    },
    {
      "cell_type": "markdown",
      "metadata": {
        "id": "Yy24sL0bUtpF"
      },
      "source": [
        "---\n",
        "### Exercise 2 - print the current year\n",
        "\n",
        "Write a function that will get and print the current year.  "
      ]
    },
    {
      "cell_type": "code",
      "metadata": {
        "id": "YqlQqPIqUtyr",
        "outputId": "1bf3fa89-f6fb-4c43-d7e4-da5dc2d86c9d",
        "colab": {
          "base_uri": "https://localhost:8080/"
        }
      },
      "source": [
        "from datetime import datetime\n",
        "\n",
        "def current_year_print():\n",
        "  now = datetime.now()\n",
        "  year = now.year\n",
        "  print(year)\n",
        "\n",
        "current_year_print()\n"
      ],
      "execution_count": 4,
      "outputs": [
        {
          "output_type": "stream",
          "name": "stdout",
          "text": [
            "2024\n"
          ]
        }
      ]
    },
    {
      "cell_type": "markdown",
      "metadata": {
        "id": "FzSVCaJKV1O1"
      },
      "source": [
        "---\n",
        "### Exercise 3 - print the current day of the month\n",
        "\n",
        "Write a function that will get and print the current day of the month.  "
      ]
    },
    {
      "cell_type": "code",
      "metadata": {
        "id": "OP4ZIXBWV1Yj",
        "outputId": "99530699-ccc7-4a2f-cd89-454093583167",
        "colab": {
          "base_uri": "https://localhost:8080/"
        }
      },
      "source": [
        "from datetime import datetime\n",
        "\n",
        "def current_month():\n",
        "  now = datetime.now()\n",
        "  month = now.strftime(\"%B\")\n",
        "  print(month)\n",
        "\n",
        "current_month()"
      ],
      "execution_count": 7,
      "outputs": [
        {
          "output_type": "stream",
          "name": "stdout",
          "text": [
            "October\n"
          ]
        }
      ]
    },
    {
      "cell_type": "markdown",
      "metadata": {
        "id": "a8euCtdmWIDE"
      },
      "source": [
        "---\n",
        "### Exercise 4 - create a new date\n",
        "\n",
        "Write a function that will:\n",
        "\n",
        "*  create 3 variables: day, month, year\n",
        "*  assign each variable with a number that is valid for that variable (e.g. month can only be between 1 and 12)\n",
        "*  create a date using these variables\n",
        "*  print the date\n",
        "\n",
        "**Expected output**:  \n",
        "If day is 22, month is 4 and year is 2023 then the output will look like this:  \n",
        "`2023-04-22 00:00:00`\n",
        "\n"
      ]
    },
    {
      "cell_type": "code",
      "metadata": {
        "id": "FbOFnTwnWILN",
        "outputId": "a1f86dd3-04b3-4aae-86ab-2f62b430dbad",
        "colab": {
          "base_uri": "https://localhost:8080/"
        }
      },
      "source": [
        "from datetime import datetime\n",
        "\n",
        "def date_function():\n",
        "  day = 22\n",
        "  month = 4\n",
        "  year = 2023\n",
        "  date = datetime(year, month, day)\n",
        "  print(date)\n",
        "\n",
        "date_function()"
      ],
      "execution_count": 9,
      "outputs": [
        {
          "output_type": "stream",
          "name": "stdout",
          "text": [
            "2023-04-22 00:00:00\n"
          ]
        }
      ]
    },
    {
      "cell_type": "markdown",
      "metadata": {
        "id": "f5SKVuE0WfcE"
      },
      "source": [
        "---\n",
        "### Exercise 5 - create a date and time and use strftime() to print\n",
        "\n",
        "Write a function that asks the user to enter a day, month, year, hour, minute, second (6 numbers which will need to be converted to integers) and will then :  \n",
        "*   create a new datetime with that date and time  \n",
        "*   print the date and time as shown in the expected output below.  \n",
        "\n",
        "**Note:** You will need to join some strings together to create the message. Each part of the date will need to be converted to a string.  Do this with the datetime function strftime:  \n",
        "\n",
        " e.g. `datetime.strftime(date, \"%d\")` for just the day, `datetime.strftime(date, \"%m %Y\")` for the month and year, etc as you can only join strings with strings.  To find the codes for hour, minute and second, as well as other formats of the date values, visit [strftime.org](https://strftime.org/)\n",
        "\n",
        "**Test inputs**:  \n",
        "24  \n",
        "7  \n",
        "2024  \n",
        "17  \n",
        "30  \n",
        "0\n",
        "\n",
        "**Expected output**\n",
        "\n",
        "The set date is 24/7/2024 and the time is 17.30.0"
      ]
    },
    {
      "cell_type": "code",
      "metadata": {
        "id": "gclt-f9-XfdG",
        "outputId": "dbe216c1-d081-4d47-cbbb-8b936fde24a8",
        "colab": {
          "base_uri": "https://localhost:8080/",
          "height": 322
        }
      },
      "source": [
        "from datetime import datetime\n",
        "\n",
        "def printing_date_and_time():\n",
        "  day = int(input(\"Enter the day: \"))\n",
        "  month = int(input(\"Enter the month: \"))\n",
        "  year = int (input(\"Enter the year: \"))\n",
        "  hour = int(input(\"Enter the hour: \"))\n",
        "  minute = int(input(\"Enter the minute: \"))\n",
        "  second = int(input(\"Enter the second: \"))\n",
        "  date_and_time = datetime(year, month, day, hour, minute, second)\n",
        "  message = datetime.strftime(date_and_time, \"%d/%m/%Y %H:%M:%S\")\n",
        "  print(message)\n",
        "\n",
        "\n",
        "printing_date_and_time()"
      ],
      "execution_count": 14,
      "outputs": [
        {
          "output_type": "error",
          "ename": "KeyboardInterrupt",
          "evalue": "Interrupted by user",
          "traceback": [
            "\u001b[0;31m---------------------------------------------------------------------------\u001b[0m",
            "\u001b[0;31mKeyboardInterrupt\u001b[0m                         Traceback (most recent call last)",
            "\u001b[0;32m<ipython-input-14-96cc40350eea>\u001b[0m in \u001b[0;36m<cell line: 15>\u001b[0;34m()\u001b[0m\n\u001b[1;32m     13\u001b[0m \u001b[0;34m\u001b[0m\u001b[0m\n\u001b[1;32m     14\u001b[0m \u001b[0;34m\u001b[0m\u001b[0m\n\u001b[0;32m---> 15\u001b[0;31m \u001b[0mprinting_date_and_time\u001b[0m\u001b[0;34m(\u001b[0m\u001b[0;34m)\u001b[0m\u001b[0;34m\u001b[0m\u001b[0;34m\u001b[0m\u001b[0m\n\u001b[0m",
            "\u001b[0;32m<ipython-input-14-96cc40350eea>\u001b[0m in \u001b[0;36mprinting_date_and_time\u001b[0;34m()\u001b[0m\n\u001b[1;32m      2\u001b[0m \u001b[0;34m\u001b[0m\u001b[0m\n\u001b[1;32m      3\u001b[0m \u001b[0;32mdef\u001b[0m \u001b[0mprinting_date_and_time\u001b[0m\u001b[0;34m(\u001b[0m\u001b[0;34m)\u001b[0m\u001b[0;34m:\u001b[0m\u001b[0;34m\u001b[0m\u001b[0;34m\u001b[0m\u001b[0m\n\u001b[0;32m----> 4\u001b[0;31m   \u001b[0mday\u001b[0m \u001b[0;34m=\u001b[0m \u001b[0mint\u001b[0m\u001b[0;34m(\u001b[0m\u001b[0minput\u001b[0m\u001b[0;34m(\u001b[0m\u001b[0;34m\"Enter the day: \"\u001b[0m\u001b[0;34m)\u001b[0m\u001b[0;34m)\u001b[0m\u001b[0;34m\u001b[0m\u001b[0;34m\u001b[0m\u001b[0m\n\u001b[0m\u001b[1;32m      5\u001b[0m   \u001b[0mmonth\u001b[0m \u001b[0;34m=\u001b[0m \u001b[0mint\u001b[0m\u001b[0;34m(\u001b[0m\u001b[0minput\u001b[0m\u001b[0;34m(\u001b[0m\u001b[0;34m\"Enter the month: \"\u001b[0m\u001b[0;34m)\u001b[0m\u001b[0;34m)\u001b[0m\u001b[0;34m\u001b[0m\u001b[0;34m\u001b[0m\u001b[0m\n\u001b[1;32m      6\u001b[0m   \u001b[0myear\u001b[0m \u001b[0;34m=\u001b[0m \u001b[0mint\u001b[0m \u001b[0;34m(\u001b[0m\u001b[0minput\u001b[0m\u001b[0;34m(\u001b[0m\u001b[0;34m\"Enter the year: \"\u001b[0m\u001b[0;34m)\u001b[0m\u001b[0;34m)\u001b[0m\u001b[0;34m\u001b[0m\u001b[0;34m\u001b[0m\u001b[0m\n",
            "\u001b[0;32m/usr/local/lib/python3.10/dist-packages/ipykernel/kernelbase.py\u001b[0m in \u001b[0;36mraw_input\u001b[0;34m(self, prompt)\u001b[0m\n\u001b[1;32m    849\u001b[0m                 \u001b[0;34m\"raw_input was called, but this frontend does not support input requests.\"\u001b[0m\u001b[0;34m\u001b[0m\u001b[0;34m\u001b[0m\u001b[0m\n\u001b[1;32m    850\u001b[0m             )\n\u001b[0;32m--> 851\u001b[0;31m         return self._input_request(str(prompt),\n\u001b[0m\u001b[1;32m    852\u001b[0m             \u001b[0mself\u001b[0m\u001b[0;34m.\u001b[0m\u001b[0m_parent_ident\u001b[0m\u001b[0;34m,\u001b[0m\u001b[0;34m\u001b[0m\u001b[0;34m\u001b[0m\u001b[0m\n\u001b[1;32m    853\u001b[0m             \u001b[0mself\u001b[0m\u001b[0;34m.\u001b[0m\u001b[0m_parent_header\u001b[0m\u001b[0;34m,\u001b[0m\u001b[0;34m\u001b[0m\u001b[0;34m\u001b[0m\u001b[0m\n",
            "\u001b[0;32m/usr/local/lib/python3.10/dist-packages/ipykernel/kernelbase.py\u001b[0m in \u001b[0;36m_input_request\u001b[0;34m(self, prompt, ident, parent, password)\u001b[0m\n\u001b[1;32m    893\u001b[0m             \u001b[0;32mexcept\u001b[0m \u001b[0mKeyboardInterrupt\u001b[0m\u001b[0;34m:\u001b[0m\u001b[0;34m\u001b[0m\u001b[0;34m\u001b[0m\u001b[0m\n\u001b[1;32m    894\u001b[0m                 \u001b[0;31m# re-raise KeyboardInterrupt, to truncate traceback\u001b[0m\u001b[0;34m\u001b[0m\u001b[0;34m\u001b[0m\u001b[0m\n\u001b[0;32m--> 895\u001b[0;31m                 \u001b[0;32mraise\u001b[0m \u001b[0mKeyboardInterrupt\u001b[0m\u001b[0;34m(\u001b[0m\u001b[0;34m\"Interrupted by user\"\u001b[0m\u001b[0;34m)\u001b[0m \u001b[0;32mfrom\u001b[0m \u001b[0;32mNone\u001b[0m\u001b[0;34m\u001b[0m\u001b[0;34m\u001b[0m\u001b[0m\n\u001b[0m\u001b[1;32m    896\u001b[0m             \u001b[0;32mexcept\u001b[0m \u001b[0mException\u001b[0m \u001b[0;32mas\u001b[0m \u001b[0me\u001b[0m\u001b[0;34m:\u001b[0m\u001b[0;34m\u001b[0m\u001b[0;34m\u001b[0m\u001b[0m\n\u001b[1;32m    897\u001b[0m                 \u001b[0mself\u001b[0m\u001b[0;34m.\u001b[0m\u001b[0mlog\u001b[0m\u001b[0;34m.\u001b[0m\u001b[0mwarning\u001b[0m\u001b[0;34m(\u001b[0m\u001b[0;34m\"Invalid Message:\"\u001b[0m\u001b[0;34m,\u001b[0m \u001b[0mexc_info\u001b[0m\u001b[0;34m=\u001b[0m\u001b[0;32mTrue\u001b[0m\u001b[0;34m)\u001b[0m\u001b[0;34m\u001b[0m\u001b[0;34m\u001b[0m\u001b[0m\n",
            "\u001b[0;31mKeyboardInterrupt\u001b[0m: Interrupted by user"
          ]
        }
      ]
    },
    {
      "cell_type": "markdown",
      "metadata": {
        "id": "js7fy2HWXfm2"
      },
      "source": [
        "---\n",
        "### Exercise 6 - show the date and time in different formats\n",
        "\n",
        "Write a function that will create the same date as before but will then print it in the following 2 formats (using strftime again)\n",
        "\n",
        "Wed 24 July 2024 at 1730 hours  \n",
        "30 minutes past 5pm on July 24 2024\n",
        "\n",
        "*Hint: use 12 hour clock as decimal and remember that you can convert a string to lower case for pm.*"
      ]
    },
    {
      "cell_type": "code",
      "metadata": {
        "id": "KY1jtf3lX_ps",
        "outputId": "32ef7f9a-9f43-4ffd-beaf-501cd935fc19",
        "colab": {
          "base_uri": "https://localhost:8080/"
        }
      },
      "source": [
        "from datetime import datetime\n",
        "\n",
        "def printing_date_and_time():\n",
        "  day = int(input(\"Enter the day: \"))\n",
        "  month = int(input(\"Enter the month: \"))\n",
        "  year = int (input(\"Enter the year: \"))\n",
        "  hour = int(input(\"Enter the hour: \"))\n",
        "  minute = int(input(\"Enter the minute: \"))\n",
        "  second = int(input(\"Enter the second: \"))\n",
        "  date_and_time = datetime(year, month, day, hour, minute, second)\n",
        "  string_date = datetime.strftime(date_and_time, \"%a %d %B %Y at %H%M hours\")\n",
        "  alternate_date = datetime.strftime(date_and_time, \"%M minutes part %-I%p on %B %d %Y\")\n",
        "  print(string_date)\n",
        "  print(alternate_date)\n",
        "\n",
        "printing_date_and_time()"
      ],
      "execution_count": 15,
      "outputs": [
        {
          "output_type": "stream",
          "name": "stdout",
          "text": [
            "Enter the day: 24\n",
            "Enter the month: 7\n",
            "Enter the year: 2024\n",
            "Enter the hour: 17\n",
            "Enter the minute: 30\n",
            "Enter the second: 0\n",
            "Wed 24 July 2024 at 1730 hours\n",
            "30 minutes part 5PM on July 24 2024\n"
          ]
        }
      ]
    },
    {
      "cell_type": "markdown",
      "metadata": {
        "id": "9BuRDi08YAO0"
      },
      "source": [
        "---\n",
        "### Exercise 7 - display parts of date/time\n",
        "\n",
        "Write a function that will take a date and print from it the following:  \n",
        "*  given date and time  \n",
        "*  year (in full)\n",
        "*  month (as a number)\n",
        "*  month name\n",
        "*  week number of the year  \n",
        "*  weekday of the week (as a number)  \n",
        "*  day of year  \n",
        "*  day of the month  \n",
        "*  day of week (as a short name)  \n"
      ]
    },
    {
      "cell_type": "code",
      "metadata": {
        "id": "zl-37Ez9ahym"
      },
      "source": [
        "from datetime import datetime\n",
        "\n",
        "def display_dates_and_times():\n",
        "  input_date = str(input(\"Input date in DD/MM/YYYY format: \"))\n",
        "  date = datetime.strptime(input_date, \"%d/%m/%Y\")\n",
        "  print_date = datetime.strftime(date, \"%d/%m/%Y\")\n",
        "  year = datetime.strftime(date, \"year %Y\")\n",
        "  month = datetime.strftime(date, \"month %m\")\n",
        "  month_name = datetime.strftime(date, \"%B\")\n",
        "  week_year = datetime.strftime(date, \"week number %W\")\n",
        "  weekday_number = datetime.strftime(date, \"week day %w\")\n",
        "  day_year = datetime.strftime\n",
        "  day_month =\n",
        "  weekday_name ="
      ],
      "execution_count": null,
      "outputs": []
    },
    {
      "cell_type": "markdown",
      "source": [
        "---\n",
        "### Exercise 8 - create a datetime from a string using strptime()\n",
        "\n",
        "Write a function that will:  \n",
        "* create a string to hold a date in the format yyyy:dd:mm\n",
        "* print just the date in the format as shown below:  \n",
        "`day_name day_number short_month year`  \n",
        "\n",
        "Test input:  \n",
        "2023:12:2\n",
        "\n",
        "Expected output:\n",
        "  \n",
        "Sun 12 Feb 2023"
      ],
      "metadata": {
        "id": "Ww3txeHOh7Rm"
      }
    },
    {
      "cell_type": "code",
      "source": [],
      "metadata": {
        "id": "J0pX60wpiVrM"
      },
      "execution_count": null,
      "outputs": []
    },
    {
      "cell_type": "markdown",
      "metadata": {
        "id": "_rpTIoSDaiBj"
      },
      "source": [
        "---\n",
        "### Exercise 9 - next 6 days - a challenge\n",
        "\n",
        "**Scenario**\n",
        "\n",
        "The timedelta function is part of the datetime library and will allow you to create a value to represent a number of days (or months, etc) so that you can create a date in the future (like an expiry date).\n",
        "\n",
        "Watch this [video](https://vimeo.com/989587133/fccf9cb783?share=copy) to see timedelta in use\n",
        "\n",
        "**Your task**\n",
        "\n",
        "Write a function that will take a date and generate the dates of the following 6 days.  It should print each of the 6 days in this format:  \n",
        "\n",
        "e.g.  \n",
        "Friday, May 24 2024  \n",
        "Saturday, May 25 2024  \n",
        "Sunday, May 26 2024  \n",
        "Monday, May 27 2024  \n",
        "Tuesday, May ...\n",
        "\n",
        "*Hint:  to generate the days, use the function datetime.timedelta(), there is a good example of its use [here](https://www.geeksforgeeks.org/python-datetime-timedelta-function/)*\n",
        "\n",
        "DON'T FORGET TO IMPORT timedelta as well as datetime"
      ]
    },
    {
      "cell_type": "code",
      "metadata": {
        "id": "1d-oXqLLb0vX"
      },
      "source": [],
      "execution_count": null,
      "outputs": []
    },
    {
      "cell_type": "markdown",
      "metadata": {
        "id": "22Rhwx2Sb1Ey"
      },
      "source": [
        "---\n",
        "### Optional extra practice\n",
        "\n",
        "There are some similar and some more challenging exercises [here](https://www.w3resource.com/python-exercises/date-time-exercise/) if you would like to practice more. The site has its own editor."
      ]
    },
    {
      "cell_type": "markdown",
      "source": [
        "---\n",
        "# Takeaways\n",
        "\n",
        "* the datetime library has a number of functions for working with dates\n",
        "* you have used the `datetime` function and `timedelta` function\n",
        "* the `strftime()` function helps you to format parts of the date and time into strings to help format the data into text and the `strptime()` function helps you to create dates with differently organised date strings\n",
        "* changing the format of dates is a common data cleaning task"
      ],
      "metadata": {
        "id": "ebyScSG_hKFV"
      }
    }
  ]
}