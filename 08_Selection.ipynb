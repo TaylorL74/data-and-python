{
  "nbformat": 4,
  "nbformat_minor": 0,
  "metadata": {
    "colab": {
      "provenance": [],
      "include_colab_link": true
    },
    "kernelspec": {
      "name": "python3",
      "display_name": "Python 3"
    }
  },
  "cells": [
    {
      "cell_type": "markdown",
      "metadata": {
        "id": "view-in-github",
        "colab_type": "text"
      },
      "source": [
        "<a href=\"https://colab.research.google.com/github/TaylorL74/data-and-python/blob/main/08_Selection.ipynb\" target=\"_parent\"><img src=\"https://colab.research.google.com/assets/colab-badge.svg\" alt=\"Open In Colab\"/></a>"
      ]
    },
    {
      "cell_type": "markdown",
      "metadata": {
        "id": "GhX3Slbcp0ZV"
      },
      "source": [
        "## Selection (if...elif...else)\n",
        "\n",
        "---\n",
        "\n",
        "Before you start this worksheet and if you haven't already done so:\n",
        "\n",
        "\n",
        "*   Read the presentation on selection [here](https://docs.google.com/presentation/d/e/2PACX-1vQyi2XvmrLBS3B76zvsf7N9ooUIrduxv1WPPRvI2vo4aNdctHNTHOmAXS4PpsO_nY1KUzbOeoFRBs36/pub?start=false&loop=false&delayms=5000&slide=id.p)\n"
      ]
    },
    {
      "cell_type": "markdown",
      "metadata": {
        "id": "8hOKtaP7p8Nj"
      },
      "source": [
        "## Example Functions\n",
        "\n",
        "You were shown a number of functions in the presentation. Now it's your chance to try them out!"
      ]
    },
    {
      "cell_type": "markdown",
      "source": [
        "### Using if\n",
        "\n",
        "Run the code in the cell below to see what happens if you type in the year 2010.  Then try the year 2000."
      ],
      "metadata": {
        "id": "yxtORpAHXOYq"
      }
    },
    {
      "cell_type": "code",
      "metadata": {
        "id": "kVSTvk8ZtJkG",
        "colab": {
          "base_uri": "https://localhost:8080/"
        },
        "outputId": "32c271db-b0f0-450a-d60b-3fe1d0c7f7ce"
      },
      "source": [
        "from datetime import datetime\n",
        "\n",
        "# determine if user is old enough to drive\n",
        "def drive_age():\n",
        "    birth_year = int(input(\"What year were you born? \"))\n",
        "    current_year = datetime.now().year\n",
        "    age = current_year - birth_year\n",
        "    if age < 17:\n",
        "        print(\"You are too young to drive a car\")\n",
        "\n",
        "drive_age()"
      ],
      "execution_count": 2,
      "outputs": [
        {
          "name": "stdout",
          "output_type": "stream",
          "text": [
            "What year were you born? 2000\n"
          ]
        }
      ]
    },
    {
      "cell_type": "markdown",
      "metadata": {
        "id": "ZRdkf0RTtjCE"
      },
      "source": [
        "### Using else    \n",
        "\n",
        "Run the code in the cell below to see if it works for the years 2010 and 2000  "
      ]
    },
    {
      "cell_type": "code",
      "metadata": {
        "id": "2kWB9YtbuB5G",
        "colab": {
          "base_uri": "https://localhost:8080/"
        },
        "outputId": "0a3eeb55-0429-47c9-dbab-466f704c7f8c"
      },
      "source": [
        "from datetime import datetime\n",
        "\n",
        "# determine if user is old enough to drive or not\n",
        "def drive_age():\n",
        "    birth_year = int(input(\"What year were you born? \"))\n",
        "    current_year = datetime.now().year\n",
        "    age = current_year - birth_year\n",
        "    if age < 17:\n",
        "        print(\"You are too young to drive a car\")\n",
        "    else:\n",
        "        print(\"You are old enough to drive a car\")\n",
        "\n",
        "drive_age()"
      ],
      "execution_count": 3,
      "outputs": [
        {
          "output_type": "stream",
          "name": "stdout",
          "text": [
            "What year were you born? 2000\n",
            "You are old enough to drive a car\n"
          ]
        }
      ]
    },
    {
      "cell_type": "markdown",
      "metadata": {
        "id": "5_czxkMEuIBk"
      },
      "source": [
        "### Using elif\n",
        "\n",
        "Run the code in the cell below, try some different ages to get different results.    "
      ]
    },
    {
      "cell_type": "code",
      "metadata": {
        "id": "cKKbVayNvKU_",
        "colab": {
          "base_uri": "https://localhost:8080/"
        },
        "outputId": "ef9843f7-4bbe-47f4-b663-2b11c77b7cbc"
      },
      "source": [
        "def age_to_drive():\n",
        "    age = int(input(\"Please enter your age \"))\n",
        "    if age >= 17:\n",
        "        print(\"You are old enough to drive\")\n",
        "    elif age >= 13:\n",
        "        print(\"You are too young to drive but you are old enough to have a social media account\")\n",
        "    else:\n",
        "        print(\"You are too young to drive and to have a social media account\")\n",
        "\n",
        "age_to_drive()"
      ],
      "execution_count": 8,
      "outputs": [
        {
          "output_type": "stream",
          "name": "stdout",
          "text": [
            "Please enter your age 15\n",
            "You are too young to drive but you are old enough to have a social media account\n"
          ]
        }
      ]
    },
    {
      "cell_type": "markdown",
      "metadata": {
        "id": "t8-NQ7QevL3z"
      },
      "source": [
        "Here's another example, try this one out:    \n",
        "*  ask the user to enter their **name**.    \n",
        "*  if their `name` is Bill then print \"Where is Ben?\"  \n",
        "*  if their `name` is Ben print \"Where is Bill?\"  \n",
        "*  otherwise print \"Where are Bill and Ben?\"  "
      ]
    },
    {
      "cell_type": "code",
      "metadata": {
        "id": "lY9VVvQQvuM9",
        "colab": {
          "base_uri": "https://localhost:8080/"
        },
        "outputId": "19a0c69a-1b7a-4a89-83dd-36d25a624069"
      },
      "source": [
        "def bill_or_ben():\n",
        "    name = input(\"Who are you? \")\n",
        "    if name == \"Bill\":\n",
        "      print(\"Where is Ben?\")\n",
        "    elif name == \"Ben\":\n",
        "      print(\"Where is Bill?\")\n",
        "    else:\n",
        "      print(\"Where are Bill and Ben?\")\n",
        "\n",
        "bill_or_ben()"
      ],
      "execution_count": 9,
      "outputs": [
        {
          "output_type": "stream",
          "name": "stdout",
          "text": [
            "Who are you? Taylor\n",
            "Where are Bill and Ben?\n"
          ]
        }
      ]
    },
    {
      "cell_type": "markdown",
      "metadata": {
        "id": "-ouEfBiaqKc7"
      },
      "source": [
        "---\n",
        "### Exercise 1  - if and else\n",
        "\n",
        "Write a function called **find_greater()** which will:\n",
        "\n",
        "*  ask the user for 2 numbers (**num1** and **num2**)  \n",
        "*  use an `if` statement that compares the two numbers and prints the one that is the greater of the two.  "
      ]
    },
    {
      "cell_type": "code",
      "metadata": {
        "id": "BIhqeCOHpzOS",
        "colab": {
          "base_uri": "https://localhost:8080/"
        },
        "outputId": "22d73ad9-dee0-4143-d907-dabd64706cb1"
      },
      "source": [
        "def find_greater():\n",
        "  num1 = int(input(\"Enter first number: \"))\n",
        "  num2 = int(input(\"Enter second number: \"))\n",
        "  if num1 > num2:\n",
        "    print(f\"{num1} is the greater number\")\n",
        "  elif num2 > num1:\n",
        "    print(f\"{num2} is the greater number\")\n",
        "  else:\n",
        "    print(f\"The numbers are the same\")\n",
        "\n",
        "find_greater()"
      ],
      "execution_count": 12,
      "outputs": [
        {
          "output_type": "stream",
          "name": "stdout",
          "text": [
            "Enter first number: 9\n",
            "Enter second number: 2\n",
            "9 is the greater number\n"
          ]
        }
      ]
    },
    {
      "cell_type": "markdown",
      "metadata": {
        "id": "vkKL17eFy_R-"
      },
      "source": [
        "---\n",
        "### Exercise 2 - higher or lower\n",
        "\n",
        "Write a function called **guess_number()** which will generate a **random_number**, between 1 and 100, this has been done for you already:  \n",
        "\n",
        "*  ask the user to **guess** the `random_number`  \n",
        "*  if the `guess` is greater than the `random_number` print \"Too high\"  \n",
        "*  else if the `guess` is less than the `random_number` print \"Too low\"\n",
        "*  else, the `guess` must equal the `random_number` so print \"Correct!\"\n",
        "\n",
        "**Note**: randint is a function in the random library that will generate a random integer in the range you provide in the brackets.  \n",
        "\n",
        "**Try this**:  \n",
        "Once you have the code working, you could try adding the line  \n",
        "`print(random_number)`  \n",
        "directly after it has been generated, so that you can test your code by entering a number you know is too high, too low or equals the random number.  \n"
      ]
    },
    {
      "cell_type": "code",
      "metadata": {
        "id": "hmKpcdRv0UOd",
        "colab": {
          "base_uri": "https://localhost:8080/"
        },
        "outputId": "806a9ec1-9914-41f1-e35d-6ac16a1a48ad"
      },
      "source": [
        "from random import randint\n",
        "\n",
        "def guess_number():\n",
        "  random_number = randint(1,100)\n",
        "  print(random_number)\n",
        "  number = int(input(\"Enter guess here: \"))\n",
        "  if number < random_number:\n",
        "    print(\"Too low!\")\n",
        "  elif number > random_number:\n",
        "    print(\"Too high!\")\n",
        "  else:\n",
        "    print(f\"Correct! The number is {number}\")\n",
        "\n",
        "guess_number()"
      ],
      "execution_count": 15,
      "outputs": [
        {
          "output_type": "stream",
          "name": "stdout",
          "text": [
            "37\n",
            "Enter guess here: 37\n",
            "Correct! The number is 37\n"
          ]
        }
      ]
    },
    {
      "cell_type": "code",
      "source": [
        "from random import randint\n",
        "#Adding a loop so the user can keep submitting guesses\n",
        "def guess_number():\n",
        "  random_number = randint(1,100)\n",
        "  print(random_number)\n",
        "  number = int(input(\"Enter guess here: \"))\n",
        "  while number != random_number:\n",
        "    if number < random_number:\n",
        "      print(\"Too low!\")\n",
        "      number = int(input(\"Enter guess here: \"))\n",
        "    elif number > random_number:\n",
        "      print(\"Too high!\")\n",
        "      number = int(input(\"Enter guess here: \"))\n",
        "  print(f\"Correct! The number was {random_number}!\")\n",
        "\n",
        "guess_number()"
      ],
      "metadata": {
        "colab": {
          "base_uri": "https://localhost:8080/"
        },
        "id": "PUisA1o6U167",
        "outputId": "460637ed-d032-4fb7-c641-b24425392ddf"
      },
      "execution_count": 20,
      "outputs": [
        {
          "output_type": "stream",
          "name": "stdout",
          "text": [
            "74\n",
            "Enter guess here: 56\n",
            "Too low!\n",
            "Enter guess here: 89\n",
            "Too high!\n",
            "Enter guess here: 74\n",
            "Correct! The number was 74!\n"
          ]
        }
      ]
    },
    {
      "cell_type": "markdown",
      "metadata": {
        "id": "70COtAzd0UcZ"
      },
      "source": [
        "---\n",
        "### Exercise 3 - AM or PM\n",
        "\n",
        "Write a function called **is_afternoon()** which will:\n",
        "\n",
        "*  ask the user to enter the **time** in 24 hour clock format (e.g. 1759)  \n",
        "*  use floor division (by 100) to calculate the **hour**  \n",
        "*  use modulus (100) to calculate the **minutes**  \n",
        "*  if the **hour** is 12 or greater, assign \"PM\" to a variable called **am_pm** AND subtract 12 from `hour` and store the result back in `hour`  \n",
        "*  else assign \"AM\" to the `am_pm` variable   \n",
        "*  assign the value str(`hour`) + \":\" + str(`minutes`) + `am_pm` to a new variable called **text_time**  \n",
        "*  print the message \"The time is\", `text_time`    \n",
        "\n",
        "Test input:  \n",
        "1759  \n",
        "\n",
        "Expected output:  \n",
        "The time is 5:59PM  \n",
        "\n",
        "Test input:  \n",
        "1132  \n",
        "\n",
        "Expected output:  \n",
        "The time is 11:32AM"
      ]
    },
    {
      "cell_type": "code",
      "metadata": {
        "id": "FCVRtwjd2ZnH",
        "colab": {
          "base_uri": "https://localhost:8080/"
        },
        "outputId": "bd628d79-3b3f-4995-b4bf-1a06c17a26ac"
      },
      "source": [
        "def is_afternoon():\n",
        "  time_24 = int(input(\"Enter time in 24h format: \"))\n",
        "  hour = time_24 // 100\n",
        "  minutes = time_24 % 100\n",
        "  if hour <= 12:\n",
        "    am_pm = \"AM\"\n",
        "  else:\n",
        "    am_pm = \"PM\"\n",
        "    hour = hour - 12\n",
        "  text_time = f\"{hour}:{minutes}\" + am_pm\n",
        "  print(\"The time is \" + text_time)\n",
        "\n",
        "is_afternoon()"
      ],
      "execution_count": 26,
      "outputs": [
        {
          "output_type": "stream",
          "name": "stdout",
          "text": [
            "Enter time in 24h format: 1133\n",
            "The time is 11:33AM\n"
          ]
        }
      ]
    },
    {
      "cell_type": "markdown",
      "source": [
        "---\n",
        "## Using and / or\n",
        "\n",
        "\n",
        "Run the code in the cell below then change the values for cold and/or rain to `True` and/or `False` to check you get the expected output."
      ],
      "metadata": {
        "id": "Ox_kW054I-LH"
      }
    },
    {
      "cell_type": "code",
      "source": [
        "cold = False\n",
        "rain = True\n",
        "\n",
        "def weather_options():\n",
        "  if cold and rain:\n",
        "    print(\"Take an umbrella and a coat\")\n",
        "  elif cold or rain:\n",
        "    print(\"Take a coat\")\n",
        "  else:\n",
        "    print(\"You don't need a coat or an umbrella\")\n",
        "\n",
        "weather_options()"
      ],
      "metadata": {
        "id": "cAXDjUnoOtP2",
        "colab": {
          "base_uri": "https://localhost:8080/"
        },
        "outputId": "ef2a7244-4655-4b88-d129-5c1821301318"
      },
      "execution_count": 29,
      "outputs": [
        {
          "output_type": "stream",
          "name": "stdout",
          "text": [
            "Take a coat\n"
          ]
        }
      ]
    },
    {
      "cell_type": "markdown",
      "metadata": {
        "id": "pMnxknLW3XlM"
      },
      "source": [
        "---\n",
        "### Exercise 4 - Getting a number within limits\n",
        "\n",
        "Write a function called **validate()** which will:\n",
        "\n",
        "*  ask the user to enter a **number** between 1 and 100  \n",
        "*  if the `number` is less than 1 `or` more than 100, print the error message \"Number out of limits\"  \n",
        "*  else print \"Your number was\" followed by the `number`\n",
        "\n",
        "Test input:  \n",
        "50  \n",
        "\n",
        "Expected output:  \n",
        "Your number was 50  \n",
        "\n",
        "Test input:  \n",
        "150  \n",
        "\n",
        "Expected output:  \n",
        "Number out of limits"
      ]
    },
    {
      "cell_type": "code",
      "metadata": {
        "id": "cO7r4kYY3_aA",
        "colab": {
          "base_uri": "https://localhost:8080/"
        },
        "outputId": "fa9a4b45-6ba9-4670-a513-08617479d259"
      },
      "source": [
        "def validate():\n",
        "  number = int(input(\"Enter a number between 1 and 100: \"))\n",
        "  if number < 1 or number > 100:\n",
        "    print(\"Your number is out of limits\")\n",
        "  else:\n",
        "    print(f\"Your number was {number}\")\n",
        "\n",
        "validate()"
      ],
      "execution_count": 35,
      "outputs": [
        {
          "output_type": "stream",
          "name": "stdout",
          "text": [
            "Enter a number between 1 and 100: 200\n",
            "Your number is out of limits\n"
          ]
        }
      ]
    },
    {
      "cell_type": "markdown",
      "source": [
        "\n",
        "## Using not\n",
        "\n",
        "\n",
        "Play around with different values for cold and rain in the reverse weather function until you understand how it works."
      ],
      "metadata": {
        "id": "iTJAOw33MDWl"
      }
    },
    {
      "cell_type": "code",
      "source": [
        "cold = True\n",
        "rain = False\n",
        "\n",
        "def weather_options_reverse():\n",
        "  if not cold and not rain:\n",
        "    print(\"You don't need an umbrella or a coat\")\n",
        "  elif not cold or not rain:\n",
        "    print(\"Take a coat\")\n",
        "  else:\n",
        "    print(\"Take an umbrella and a coat\")\n",
        "\n",
        "weather_options_reverse()"
      ],
      "metadata": {
        "id": "VX9niDUEuuVE"
      },
      "execution_count": null,
      "outputs": []
    },
    {
      "cell_type": "markdown",
      "metadata": {
        "id": "NVecdtXu4AsM"
      },
      "source": [
        "---\n",
        "### Exercise 5 - getting a menu choice  \n",
        "\n",
        "Write a function called **process_menu()** which will:\n",
        "\n",
        "*  print the following menu:  \n",
        "\n",
        "What value would you like to see?  \n",
        "\n",
        "1. Pi  \n",
        "2. Plank’s constant  \n",
        "3. E  \n",
        "4. Square root of 2  \n",
        "\n",
        "*  ask the user to choose a **menu_option**  \n",
        "*  if the `menu_option` chosen is `not` between 1 and 4, print \"Invalid choice\"  \n",
        "*  else print the number of the `menu_option` chosen\n",
        "\n",
        "Test input:  \n",
        "2  \n",
        "\n",
        "Expected output:  \n",
        "2  \n",
        "\n",
        "Test input:  \n",
        "5  \n",
        "\n",
        "Expected output:  \n",
        "Invalid choice"
      ]
    },
    {
      "cell_type": "code",
      "metadata": {
        "id": "OXRoUAE15Oqq",
        "colab": {
          "base_uri": "https://localhost:8080/"
        },
        "outputId": "b83c16c3-92fc-4ea3-876f-68b8854952f5"
      },
      "source": [
        "def process_menu():\n",
        "  print(\"What value would you like to see?\")\n",
        "  option_1 = \"1. Pi\"\n",
        "  print(option_1)\n",
        "  option_2 = \"2. Plank's Constant\"\n",
        "  print(option_2)\n",
        "  option_3 = \"3. E\"\n",
        "  print(option_3)\n",
        "  option_4 = \"4. Square root of 2\"\n",
        "  print(option_4)\n",
        "  menu_option = int(input(\"Enter menu option: \"))\n",
        "  if menu_option < 1 or menu_option > 4:\n",
        "    print(\"Invalid choice\")\n",
        "  elif menu_option == 1:\n",
        "    print(\"You have chosen option \" + option_1)\n",
        "  elif menu_option == 2:\n",
        "    print(\"You have chosen option \" + option_2)\n",
        "  elif menu_option == 3:\n",
        "    print(\"You have chosen option \" + option_3)\n",
        "  elif menu_option == 4:\n",
        "    print(\"You have chosen option \" + option_4)\n",
        "\n",
        "process_menu()\n"
      ],
      "execution_count": 40,
      "outputs": [
        {
          "output_type": "stream",
          "name": "stdout",
          "text": [
            "What value would you like to see?\n",
            "1. Pi\n",
            "2. Plank's Constant\n",
            "3. E\n",
            "4. Square root of 2\n",
            "Enter menu option: 6\n",
            "Invalid choice\n"
          ]
        }
      ]
    },
    {
      "cell_type": "markdown",
      "metadata": {
        "id": "XLDdZqZd5O1s"
      },
      "source": [
        "---\n",
        "### Exercise 6 - acting on menu choice  \n",
        "\n",
        "Write a function called **process_menu_options()** which will:  \n",
        "\n",
        "*  print the following menu:  \n",
        "\n",
        "What value would you like to see?  \n",
        "\n",
        "1. Pi  \n",
        "2. Plank’s constant  \n",
        "3. E  \n",
        "4. Square root of 2  \n",
        "\n",
        "*  ask the user to choose a **menu_option**  \n",
        "*  if the `menu_option` is 1 print 3.14159265359  \n",
        "*  otherwise (*elif*) the `menu_option` is 2 print 6.62607004 × 10^-34 (in Python this would be written 6.62607004E-34)  \n",
        "*  otherwise if the `menu_option` is 3 - print 2.71828  \n",
        "*  otherwise if the `menu_option` is 4 - print 1.414  \n",
        "*  otherwise if the `menu_option` is anything *else* - print \"Invalid choice\"  \n",
        "\n",
        "Test input:  \n",
        "1  \n",
        "\n",
        "Expected output:  \n",
        "3.14159265359\n",
        "\n",
        "Test input:  \n",
        "4  \n",
        "\n",
        "Expected output:  \n",
        "1.414  \n",
        "\n",
        "Test input:  \n",
        "9  \n",
        "\n",
        "Expected output:  \n",
        "Invalid choice\n"
      ]
    },
    {
      "cell_type": "code",
      "metadata": {
        "id": "dXKzF9NI6mrB",
        "colab": {
          "base_uri": "https://localhost:8080/"
        },
        "outputId": "16af331e-2c27-4d09-a0bd-f534c3abba2c"
      },
      "source": [
        "def process_menu():\n",
        "  print(\"What value would you like to see?\")\n",
        "  option_1 = \"1. Pi\"\n",
        "  print(option_1)\n",
        "  option_2 = \"2. Plank's Constant\"\n",
        "  print(option_2)\n",
        "  option_3 = \"3. E\"\n",
        "  print(option_3)\n",
        "  option_4 = \"4. Square root of 2\"\n",
        "  print(option_4)\n",
        "  menu_option = int(input(\"Enter menu option: \"))\n",
        "  if menu_option == 1:\n",
        "    print(3.14159265359)\n",
        "  elif menu_option == 2:\n",
        "    print(\"6.62607004 × 10^-34\")\n",
        "  elif menu_option == 3:\n",
        "    print(2.71828)\n",
        "  elif menu_option == 4:\n",
        "    print(1.414)\n",
        "  else:\n",
        "    print(\"Invalid choice\")\n",
        "\n",
        "process_menu()"
      ],
      "execution_count": 45,
      "outputs": [
        {
          "output_type": "stream",
          "name": "stdout",
          "text": [
            "What value would you like to see?\n",
            "1. Pi\n",
            "2. Plank's Constant\n",
            "3. E\n",
            "4. Square root of 2\n",
            "Enter menu option: 1\n",
            "3.14159265359\n"
          ]
        }
      ]
    },
    {
      "cell_type": "markdown",
      "metadata": {
        "id": "R_42ktqd6m-O"
      },
      "source": [
        "---\n",
        "### Exercise 7 - positive or negative\n",
        "\n",
        "Write a function called **report_pos_or_neg()** which will:  \n",
        "\n",
        "*  ask a user to input a **number**  \n",
        "*  if the `number` is greater than 0, print `number` \"is a positive number\"\n",
        "*  otherwise if it is less than 0 print `number` \"is a negative number  \n",
        "*  otherwise print `number` \"is neither positive or negative\"\n",
        "\n",
        "Test Inputs:  \n",
        "0  \n",
        "50  \n",
        "-50\n",
        "\n",
        "Expected outputs:\n",
        "\n",
        "0 is neither positive or negative  \n",
        "50 is a positive number  \n",
        "-50 is a negative number  "
      ]
    },
    {
      "cell_type": "code",
      "metadata": {
        "id": "g2V-Ft_S8W6u",
        "colab": {
          "base_uri": "https://localhost:8080/"
        },
        "outputId": "a2ad86a4-f888-4055-8d62-6ed93a1dd651"
      },
      "source": [
        "def report_pos_or_neg():\n",
        "  number = int(input(\"Enter number:  \"))\n",
        "  if number > 0:\n",
        "    print(f\"{number} is a positive number\")\n",
        "  elif number < 0:\n",
        "    print(f\"{number} is a negative number\")\n",
        "  else:\n",
        "    print(f\"{number} is neither positive or negative\")\n",
        "\n",
        "report_pos_or_neg()"
      ],
      "execution_count": 49,
      "outputs": [
        {
          "output_type": "stream",
          "name": "stdout",
          "text": [
            "Enter number:  -50\n",
            "-50 is a negative number\n"
          ]
        }
      ]
    },
    {
      "cell_type": "markdown",
      "metadata": {
        "id": "xypYjlmR8XgM"
      },
      "source": [
        "---\n",
        "### Exercise 8 - traffic light actions  \n",
        "\n",
        "Write a function called **act_on_light()** which will:\n",
        "\n",
        "*  ask the user to enter a traffic light **colour**  \n",
        "*  if the `colour` is \"red\" print the message \"Stop the car\"  \n",
        "*  otherwise if the `colour` is \"amber\" print the message \"Stop if safe to do so\"  \n",
        "*  otherwise if the `colour` is \"green\" print the message \"Continue forward\"  \n",
        "*  otherwise if the `colour` is \"red and amber\" print the message \"Get ready to go\"  \n",
        "*  otherwise print \"That is not a traffic light colour\"  \n",
        "\n",
        "Test inputs:  \n",
        "red  \n",
        "amber  \n",
        "red and amber  \n",
        "blue    \n",
        "\n",
        "Expected output:  \n",
        "Stop the car  \n",
        "Stop if safe to do so  \n",
        "Get ready to go  \n",
        "That is not a traffic light colour  "
      ]
    },
    {
      "cell_type": "code",
      "metadata": {
        "id": "8UDIQJpa-SUx",
        "colab": {
          "base_uri": "https://localhost:8080/"
        },
        "outputId": "aa58aa12-2818-4379-9fdc-8c23bc029447"
      },
      "source": [
        "def act_on_light():\n",
        "  colour = str(input(\"Enter colour: \"))\n",
        "  if colour == \"red\":\n",
        "    print(\"Stop the car!\")\n",
        "  elif colour == \"amber\":\n",
        "    print(\"Stop if safe to do so\")\n",
        "  elif colour == \"green\":\n",
        "    print(\"Continue forward\")\n",
        "  elif colour == \"red and amber\":\n",
        "    print(\"Get ready to go\")\n",
        "  else:\n",
        "    print(\"That is not a traffic light colour\")\n",
        "\n",
        "act_on_light()"
      ],
      "execution_count": 54,
      "outputs": [
        {
          "output_type": "stream",
          "name": "stdout",
          "text": [
            "Enter colour: blue\n",
            "That is not a traffic light colour\n"
          ]
        }
      ]
    },
    {
      "cell_type": "markdown",
      "metadata": {
        "id": "rB4N8OaU-Sls"
      },
      "source": [
        "---\n",
        "### Exercise 9 - dealing with capitals\n",
        "\n",
        "Write a function called **check_capital()** which will:\n",
        "\n",
        "*  ask the user what is the **capital** city of Scotland  \n",
        "*  If they answer correctly (Edinburgh), tell them that they are correct, Edinburgh is the capital city. If they enter anything else, tell them \"No, Edinburgh is the capital city\"\n",
        "\n",
        "Test Inputs:  \n",
        "London  \n",
        "Edinburgh  \n",
        "edinburgh\n",
        "\n",
        "Expected output:\n",
        "No, Edinburgh is the capital city  \n",
        "You are correct, Edinburgh is the capital city  \n",
        "No, Edinburgh is the capital city  \n",
        "\n",
        "*(think about why it is likely that the output here is incorrect, and change the code to make it work)*"
      ]
    },
    {
      "cell_type": "code",
      "metadata": {
        "id": "MK3hL3Do_mOe",
        "colab": {
          "base_uri": "https://localhost:8080/"
        },
        "outputId": "4cc47745-3564-4b94-8cc9-7c32caa9ae89"
      },
      "source": [
        "def check_capital():\n",
        "  capital = str(input(\"What is the capital city of Scotland? \"))\n",
        "  if capital == \"Edinburgh\" or capital == \"edinburgh\":\n",
        "    print(\"Correct! Edinburgh is the capital city\")\n",
        "  else:\n",
        "    print(\"Incorrect :( Edinburgh is the capital city)\")\n",
        "\n",
        "\n",
        "check_capital()"
      ],
      "execution_count": 56,
      "outputs": [
        {
          "output_type": "stream",
          "name": "stdout",
          "text": [
            "What is the capital city of Scotland? london\n",
            "Incorrect :( Edinburgh is the capital city)\n"
          ]
        }
      ]
    },
    {
      "cell_type": "markdown",
      "metadata": {
        "id": "pouR5V6b_mYV"
      },
      "source": [
        "---\n",
        "### Exercise 10 - calculator\n",
        "\n",
        "Write a function called **calculate()** which will:\n",
        "\n",
        "*  asks the user for 2 numbers (**num1** and **num2**) and an **operator** (+, -, /, *)\n",
        "\n",
        "Use *if* statements to allow the user to perform calculations on these 2 numbers and provide the answer in a print statement.\n",
        "\n",
        "Test Inputs:  \n",
        "num1 = 2, num2 = 3, operator = +  \n",
        "num1 = 2, num2 = 3, operator = -  \n",
        "num1 = 2, num2 = 3, operator = *  \n",
        "num1 = 2, num2 = 3, operator = /  \n",
        "\n",
        "Expected output:  \n",
        "Your answer is 5  \n",
        "Your answer is -1  \n",
        "Your answer is 6  \n",
        "Your answer is 0.6666666666  "
      ]
    },
    {
      "cell_type": "code",
      "metadata": {
        "id": "Q7I1hiAj5AhE",
        "colab": {
          "base_uri": "https://localhost:8080/"
        },
        "outputId": "758f6419-8005-4761-ae18-26a9443509f2"
      },
      "source": [
        "def calculate():\n",
        "  num1 = int(input(\"Enter whole number: \"))\n",
        "  num2 = int(input(\"Enter second whole number: \"))\n",
        "  operator = str(input(\"Choose an operator: +, -, /, * \"))\n",
        "  if operator == \"+\":\n",
        "    answer = num1 + num2\n",
        "  elif operator == \"-\":\n",
        "    answer = num1 - num2\n",
        "  elif operator == \"/\":\n",
        "    answer = num1 / num2\n",
        "  elif operator == \"*\":\n",
        "    answer = num1 * num2\n",
        "  else:\n",
        "    print(\"Not a valid operator\")\n",
        "    answer = \"error\"\n",
        "  print(f\"The answer is {answer}\")\n",
        "\n",
        "calculate()"
      ],
      "execution_count": 60,
      "outputs": [
        {
          "output_type": "stream",
          "name": "stdout",
          "text": [
            "Enter whole number: 7\n",
            "Enter second whole number: 3\n",
            "Choose an operator: +, -, /, * /\n",
            "The answer is 2.3333333333333335\n"
          ]
        }
      ]
    },
    {
      "cell_type": "markdown",
      "source": [
        "---\n",
        "# Takeaways\n",
        "*  where a decision is needed we need to ask if something is the case and then do something if it is\n",
        "*  if something isn't the case, we need to specify what the alternative action is (else)  \n",
        "*  if there is a range of different actions, we would ask **if** the one most likely to be the case is true, then use **elif** to ask if other options are true, we would use **else** to catch anything that hasn't been specifically tested\n",
        "*  and, or and not can be used in if/else statements to evaluate multiple options\n",
        "*  selection is key to problem solving and this allows the code to follow different paths depending on what it knows so far\n",
        "*  selection is particularly useful in data processing in validating data as it is received (e.g. is this a valid date, is this number within range, is this item of the right data type)\n",
        "*  selection is also very useful in cleaning data (identifying where data is missing and either removing the row, or changing the data to a default."
      ],
      "metadata": {
        "id": "bvCJBcT_mcpN"
      }
    },
    {
      "cell_type": "markdown",
      "source": [
        "# Your thoughts on what you have learnt  \n",
        "\n",
        "Please add some comments in the box below to reflect on what you have learnt through completing this worksheet, and any problems you encountered while doing so."
      ],
      "metadata": {
        "id": "rfILSgYRmeM7"
      }
    },
    {
      "cell_type": "markdown",
      "source": [
        "Learned how to use operators to compare variables, and how to make selections and decisions using if/else statements.\n",
        "\n",
        "Must remember the : at the end of if/else statements, and that when using and/or to repeat the variable name (e.g. if number > 1 and number < 10, rather than if number > 1 and < 10)"
      ],
      "metadata": {
        "id": "N4C5t6bRmfPa"
      }
    }
  ]
}