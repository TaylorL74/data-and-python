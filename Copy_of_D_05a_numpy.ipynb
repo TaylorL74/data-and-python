{
  "nbformat": 4,
  "nbformat_minor": 0,
  "metadata": {
    "colab": {
      "provenance": [],
      "include_colab_link": true
    },
    "kernelspec": {
      "name": "python3",
      "display_name": "Python 3"
    },
    "language_info": {
      "name": "python"
    }
  },
  "cells": [
    {
      "cell_type": "markdown",
      "metadata": {
        "id": "view-in-github",
        "colab_type": "text"
      },
      "source": [
        "<a href=\"https://colab.research.google.com/github/TaylorL74/data-and-python/blob/main/Copy_of_D_05a_numpy.ipynb\" target=\"_parent\"><img src=\"https://colab.research.google.com/assets/colab-badge.svg\" alt=\"Open In Colab\"/></a>"
      ]
    },
    {
      "cell_type": "markdown",
      "metadata": {
        "id": "M21YTen340ZU"
      },
      "source": [
        "#Introduction to Numpy\n",
        "\n",
        "---"
      ]
    },
    {
      "cell_type": "markdown",
      "metadata": {
        "id": "MxKEUfvp54QO"
      },
      "source": [
        "\n",
        "## Creating new Numpy Arrays\n",
        "\n",
        "As shown in the presentation, it is convention to import the whole numpy library using an alias:\n",
        "\n",
        "`import numpy as np`\n",
        "\n",
        "Every time you want to use a function from the numpy library you use the syntax:  \n",
        "\n",
        "`np.function_name()`  \n",
        "\n",
        "Create a new numpy array from a Python list of numbers\n",
        "   \n",
        "`arr = np.array([1,2,3])`\n",
        "\n",
        "Or a new numpy matrix from a Python 2 dimensional list of numbers\n",
        "\n",
        "`matrix = np.array([[1,2,3],[4,5,6]])`\n",
        "\n",
        "Create a numpy array from a dataframe column (series):\n",
        "\n",
        "`arr = df['column name'].to_numpy(datatype)`\n",
        "\n",
        "where the datatype matches the data type of the column.\n",
        "\n"
      ]
    },
    {
      "cell_type": "markdown",
      "metadata": {
        "id": "s2HQHeHE6r4n"
      },
      "source": [
        "### Exercise 1 - create a new numpy array to hold the numbers from 1 to 10\n",
        "---\n",
        "\n",
        "Write a function called `make_array()` which will:\n",
        "*   create a list of the numbers 1 to 10     -   *hint: try using range() if you are more confident working with lists*\n",
        "*   create a new numpy array called **new_array** from that list\n",
        "*   print `new_array`\n",
        "\n",
        "Expected output:  \n",
        "`[1 2 3 4 5 6 7 8 9 10] `\n",
        "\n"
      ]
    },
    {
      "cell_type": "code",
      "metadata": {
        "id": "-WWVDSRq7QDN",
        "outputId": "20ff3b54-4051-4e7b-83f7-3459cd5ed780",
        "colab": {
          "base_uri": "https://localhost:8080/"
        }
      },
      "source": [
        "import numpy as np\n",
        "\n",
        "def make_array():\n",
        "  # Creating an empty list and setting a number to 1 for use in the loop\n",
        "  number_list = []\n",
        "  number = 1\n",
        "  # Creating a loop that will add the numbers 1 through 10 to the empty list\n",
        "  for i in range(10):\n",
        "    number_list.append(number)\n",
        "    number = number + 1\n",
        "\n",
        "  # Turning list into an array and printing it\n",
        "  new_array = np.array(number_list)\n",
        "  print(new_array)\n",
        "\n",
        "make_array()"
      ],
      "execution_count": null,
      "outputs": [
        {
          "output_type": "stream",
          "name": "stdout",
          "text": [
            "[ 1  2  3  4  5  6  7  8  9 10]\n"
          ]
        }
      ]
    },
    {
      "cell_type": "markdown",
      "metadata": {
        "id": "X2qc0-nc7qZV"
      },
      "source": [
        "## Setting the number type in memory\n",
        "\n",
        "As a reminder, set the memory type as follows, where **int8** is the datetype you wish to use.\n",
        "\n",
        "`new_array = np.array([1, 2, 3], np.int8)`    \n",
        "\n",
        "\n",
        "---\n",
        "### Exercise 2 - create list of smallish numbers\n",
        "\n",
        "Write a function which will:\n",
        "*   assign the list `[31112, 32321, 24567, 456, 324, 789]` to a variable called **num_list** (which has been done for you already)   \n",
        "*   create a new numpy array called **new_array** from `num_list`, with data size `int16`\n",
        "*   print `new_array`  \n",
        "\n",
        "\n",
        "Expected output:   \n",
        "```\n",
        "[31112 32321 24567 456 324 789]\n",
        "```\n",
        "\n",
        "*As an extra challenge, if you've complete the worksheet on user defined functions, change the function to accept num_list as a parameter, then the function should return the numpy array rather than print it.*"
      ]
    },
    {
      "cell_type": "code",
      "metadata": {
        "id": "XUMfMwhLACzH",
        "outputId": "3f5bf4fe-0b1b-46e4-9871-02ff6bcf99b2",
        "colab": {
          "base_uri": "https://localhost:8080/"
        }
      },
      "source": [
        "import numpy as np\n",
        "\n",
        "def create_new_array(num_list):\n",
        "\n",
        "  new_array = np.array([num_list], np.int16)\n",
        "  print(new_array)\n",
        "  return new_array\n",
        "\n",
        "\n",
        "\n",
        "num_list = [31112, 32321, 24567, 456, 324, 789]\n",
        "create_new_array(num_list)\n"
      ],
      "execution_count": null,
      "outputs": [
        {
          "output_type": "stream",
          "name": "stdout",
          "text": [
            "[[31112 32321 24567   456   324   789]]\n"
          ]
        },
        {
          "output_type": "execute_result",
          "data": {
            "text/plain": [
              "array([[31112, 32321, 24567,   456,   324,   789]], dtype=int16)"
            ]
          },
          "metadata": {},
          "execution_count": 10
        }
      ]
    },
    {
      "cell_type": "markdown",
      "metadata": {
        "id": "oC8rsm3yBLRd"
      },
      "source": [
        "---\n",
        "### Exercise 3 - create a numpy array from a pandas dataframe column\n",
        "\n",
        "Write a function which  will create a numpy array from the Fare column of the titanic dataset.\n",
        "\n",
        "*Recap*:  *the Fare column is df['Fare'] (assuming your dataframe is called df)*\n",
        "\n",
        "*  create a dataframe from the data set in the file at this url:  https://raw.githubusercontent.com/pandas-dev/pandas/master/doc/data/titanic.csv (this has been done for you)\n",
        "*  create a new numpy array called **fare** from the `Fare` column (*remember to specify the data type e.g. np.int32, float64 when using* `df.to_numpy()` *and consider what the datatype might be from looking at the expected output below*)  \n",
        "*  print the `fare` array\n",
        "\n",
        "Expected output:  \n",
        "```\n",
        "array([  7.25  ,  71.2833,   7.925 , ......  23.45  ,  30.    ,   7.75  ])\n",
        "```\n",
        "\n",
        "  "
      ]
    },
    {
      "cell_type": "code",
      "metadata": {
        "id": "QCs2eDFEBhr8",
        "outputId": "91bb1896-18d6-4f08-d9f9-4754d86504ee",
        "colab": {
          "base_uri": "https://localhost:8080/"
        }
      },
      "source": [
        "import pandas as pd\n",
        "import numpy as np\n",
        "\n",
        "url = \"https://raw.githubusercontent.com/pandas-dev/pandas/master/doc/data/titanic.csv\"\n",
        "df = pd.read_csv(url)\n",
        "\n",
        "def create_fare_series():\n",
        "  fare_array = np.array(df[\"Fare\"], np.float64)\n",
        "  print(fare_array)\n",
        "\n",
        "\n",
        "\n",
        "create_fare_series()"
      ],
      "execution_count": null,
      "outputs": [
        {
          "output_type": "stream",
          "name": "stdout",
          "text": [
            "[  7.25    71.2833   7.925   53.1      8.05     8.4583  51.8625  21.075\n",
            "  11.1333  30.0708  16.7     26.55     8.05    31.275    7.8542  16.\n",
            "  29.125   13.      18.       7.225   26.      13.       8.0292  35.5\n",
            "  21.075   31.3875   7.225  263.       7.8792   7.8958  27.7208 146.5208\n",
            "   7.75    10.5     82.1708  52.       7.2292   8.05    18.      11.2417\n",
            "   9.475   21.       7.8958  41.5792   7.8792   8.05    15.5      7.75\n",
            "  21.6792  17.8     39.6875   7.8     76.7292  26.      61.9792  35.5\n",
            "  10.5      7.2292  27.75    46.9      7.2292  80.      83.475   27.9\n",
            "  27.7208  15.2458  10.5      8.1583   7.925    8.6625  10.5     46.9\n",
            "  73.5     14.4542  56.4958   7.65     7.8958   8.05    29.      12.475\n",
            "   9.       9.5      7.7875  47.1     10.5     15.85    34.375    8.05\n",
            " 263.       8.05     8.05     7.8542  61.175   20.575    7.25     8.05\n",
            "  34.6542  63.3583  23.      26.       7.8958   7.8958  77.2875   8.6542\n",
            "   7.925    7.8958   7.65     7.775    7.8958  24.15    52.      14.4542\n",
            "   8.05     9.825   14.4583   7.925    7.75    21.     247.5208  31.275\n",
            "  73.5      8.05    30.0708  13.      77.2875  11.2417   7.75     7.1417\n",
            "  22.3583   6.975    7.8958   7.05    14.5     26.      13.      15.0458\n",
            "  26.2833  53.1      9.2167  79.2     15.2458   7.75    15.85     6.75\n",
            "  11.5     36.75     7.7958  34.375   26.      13.      12.525   66.6\n",
            "   8.05    14.5      7.3125  61.3792   7.7333   8.05     8.6625  69.55\n",
            "  16.1     15.75     7.775    8.6625  39.6875  20.525   55.      27.9\n",
            "  25.925   56.4958  33.5     29.125   11.1333   7.925   30.6958   7.8542\n",
            "  25.4667  28.7125  13.       0.      69.55    15.05    31.3875  39.\n",
            "  22.025   50.      15.5     26.55    15.5      7.8958  13.      13.\n",
            "   7.8542  26.      27.7208 146.5208   7.75     8.4042   7.75    13.\n",
            "   9.5     69.55     6.4958   7.225    8.05    10.4625  15.85    18.7875\n",
            "   7.75    31.       7.05    21.       7.25    13.       7.75   113.275\n",
            "   7.925   27.      76.2917  10.5      8.05    13.       8.05     7.8958\n",
            "  90.       9.35    10.5      7.25    13.      25.4667  83.475    7.775\n",
            "  13.5     31.3875  10.5      7.55    26.      26.25    10.5     12.275\n",
            "  14.4542  15.5     10.5      7.125    7.225   90.       7.775   14.5\n",
            "  52.5542  26.       7.25    10.4625  26.55    16.1     20.2125  15.2458\n",
            "  79.2     86.5    512.3292  26.       7.75    31.3875  79.65     0.\n",
            "   7.75    10.5     39.6875   7.775  153.4625 135.6333  31.       0.\n",
            "  19.5     29.7      7.75    77.9583   7.75     0.      29.125   20.25\n",
            "   7.75     7.8542   9.5      8.05    26.       8.6625   9.5      7.8958\n",
            "  13.       7.75    78.85    91.0792  12.875    8.85     7.8958  27.7208\n",
            "   7.2292 151.55    30.5    247.5208   7.75    23.25     0.      12.35\n",
            "   8.05   151.55   110.8833 108.9     24.      56.9292  83.1583 262.375\n",
            "  26.       7.8958  26.25     7.8542  26.      14.     164.8667 134.5\n",
            "   7.25     7.8958  12.35    29.      69.55   135.6333   6.2375  13.\n",
            "  20.525   57.9792  23.25    28.5    153.4625  18.     133.65     7.8958\n",
            "  66.6    134.5      8.05    35.5     26.     263.      13.      13.\n",
            "  13.      13.      13.      16.1     15.9      8.6625   9.225   35.\n",
            "   7.2292  17.8      7.225    9.5     55.      13.       7.8792   7.8792\n",
            "  27.9     27.7208  14.4542   7.05    15.5      7.25    75.25     7.2292\n",
            "   7.75    69.3     55.4417   6.4958   8.05   135.6333  21.075   82.1708\n",
            "   7.25   211.5      4.0125   7.775  227.525   15.7417   7.925   52.\n",
            "   7.8958  73.5     46.9     13.       7.7292  12.     120.       7.7958\n",
            "   7.925  113.275   16.7      7.7958   7.8542  26.      10.5     12.65\n",
            "   7.925    8.05     9.825   15.85     8.6625  21.       7.75    18.75\n",
            "   7.775   25.4667   7.8958   6.8583  90.       0.       7.925    8.05\n",
            "  32.5     13.      13.      24.15     7.8958   7.7333   7.875   14.4\n",
            "  20.2125   7.25    26.      26.       7.75     8.05    26.55    16.1\n",
            "  26.       7.125   55.9    120.      34.375   18.75   263.      10.5\n",
            "  26.25     9.5      7.775   13.       8.1125  81.8583  19.5     26.55\n",
            "  19.2583  30.5     27.75    19.9667  27.75    89.1042   8.05     7.8958\n",
            "  26.55    51.8625  10.5      7.75    26.55     8.05    38.5     13.\n",
            "   8.05     7.05     0.      26.55     7.725   19.2583   7.25     8.6625\n",
            "  27.75    13.7917   9.8375  52.      21.       7.0458   7.5208  12.2875\n",
            "  46.9      0.       8.05     9.5875  91.0792  25.4667  90.      29.7\n",
            "   8.05    15.9     19.9667   7.25    30.5     49.5042   8.05    14.4583\n",
            "  78.2667  15.1    151.55     7.7958   8.6625   7.75     7.6292   9.5875\n",
            "  86.5    108.9     26.      26.55    22.525   56.4958   7.75     8.05\n",
            "  26.2875  59.4      7.4958  34.0208  10.5     24.15    26.       7.8958\n",
            "  93.5      7.8958   7.225   57.9792   7.2292   7.75    10.5    221.7792\n",
            "   7.925   11.5     26.       7.2292   7.2292  22.3583   8.6625  26.25\n",
            "  26.55   106.425   14.5     49.5     71.      31.275   31.275   26.\n",
            " 106.425   26.      26.      13.8625  20.525   36.75   110.8833  26.\n",
            "   7.8292   7.225    7.775   26.55    39.6    227.525   79.65    17.4\n",
            "   7.75     7.8958  13.5      8.05     8.05    24.15     7.8958  21.075\n",
            "   7.2292   7.8542  10.5     51.4792  26.3875   7.75     8.05    14.5\n",
            "  13.      55.9     14.4583   7.925   30.     110.8833  26.      40.125\n",
            "   8.7125  79.65    15.      79.2      8.05     8.05     7.125   78.2667\n",
            "   7.25     7.75    26.      24.15    33.       0.       7.225   56.9292\n",
            "  27.       7.8958  42.4      8.05    26.55    15.55     7.8958  30.5\n",
            "  41.5792 153.4625  31.275    7.05    15.5      7.75     8.05    65.\n",
            "  14.4     16.1     39.      10.5     14.4542  52.5542  15.7417   7.8542\n",
            "  16.1     32.3208  12.35    77.9583   7.8958   7.7333  30.       7.0542\n",
            "  30.5      0.      27.9     13.       7.925   26.25    39.6875  16.1\n",
            "   7.8542  69.3     27.9     56.4958  19.2583  76.7292   7.8958  35.5\n",
            "   7.55     7.55     7.8958  23.       8.4333   7.8292   6.75    73.5\n",
            "   7.8958  15.5     13.     113.275  133.65     7.225   25.5875   7.4958\n",
            "   7.925   73.5     13.       7.775    8.05    52.      39.      52.\n",
            "  10.5     13.       0.       7.775    8.05     9.8417  46.9    512.3292\n",
            "   8.1375  76.7292   9.225   46.9     39.      41.5792  39.6875  10.1708\n",
            "   7.7958 211.3375  57.      13.4167  56.4958   7.225   26.55    13.5\n",
            "   8.05     7.7333 110.8833   7.65   227.525   26.2875  14.4542   7.7417\n",
            "   7.8542  26.      13.5     26.2875 151.55    15.2458  49.5042  26.55\n",
            "  52.       9.4833  13.       7.65   227.525   10.5     15.5      7.775\n",
            "  33.       7.0542  13.      13.      53.1      8.6625  21.       7.7375\n",
            "  26.       7.925  211.3375  18.7875   0.      13.      13.      16.1\n",
            "  34.375  512.3292   7.8958   7.8958  30.      78.85   262.375   16.1\n",
            "   7.925   71.      20.25    13.      53.1      7.75    23.      12.475\n",
            "   9.5      7.8958  65.      14.5      7.7958  11.5      8.05    86.5\n",
            "  14.5      7.125    7.2292 120.       7.775   77.9583  39.6      7.75\n",
            "  24.15     8.3625   9.5      7.8542  10.5      7.225   23.       7.75\n",
            "   7.75    12.475    7.7375 211.3375   7.2292  57.      30.      23.45\n",
            "   7.05     7.25     7.4958  29.125   20.575   79.2      7.75    26.\n",
            "  69.55    30.6958   7.8958  13.      25.9292   8.6833   7.2292  24.15\n",
            "  13.      26.25   120.       8.5167   6.975    7.775    0.       7.775\n",
            "  13.      53.1      7.8875  24.15    10.5     31.275    8.05     0.\n",
            "   7.925   37.0042   6.45    27.9     93.5      8.6625   0.      12.475\n",
            "  39.6875   6.95    56.4958  37.0042   7.75    80.      14.4542  18.75\n",
            "   7.2292   7.8542   8.3     83.1583   8.6625   8.05    56.4958  29.7\n",
            "   7.925   10.5     31.       6.4375   8.6625   7.55    69.55     7.8958\n",
            "  33.      89.1042  31.275    7.775   15.2458  39.4     26.       9.35\n",
            " 164.8667  26.55    19.2583   7.2292  14.1083  11.5     25.9292  69.55\n",
            "  13.      13.      13.8583  50.4958   9.5     11.1333   7.8958  52.5542\n",
            "   5.       9.      24.       7.225    9.8458   7.8958   7.8958  83.1583\n",
            "  26.       7.8958  10.5167  10.5      7.05    29.125   13.      30.\n",
            "  23.45    30.       7.75  ]\n"
          ]
        }
      ]
    },
    {
      "cell_type": "markdown",
      "source": [
        "---\n",
        "### Exercise 4 - print first 5 and last 5 items in numpy array\n",
        "\n",
        "Write a function which will create the same array as in the previous exercise (created from the Fare column in the titanic dataset):\n",
        "\n",
        "*  print the first 5 items in the array (one per line)\n",
        "*  print 5 lines of three dots (ie ...)\n",
        "*  print the last 5 items in the array (one per line)\n",
        "\n",
        "*Hint: You can slice an array from the beggining or the end and then print the values from that slice.*\n",
        "\n",
        "Note: If you have run the cell above in this session, the dataframe **df** will still be available for you to use.\n",
        "\n",
        "**Expected output**:  \n",
        "7.25 <br>\n",
        "71.2833 <br>\n",
        "7.925 <br>\n",
        "53.1 <br>\n",
        "8.05  \n",
        "...  \n",
        "...  \n",
        "...  \n",
        "...  \n",
        "...  \n",
        "13.0 <br>\n",
        "30.0 <br>\n",
        "23.45 <br>\n",
        "30.0 <br>\n",
        "7.75\n",
        "\n"
      ],
      "metadata": {
        "id": "u-eNIkYCNUKU"
      }
    },
    {
      "cell_type": "code",
      "metadata": {
        "id": "uFARauf3FiMf",
        "colab": {
          "base_uri": "https://localhost:8080/"
        },
        "outputId": "c40b5076-6e39-468d-dee3-4173b36dcd2e"
      },
      "source": [
        "import pandas as pd\n",
        "import numpy as np\n",
        "\n",
        "url = \"https://raw.githubusercontent.com/pandas-dev/pandas/master/doc/data/titanic.csv\"\n",
        "df = pd.read_csv(url)\n",
        "\n",
        "def show_head_tail():\n",
        "  # Creating an array from the fare column in the table\n",
        "  fare_array = np.array(df[\"Fare\"], np.float64)\n",
        "\n",
        "  # Using indexing to print the first 5 numbers in the array\n",
        "  for head_number in range(5):\n",
        "    print(fare_array[head_number])\n",
        "\n",
        "  # Printing elipses to indicate a gap in the data\n",
        "  for i in range(3):\n",
        "    print(\"...\")\n",
        "\n",
        "  # Using indexing to print the last 5 items in the array\n",
        "  tail_number = -5\n",
        "  for number in range(5):\n",
        "    print(fare_array[tail_number])\n",
        "    tail_number += 1\n",
        "\n",
        "\n",
        "show_head_tail()"
      ],
      "execution_count": null,
      "outputs": [
        {
          "output_type": "stream",
          "name": "stdout",
          "text": [
            "7.25\n",
            "71.2833\n",
            "7.925\n",
            "53.1\n",
            "8.05\n",
            "...\n",
            "...\n",
            "...\n",
            "13.0\n",
            "30.0\n",
            "23.45\n",
            "30.0\n",
            "7.75\n"
          ]
        }
      ]
    },
    {
      "cell_type": "markdown",
      "metadata": {
        "id": "Lg62ACAlLzT8"
      },
      "source": [
        "---\n",
        "### Exercise 5 - increase whole array by 20\n",
        "\n",
        "Write a function which will:\n",
        "*  create a numpy array of 12 numbers\n",
        "*  create a new array adding 20 to each of the items in the first array  \n",
        "*  print the new array\n",
        "\n",
        "Test input:  \n",
        "`[1,2,3,4,5,6,7,8,1,2,3,4]`\n",
        "\n",
        "Expected output:  \n",
        "`[21 22 23 24 25 26 27 28 21 22 23 24]`"
      ]
    },
    {
      "cell_type": "code",
      "metadata": {
        "id": "HloCtcOYMD3W",
        "colab": {
          "base_uri": "https://localhost:8080/"
        },
        "outputId": "e4f12125-ce1d-4b14-ac76-5aefced8d715"
      },
      "source": [
        "import numpy as np\n",
        "\n",
        "def increase_array():\n",
        "  number_array = np.array([1,2,3,4,5,6,7,8,1,2,3,4], np.int16)\n",
        "  new_array = number_array + 20\n",
        "  print(new_array)\n",
        "\n",
        "increase_array()"
      ],
      "execution_count": null,
      "outputs": [
        {
          "output_type": "stream",
          "name": "stdout",
          "text": [
            "[21 22 23 24 25 26 27 28 21 22 23 24]\n"
          ]
        }
      ]
    },
    {
      "cell_type": "markdown",
      "metadata": {
        "id": "B-p-PF99MECD"
      },
      "source": [
        "\n",
        "---\n",
        "### Exercise 6 - convert Titanic fares into 21st century values\n",
        "\n",
        "Write a function which will:    \n",
        "*  create a numpy array from the Fare column of the Titanic dataframe `df`\n",
        "*  convert the fares into current value (multiply by a factor of 120.7045 - source https://www.in2013dollars.com/uk/inflation/1912?amount=32 *accessed 22/1/2022*)\n",
        "*  sort the converted fares\n",
        "*  print the first (the smallest) and last (greatest) values of the sorted fares.\n",
        "\n",
        "Expected output:  \n",
        "```\n",
        "0.0\n",
        "61840.4399214\n",
        "\n",
        "```\n",
        "\n",
        "\n"
      ]
    },
    {
      "cell_type": "code",
      "metadata": {
        "id": "ahgPUqTjM9it",
        "colab": {
          "base_uri": "https://localhost:8080/"
        },
        "outputId": "617bae62-d9a2-4246-8ad3-1c67d58c8918"
      },
      "source": [
        "import pandas as pd\n",
        "import numpy as np\n",
        "\n",
        "url = \"https://raw.githubusercontent.com/pandas-dev/pandas/master/doc/data/titanic.csv\"\n",
        "df = pd.read_csv(url)\n",
        "\n",
        "def get_current_fares():\n",
        "  # Creating the fares array and multiplying it to change the values to modern equivalent\n",
        "  fare_array = np.array(df[\"Fare\"], np.float64)\n",
        "  modern_fares = fare_array * 120.7045\n",
        "  # Sorting the array from smallest to largest and printing the smallest and largest values\n",
        "  modern_fares.sort()\n",
        "  print(modern_fares[0])\n",
        "  print(modern_fares[-1])\n",
        "\n",
        "\n",
        "get_current_fares()"
      ],
      "execution_count": null,
      "outputs": [
        {
          "output_type": "stream",
          "name": "stdout",
          "text": [
            "0.0\n",
            "61840.4399214\n"
          ]
        }
      ]
    },
    {
      "cell_type": "markdown",
      "source": [
        "### Exercise 7 - filtering an array\n",
        "\n",
        "Write a function that will take a numpy array of 20 random numbers between 1 and 10 use array filtering to print the following:\n",
        "* numbers equal to 5 (arr == 5)\n",
        "* numbers less than or equal to 5 (arr <= 5)\n",
        "* numbers greater than 5 (arr > 5)\n",
        "* numbers not equal to 5 (arr != 5)\n",
        "\n",
        "Expected output:\n",
        "\n",
        "`[5 5]` <br>\n",
        "`[4 5 2 1 3 1 2 4 5 3 3 1]` <br>\n",
        "`[9 8 8 7 6 7 8 9]` <br>\n",
        "`[4 2 9 1 8 3 1 8 2 7 4 3 6 7 3 1 8 9]`\n"
      ],
      "metadata": {
        "id": "7fnQ2fMiKHaZ"
      }
    },
    {
      "cell_type": "code",
      "source": [
        "def filter_an_array():\n",
        "  arr = np.array([4, 5, 2, 9, 1, 8, 3, 1, 8, 2, 7, 4, 5, 3, 6, 7, 3, 1, 8, 9])\n",
        "\n",
        "  # Creating the filter conditions, applying the filter, and printing the array of filtered results. Repeat for each condition\n",
        "  filter_equal_five = arr == 5\n",
        "  passed_equal_five = arr[filter_equal_five]\n",
        "  print(passed_equal_five)\n",
        "\n",
        "  filter_less_five = arr <= 5\n",
        "  passed_less_five = arr[filter_less_five]\n",
        "  print(passed_less_five)\n",
        "\n",
        "  filter_greater_five = arr > 5\n",
        "  passed_greater_five = arr[filter_greater_five]\n",
        "  print(passed_greater_five)\n",
        "\n",
        "  filter_not_five = arr != 5\n",
        "  passed_not_five = arr[filter_not_five]\n",
        "  print(passed_not_five)\n",
        "\n",
        "filter_an_array()"
      ],
      "metadata": {
        "id": "r43N9B5YKOhT",
        "colab": {
          "base_uri": "https://localhost:8080/"
        },
        "outputId": "be0dda69-fafb-464b-f8e5-babbfc06d00e"
      },
      "execution_count": null,
      "outputs": [
        {
          "output_type": "stream",
          "name": "stdout",
          "text": [
            "[5 5]\n",
            "[4 5 2 1 3 1 2 4 5 3 3 1]\n",
            "[9 8 8 7 6 7 8 9]\n",
            "[4 2 9 1 8 3 1 8 2 7 4 3 6 7 3 1 8 9]\n"
          ]
        }
      ]
    },
    {
      "cell_type": "markdown",
      "source": [
        "### Exercise 8 - How many survivors?\n",
        "\n",
        "The `Survived` column in the titanic dataset contains two possible values: 0 if the person did not survive and 1 if they did.\n",
        "\n",
        "Write a function that will:\n",
        "\n",
        "* create a numpy array from the Survived column of the titanic dataframe `df`\n",
        "* count the length of the array (*Hint: you can use the `len()` function in the same way as you have done for strings and lists*) to find out how many people were on the titanic\n",
        "* filter the array for values greater than 0\n",
        "* find the length of the filtered array and calculate the percentage of survivors, rounded to 1 decimal place\n",
        "* print a statement that says how many people were on the titanic and what percentage survived."
      ],
      "metadata": {
        "id": "miZ1PhtgGHgg"
      }
    },
    {
      "cell_type": "code",
      "source": [
        "import pandas as pd\n",
        "import numpy as np\n",
        "\n",
        "url = \"https://raw.githubusercontent.com/pandas-dev/pandas/master/doc/data/titanic.csv\"\n",
        "df = pd.read_csv(url)\n",
        "\n",
        "def get_survival_rate():\n",
        "  # Creating an array of all the passengers and their survived status, and using that to find the total count of passengers\n",
        "  passenger = np.array(df[\"Survived\"], np.int64)\n",
        "  passenger_length = len(passenger)\n",
        "\n",
        "  # Using filtering to find how many passengers survived\n",
        "  filter_survivors = passenger > 0\n",
        "  passed = passenger[filter_survivors]\n",
        "\n",
        "  survivors = len(passed)\n",
        "\n",
        "  # Calculating the percentage of survivors\n",
        "  percentage = (survivors / passenger_length) * 100\n",
        "\n",
        "  print(f\"There were {passenger_length} people on the Titanic. Only {round(percentage, 1)}% of people survived.\")\n",
        "\n",
        "\n",
        "get_survival_rate()"
      ],
      "metadata": {
        "id": "W9pHMnGkGm66",
        "colab": {
          "base_uri": "https://localhost:8080/"
        },
        "outputId": "eebf751b-3b2b-40ba-b39c-3c6976bda633"
      },
      "execution_count": null,
      "outputs": [
        {
          "output_type": "stream",
          "name": "stdout",
          "text": [
            "There were 891 people on the Titanic. Only 38.4% of people survived.\n"
          ]
        }
      ]
    },
    {
      "cell_type": "markdown",
      "source": [
        "### Exercise 9 - Passenger Classes\n",
        "\n",
        "The `Pclass` column of the titanic dataset `df` shows the class of each passenger aboard, numbered 1 for first class, 2 for second class and 3 for third.\n",
        "\n",
        "Write a function that will\n",
        "* create a numpy array from the `Pclass` column\n",
        "* filters the array for only 1st class passengers and stores the result in a new variable\n",
        "* prints the number of first class passengers\n",
        "* repeats steps two and three for second and third class passengers\n",
        "\n",
        "Expected output:\n",
        "\n",
        "There were 216 first class passengers <br>\n",
        "There were 184 second class passengers <br>\n",
        "There were 491 third class passengers"
      ],
      "metadata": {
        "id": "NnMFVB6WKKJW"
      }
    },
    {
      "cell_type": "code",
      "source": [
        "import pandas as pd\n",
        "import numpy as np\n",
        "\n",
        "url = \"https://raw.githubusercontent.com/pandas-dev/pandas/master/doc/data/titanic.csv\"\n",
        "df = pd.read_csv(url)\n",
        "\n",
        "def get_class_counts():\n",
        "  class_array = np.array(df[\"Pclass\"], np.int64)\n",
        "\n",
        "  # Creating a filter for first class, applying it to the array and calculating the length of the array to find the number of first class passengers. Repeat for each class.\n",
        "  filter_first_class = class_array == 1\n",
        "  passed_first = len(class_array[filter_first_class])\n",
        "  print(f\"There were {passed_first} people aboard Titanic's first class.\")\n",
        "\n",
        "  filter_second_class = class_array == 2\n",
        "  passed_second = len(class_array[filter_second_class])\n",
        "  print(f\"There were {passed_second} people aboard Titanic's second class.\")\n",
        "\n",
        "  filter_third_class = class_array == 3\n",
        "  passed_third = len(class_array[filter_third_class])\n",
        "  print(f\"There were {passed_third} people aboard Titanic's third class.\")\n",
        "  # Passing the passenger count of each class out of the function for use in the next exercise\n",
        "  return passed_first, passed_second, passed_third\n",
        "\n",
        "\n",
        "first_class_count, second_class_count, third_class_count = get_class_counts()"
      ],
      "metadata": {
        "id": "XUTfV3HiKPFo",
        "colab": {
          "base_uri": "https://localhost:8080/"
        },
        "outputId": "3e256b3f-c9b3-432a-d77f-272d92bfcceb"
      },
      "execution_count": 18,
      "outputs": [
        {
          "output_type": "stream",
          "name": "stdout",
          "text": [
            "There were 216 people aboard Titanic's first class.\n",
            "There were 184 people aboard Titanic's second class.\n",
            "There were 491 people aboard Titanic's third class.\n"
          ]
        }
      ]
    },
    {
      "cell_type": "markdown",
      "source": [
        "### Exercise 10 - Survivor Stats\n",
        "\n",
        "When we have arrays that represent different columns of the same dataset, we can create a boolean mask from one array and then apply it as a filter to a different array.\n",
        "\n",
        "Write a function that does the following:\n",
        "* creates separate numpy arrays of the `Pclass` and `Survived` columns of the titanic dataset\n",
        "* creates a boolean mask to filter those that died (value == 0) using the Survived array\n",
        "* apply the filter to the Pclass array, assigning it to a new variable\n",
        "* use filtering in the same way as the previous exercise to find out how many people in each class were aboard the titanic and how many survived\n",
        "* calculate the percentage of people in each class who survived. Do the results surpise you?\n",
        "\n",
        "As an extra challenge, if you have completed the worksheet on user-defined functions and are confident with re-using functions, change the `get_class_counts()` function to return a value and use this in your `get_survivor_class_stats()` function."
      ],
      "metadata": {
        "id": "jhrHl6KnGZUn"
      }
    },
    {
      "cell_type": "code",
      "source": [
        "import numpy as np\n",
        "import pandas as pd\n",
        "\n",
        "url = \"https://raw.githubusercontent.com/pandas-dev/pandas/master/doc/data/titanic.csv\"\n",
        "df = pd.read_csv(url)\n",
        "\n",
        "# Passing data from the last exercise about the number of passegers in each class\n",
        "def get_survivor_class_stats(first_class_count, second_class_count, third_class_count):\n",
        "  class_array = np.array(df[\"Pclass\"], np.int64)\n",
        "  survivors_array = np.array(df[\"Survived\"], np.int64)\n",
        "\n",
        "  # Creating a filter for the survivors using the Survivors array, and applying it to the class array to create a new array of the passengers that died and their class type\n",
        "  filter_died = survivors_array == 0\n",
        "  class_died = class_array[filter_died]\n",
        "\n",
        "  # Filtering the new array by class to find the number of passengers that died in that class, repeat for each class\n",
        "  filter_first_class_deaths = class_died == 1\n",
        "  first_class_deaths = len(class_died[filter_first_class_deaths])\n",
        "\n",
        "  # Calculating the percentage that died in the class, and from that the percentage of survivors, repeat for each class\n",
        "  percentage_died_first = (first_class_deaths / first_class_count) * 100\n",
        "  percentage_survived_first = 100 - percentage_died_first\n",
        "\n",
        "  filter_second_class_deaths = class_died == 2\n",
        "  second_class_deaths = len(class_died[filter_second_class_deaths])\n",
        "\n",
        "  percentage_died_second = (second_class_deaths / second_class_count) * 100\n",
        "  percentage_survived_second = 100 - percentage_died_second\n",
        "\n",
        "  filter_third_class_deaths = class_died == 3\n",
        "  third_class_deaths = len(class_died[filter_third_class_deaths])\n",
        "\n",
        "  percentage_died_third = (third_class_deaths / third_class_count) * 100\n",
        "  percentage_survived_third = 100 - percentage_died_third\n",
        "\n",
        "  # Printing the percentage of survivors from each class and rounding the percentage to 0 decimal spaces\n",
        "  print(f\"{round(percentage_survived_first, 0)}% of people in First Class survived the sinking of the Titanic\")\n",
        "  print(f\"{round(percentage_survived_second, 0)}% of people in Second Class survived the sinking of the Titanic\")\n",
        "  print(f\"{round(percentage_survived_third, 0)}% of people in Third Class survived the sinking of the Titanic\")\n",
        "\n",
        "get_survivor_class_stats(first_class_count, second_class_count, third_class_count)"
      ],
      "metadata": {
        "id": "iDn6D61yGZEN",
        "colab": {
          "base_uri": "https://localhost:8080/"
        },
        "outputId": "b785e494-46a7-4f8a-f960-373a122442bd"
      },
      "execution_count": 22,
      "outputs": [
        {
          "output_type": "stream",
          "name": "stdout",
          "text": [
            "63.0% of people in First Class survived the sinking of the Titanic\n",
            "47.0% of people in Second Class survived the sinking of the Titanic\n",
            "24.0% of people in Third Class survived the sinking of the Titanic\n"
          ]
        }
      ]
    },
    {
      "cell_type": "markdown",
      "metadata": {
        "id": "yQyytEbnZ1lw"
      },
      "source": [
        "# Reflection\n",
        "----\n",
        "\n",
        "## What skills have you demonstrated in completing this notebook?"
      ]
    },
    {
      "cell_type": "markdown",
      "metadata": {
        "id": "MM00hR5aZk1-"
      },
      "source": [
        "Your answer: I have demonstrated that I understand how to import numpy and create arrays both from freestanding data, and data imported from files using pandas. I have shown that I know how to alter and perform calculations to all data in an array at once, and that I understand how to create filters and apply them to other arrays in order to analyse data from multiple columns and variables."
      ]
    },
    {
      "cell_type": "markdown",
      "metadata": {
        "id": "Zgexd27sZ1ly"
      },
      "source": [
        "## What caused you the most difficulty?"
      ]
    },
    {
      "cell_type": "markdown",
      "metadata": {
        "id": "-Y_nrVBwaGXr"
      },
      "source": [
        "Your answer: In exercise 4 I encountered errors due to unnecessary square brackets I had included when creating the array e.g.\n",
        "\n",
        "fare_array = np.array([df[\"Fare\"]], np.float64)\n",
        "\n",
        "instead of\n",
        "\n",
        "fare_array = np.array(df[\"Fare\"], np.float64) )"
      ]
    }
  ]
}