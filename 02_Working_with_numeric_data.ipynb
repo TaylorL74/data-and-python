{
  "nbformat": 4,
  "nbformat_minor": 0,
  "metadata": {
    "colab": {
      "provenance": [],
      "include_colab_link": true
    },
    "kernelspec": {
      "name": "python3",
      "display_name": "Python 3"
    }
  },
  "cells": [
    {
      "cell_type": "markdown",
      "metadata": {
        "id": "view-in-github",
        "colab_type": "text"
      },
      "source": [
        "<a href=\"https://colab.research.google.com/github/TaylorL74/data-and-python/blob/main/02_Working_with_numeric_data.ipynb\" target=\"_parent\"><img src=\"https://colab.research.google.com/assets/colab-badge.svg\" alt=\"Open In Colab\"/></a>"
      ]
    },
    {
      "cell_type": "markdown",
      "metadata": {
        "id": "3O7iro_BV0mL"
      },
      "source": [
        "# Working with Numeric Data\n",
        "\n"
      ]
    },
    {
      "cell_type": "markdown",
      "metadata": {
        "id": "ohKiZuy-OnDN"
      },
      "source": [
        "---\n",
        "### Exercise 1 - multiplication of integers\n",
        "\n",
        "**Scenario**\n",
        "You are working with a dataset about dogs. It contains a set of data on a dog's age.  You have been asked to create a new set of data to record the dog's age in human years (7 times longer)\n",
        "\n",
        "**Task**\n",
        "\n",
        "Try this out with just three dog ages.\n",
        "\n",
        "Write a function called **calculate_dog_human_ages()** which will:  \n",
        "\n",
        "*  create three integer variables called **dog_age1**, **dog_age2**, **dog_age3**\n",
        "*  calculate each dog's age in human years by multiplying it by 7, assigning it to a new variable called **dog_human_age1**, etc  \n",
        "*  print the three ages in human years    \n",
        "\n",
        "**Test Input**:  \n",
        "dog_age1 = 6  \n",
        "dog_age2 = 2  \n",
        "dog_age3 = 14    \n",
        "\n",
        "**Expected output**:  \n",
        "42  \n",
        "14  \n",
        "98  \n"
      ]
    },
    {
      "cell_type": "code",
      "metadata": {
        "id": "kWpM2m4nO7Ir",
        "outputId": "bc4ad4ee-5035-45af-ceb3-8e87cf55e17e",
        "colab": {
          "base_uri": "https://localhost:8080/"
        }
      },
      "source": [
        "# write your function here, starting with the definition (think about the name - it should say what the function does)\n",
        "def calculate_dog_human_ages():\n",
        "  #Take the input from users about the dogs age\n",
        "  dog_age1 = int(input(\"Insert age of dog one: \"))\n",
        "  dog_age2 = int(input(\"Insert age of dog two: \"))\n",
        "  dog_age3 = int(input(\"Insert age of dog three: \"))\n",
        "  #Calculate the human age equivalent\n",
        "  dog_human_age1 = dog_age1 * 7\n",
        "  dog_human_age2 = dog_age2 * 7\n",
        "  dog_human_age3 = dog_age3 * 7\n",
        "  #Display answers\n",
        "  print(dog_human_age1)\n",
        "  print(dog_human_age2)\n",
        "  print(dog_human_age3)\n",
        "\n",
        "calculate_dog_human_ages()"
      ],
      "execution_count": null,
      "outputs": [
        {
          "output_type": "stream",
          "name": "stdout",
          "text": [
            "Insert age of dog one: 6\n",
            "Insert age of dog two: 2\n",
            "Insert age of dog three: 14\n",
            "42\n",
            "14\n",
            "98\n"
          ]
        }
      ]
    },
    {
      "cell_type": "markdown",
      "metadata": {
        "id": "fvxtRRcfOnGr"
      },
      "source": [
        "---\n",
        "### Exercise 2 - calculating an average (BIDMAS)\n",
        "\n",
        "**Scenario**  \n",
        "A dataset holds a count of scoops of different flavours of ice cream bought from a seafront store during one summer. The owner needs to order for next year and can only order the same amount of each (to get a good discount).  Any flavour that is a way below average will be swapped to increase a flavour that is way above average.  \n",
        "\n",
        "Each number in the dataset represent the number of a particular flavour sold. The data is on paper and so will have to be typed in.  \n",
        "\n",
        "**Your task**  \n",
        "You have been asked to calculate the average number of scoops of each flavour.\n",
        "\n",
        "Write a function called **calculate_average()** which will:  \n",
        "\n",
        "*  ask the user for 5 separate numbers, **num1**, **num2**, etc  \n",
        "*  calculate the **average** of the five numbers\n",
        "*  print the `average`, rounded to the nearest whole number, use something like:  \n",
        " `rounded_average = round(average)`\n",
        "     \n",
        "*Hint: remember the BIDMAS order of operators and use brackets to change the order if necessary.*  \n",
        "*(B) - brackets, (I) - indices, (D) - division, (M) - multiplication, (A) - addition, (S) - subtraction*\n",
        "\n",
        "**Test Input**:  \n",
        "311  \n",
        "514  \n",
        "985  \n",
        "1678  \n",
        "50\n",
        "\n",
        "**Expected output**:  \n",
        "708"
      ]
    },
    {
      "cell_type": "code",
      "metadata": {
        "id": "jYtLq8olPRZM",
        "outputId": "a8f07c30-1fd8-4638-b50d-412ac56a781c",
        "colab": {
          "base_uri": "https://localhost:8080/"
        }
      },
      "source": [
        "def calculate_ice_cream_average():\n",
        "  #Collect data input\n",
        "  num1 = int(input(\"Enter data point 1: \"))\n",
        "  num2 = int(input(\"Enter data point 2: \"))\n",
        "  num3 = int(input(\"Enter data point 3: \"))\n",
        "  num4 = int(input(\"Enter data point 4: \"))\n",
        "  num5 = int(input(\"Enter data point 5: \"))\n",
        "  #Calculate average\n",
        "  Average = (num1 + num2 + num3 + num4 + num5) / 5\n",
        "  rounded_average = round(Average)\n",
        "  #Print results\n",
        "  print(rounded_average)\n",
        "\n",
        "calculate_ice_cream_average()"
      ],
      "execution_count": null,
      "outputs": [
        {
          "output_type": "stream",
          "name": "stdout",
          "text": [
            "Enter data point 1: 311\n",
            "Enter data point 2: 514\n",
            "Enter data point 3: 985\n",
            "Enter data point 4: 1678\n",
            "Enter data point 5: 50\n",
            "708\n"
          ]
        }
      ]
    },
    {
      "cell_type": "markdown",
      "metadata": {
        "id": "r9w0fiW-PR2D"
      },
      "source": [
        "---\n",
        "### Exercise 3 - converting values\n",
        "\n",
        "**Scenario**  \n",
        "A community health nurse has collected anonymous data about the heights of people who have attended a clinic during the day.  The heights are all recorded in metres.  To get the data ready for storage, the heights must be in centimetres, the last number in the data will be the average height (in cm).  The heights are all written on paper, there are 8 of them.\n",
        "\n",
        "**Your task**\n",
        "\n",
        "Write a function called **convert__to_cm()** which will:  \n",
        "\n",
        "*  ask the user to input the 8 heights (use **height1**, **height2**, etc)  \n",
        "*  convert each `height` to **height_cm** (multiply by 100)  \n",
        "*  for each print the `height_cm`\n",
        "*  THEN, calculate the average height and print it rounded to a whole number of centimetres\n",
        "\n",
        "*Remember, height in metres is usually a decimal, so data type matters*  \n",
        "\n",
        "**Test Input**:  \n",
        "1.67  \n",
        "1.4  \n",
        "1.62  \n",
        "1.53  \n",
        "1.7  \n",
        "1.35  \n",
        "1.76  \n",
        "1.2   \n",
        "\n",
        "**Expected output**:  \n",
        "167  \n",
        "140  \n",
        "162  \n",
        "153  \n",
        "170  \n",
        "135  \n",
        "176  \n",
        "120  \n",
        "Average  \n",
        "153\n",
        "\n"
      ]
    },
    {
      "cell_type": "code",
      "metadata": {
        "id": "2dMgvQlUPirV",
        "outputId": "ee82cbf7-7092-4759-9914-0774863c37b4",
        "colab": {
          "base_uri": "https://localhost:8080/"
        }
      },
      "source": [
        "def height_conversions_and_average():\n",
        "  #Recieve numbers via input from users\n",
        "  num1 = float(input(\"Please enter a height in meters: \"))\n",
        "  num2 = float(input(\"Please enter a height in meters: \"))\n",
        "  num3 = float(input(\"Please enter a height in meters: \"))\n",
        "  num4 = float(input(\"Please enter a height in meters: \"))\n",
        "  num5 = float(input(\"Please enter a height in meters: \"))\n",
        "  num6 = float(input(\"Please enter a height in meters: \"))\n",
        "  num7 = float(input(\"Please enter a height in meters: \"))\n",
        "  num8 = float(input(\"Please enter a height in meters: \"))\n",
        "  #Convert numbers given in meters to centimeters\n",
        "  num1_cm = num1 * 100\n",
        "  num2_cm = num2 * 100\n",
        "  num3_cm = num3 * 100\n",
        "  num4_cm = num4 * 100\n",
        "  num5_cm = num5 * 100\n",
        "  num6_cm = num6 * 100\n",
        "  num7_cm = num7 * 100\n",
        "  num8_cm = num8 * 100\n",
        "  #Calculate the average height\n",
        "  average = (num1_cm + num2_cm + num3_cm + num4_cm + num5_cm + num6_cm + num7_cm + num8_cm) / 8\n",
        "  rounded_average = round(average)\n",
        "  #Print results\n",
        "  message = \"The patient heights in centimeters are \" + str(num1_cm) + \", \" + str(num2_cm) + \", \" + str(num3_cm) + \", \" + str(num4_cm) + \", \" + str(num5_cm) + \", \" + str(num6_cm) + \", \" + str(num7_cm) + \", \" + str(num8_cm) + \", and the average height was \" + str(rounded_average)\n",
        "  print(message)\n",
        "\n",
        "height_conversions_and_average()\n",
        "\n"
      ],
      "execution_count": null,
      "outputs": [
        {
          "output_type": "stream",
          "name": "stdout",
          "text": [
            "Please enter a height in meters: 1.67\n",
            "Please enter a height in meters: 1.4\n",
            "Please enter a height in meters: 1.62\n",
            "Please enter a height in meters: 1.53\n",
            "Please enter a height in meters: 1.7\n",
            "Please enter a height in meters: 1.35\n",
            "Please enter a height in meters: 1.76\n",
            "Please enter a height in meters: 1.2\n",
            "The patient heights in centimeters are 167.0, 140.0, 162.0, 153.0, 170.0, 135.0, 176.0, 120.0, and the average height was 153\n"
          ]
        }
      ]
    },
    {
      "cell_type": "markdown",
      "metadata": {
        "id": "QTprQ2zhPi9L"
      },
      "source": [
        "---\n",
        "### Exercise 4 - float and formatting printing\n",
        "\n",
        "**Scenario**  \n",
        "\n",
        "At the time of writing, the exchange rate from Pounds (£) to Euros (€) is 1.16 (£1 = €1.16).  A dataset has share prices in pence (not pounds) and will need a new set of data added with the equivalent values in euros.\n",
        "\n",
        "**Your task**  \n",
        "\n",
        "Write a function called **convert_currency()** which will:\n",
        "\n",
        "You will use the file **\"sample_data/share_prices.txt\"** which should be pre-loaded in this worksheet.  If it isn't then download it from [here](https://drive.google.com/uc?id=17CwpYENup8UyOCma4ohPYQ317mfCfi67) and upload it into the sample data folder.  \n",
        "\n",
        "Before you start, take a look at the file in the sample data folder (double-click to open it) and decide what type of numbers you are dealing with (int or float?)\n",
        "\n",
        "*  read an amount in **pence** from the text file \"sample_data/share_prices.txt\" for each of the first FOUR prices in the list only  \n",
        "*  convert to **pounds** without rounding\n",
        "*  calculate the equivalent number of **euros**  \n",
        "*  print `euros`, rounded to 2 decimal places  \n",
        "\n",
        "**Test Input**:  \n",
        "In file \"share_prices.txt\"\n",
        "\n",
        "**Expected output**:  \n",
        "€  \n",
        "35.66  \n",
        "30.05  \n",
        "1.37  \n",
        "26.19  \n",
        "\n",
        "\n",
        "\n",
        "\n",
        "*If your keyboard does not have the € euro sign, then you might get it by using ctrl+alt+4 or copy and paste the euro sign above into your code*"
      ]
    },
    {
      "cell_type": "code",
      "metadata": {
        "id": "DXqxS75kQWOm",
        "outputId": "0096dbfe-aa8f-48eb-ea9b-e30f0b9e7098",
        "colab": {
          "base_uri": "https://localhost:8080/"
        }
      },
      "source": [
        "def pounds_to_euros():\n",
        "  #Open file\n",
        "  with  open(\"sample_data/share_prices.txt\") as datafile:\n",
        "    #Read data from file\n",
        "    num1 = float(datafile.readline())\n",
        "    num2 = float(datafile.readline())\n",
        "    num3 = float(datafile.readline())\n",
        "    num4 = float(datafile.readline())\n",
        "    #Convert to pounds\n",
        "    pounds1 = num1 / 100\n",
        "    pounds2 = num2 / 100\n",
        "    pounds3 = num3 / 100\n",
        "    pounds4 = num4 / 100\n",
        "    #Convert to euros\n",
        "    euros1 = pounds1 * 1.16\n",
        "    euros2 = pounds2 * 1.16\n",
        "    euros3 = pounds3 * 1.16\n",
        "    euros4 = pounds4 * 1.16\n",
        "    #Round to 2 decimal places\n",
        "    euros1_R = round(euros1, 2)\n",
        "    euros2_R = round(euros2, 2)\n",
        "    euros3_R = round(euros3, 2)\n",
        "    euros4_R = round(euros4, 2)\n",
        "    #Print results\n",
        "    message = \"The share prices are €\" + str(euros1_R) + \"; €\" + str(euros2_R) + \"; €\" + str(euros3_R) + \"; €\" + str(euros1_R)\n",
        "    print(message)\n",
        "\n",
        "pounds_to_euros()\n"
      ],
      "execution_count": 18,
      "outputs": [
        {
          "output_type": "stream",
          "name": "stdout",
          "text": [
            "The share prices are €35.66; €30.05; €1.37; €35.66\n"
          ]
        }
      ]
    },
    {
      "cell_type": "markdown",
      "metadata": {
        "id": "Eur4tRWUQWYL"
      },
      "source": [
        "---\n",
        "### Exercise 5 - rounding\n",
        "\n",
        "**Scenario**\n",
        "\n",
        "The *number of thousands* of families visiting a popular seaside attraction, in the winter, spring, summer and autumn, respectively, are given below.\n",
        "\n",
        "**Your task**\n",
        "\n",
        "Write a function called **calculate_visitor_stats()** which will:  \n",
        "\n",
        "*  assign the numbers 3.145, 5.672, 9.34, 4.138 to the variables named for the respective season  \n",
        "*  calculate the **total** actual number of families over the year (as a whole number)  \n",
        "*  calculate the **average** number of thousands of families per season, rounded to 2 decimal places\n",
        "*  calculate the **income** generated over the year from family tickets, priced at £25 per family in the winter, £30 per family in the spring and autumn and £40 per family in the summer (as a whole number)  \n",
        "*  print `total`, `average`, `income` in messages which are labelled (see expected output)   \n",
        "\n",
        "**Test input**:   \n",
        "Given above  \n",
        "\n",
        "**Expected output**:   \n",
        "Total families  \n",
        "22295    \n",
        "Average families per season (1000s)  \n",
        "5.57  \n",
        "Total income (£)  \n",
        "746525\n",
        "\n",
        "\n",
        "*Remember to calculate the average you divide the total by the quantity of numbers, e.g. total/4*\n"
      ]
    },
    {
      "cell_type": "code",
      "metadata": {
        "id": "pD1lMOhuRZvd",
        "colab": {
          "base_uri": "https://localhost:8080/"
        },
        "outputId": "a9c8dadd-bcdf-4b1e-c6a0-7ec145a3627c"
      },
      "source": [
        "def calculate_visitor_stats():\n",
        "  #Take input of seasonal family visit numbers\n",
        "  winter_stat = float(input(\"Enter number of families visiting in winter by the thousand: \"))\n",
        "  spring_stat = float(input(\"Enter number of families visiting in spring by the thousand: \"))\n",
        "  summer_stat = float(input(\"Enter number of families visiting in summer by the thouand: \"))\n",
        "  autumn_stat = float(input(\"Enter number of families visiting in summer by the thousand: \"))\n",
        "  #Calculate yearly total families and round\n",
        "  Total_families = (winter_stat * 1000) + (spring_stat * 1000) + (summer_stat * 1000) + (autumn_stat * 1000)\n",
        "  Total_familiesR = round(Total_families)\n",
        "  #Calculate seasonal average families and round\n",
        "  Per_season_avg = (winter_stat + spring_stat + summer_stat + autumn_stat) / 4\n",
        "  Per_season_avgR = round(Per_season_avg, 2)\n",
        "  #Calculate total yearly income\n",
        "  Total_income_W = (winter_stat * 1000)  * 25\n",
        "  Total_income_Sp = (spring_stat * 1000) * 30\n",
        "  Total_income_Su = (summer_stat * 1000) * 40\n",
        "  Total_income_A = (autumn_stat * 1000) * 30\n",
        "  Total_income_year = Total_income_W + Total_income_Sp + Total_income_Su + Total_income_A\n",
        "  message = \"The total number of families that visited is \" + str(Total_familiesR) + \", the average number of families that visited each season was \" + str(Per_season_avgR) + \", and the total yearly income was £\" + str(Total_income_year)\n",
        "  print(message)\n",
        "\n",
        "calculate_visitor_stats()\n",
        "\n",
        "\n"
      ],
      "execution_count": 1,
      "outputs": [
        {
          "output_type": "stream",
          "name": "stdout",
          "text": [
            "Enter number of families visiting in winter by the thousand: 3.145\n",
            "Enter number of families visiting in spring by the thousand: 5.672\n",
            "Enter number of families visiting in summer by the thouand: 9.34\n",
            "Enter number of families visiting in summer by the thousand: 4.138\n",
            "The total number of families that visited is 22295, the average number of families that visited each season was 5.57, and the total yearly income was £746525.0\n"
          ]
        }
      ]
    },
    {
      "cell_type": "markdown",
      "metadata": {
        "id": "jsV3uF5aRZ56"
      },
      "source": [
        "---\n",
        "### Exercise 6 - calculating volume\n",
        "\n",
        "**Scenario**\n",
        "\n",
        "Bill is a house mover. He has some data on cardboard packing boxes.  The data has the dimensions of packing boxes but not the volume that they hold.  He wants to add an extra piece of data for each that holds the volume.\n",
        "\n",
        "The calculation will be the same for each set of dimensions, so you should design the logic for this by writing a function that will calculate the volume for one box.  Then the same function can be used for each set of box dimensions.\n",
        "\n",
        "**Your task**\n",
        "\n",
        "Write a function called **calculate_volume()** which will:   \n",
        "\n",
        "*  assign the value 3.2, 5.6 and 7.8 to the variables **base**, **width** and **height** respectively  \n",
        "*  calculate the **box_volume** rounded to 1 decimal place  \n",
        "*  print the `box_volume`\n",
        "\n",
        "*Hint: volume = base x width x height*\n",
        "\n",
        "Expected output:  \n",
        "139.8\n"
      ]
    },
    {
      "cell_type": "code",
      "metadata": {
        "id": "WVLFFYayRwcN",
        "colab": {
          "base_uri": "https://localhost:8080/"
        },
        "outputId": "53d04331-801b-4117-eba7-b59f79aaef75"
      },
      "source": [
        "def calculate_volume():\n",
        "  base = float(input(\"Please enter base length: \"))\n",
        "  width = float(input(\"Please enter width: \"))\n",
        "  height = float(input(\"Please enter height: \"))\n",
        "  volume = base * width * height\n",
        "  volumeR = round(volume, 1)\n",
        "  message = \"The box volume is \" + str(volumeR)\n",
        "  print(message)\n",
        "\n",
        "calculate_volume()"
      ],
      "execution_count": 12,
      "outputs": [
        {
          "output_type": "stream",
          "name": "stdout",
          "text": [
            "Please enter base length: 4.5\n",
            "Please enter width: 6.8\n",
            "Please enter height: 3.4\n",
            "The box volume is 104.0\n"
          ]
        }
      ]
    },
    {
      "cell_type": "markdown",
      "metadata": {
        "id": "eGo_VENXRwo0"
      },
      "source": [
        "---\n",
        "### Exercise 7 - calculating with volumes\n",
        "\n",
        "**Scenario**\n",
        "\n",
        "Bill would like a look up function to help him to calculate how many boxes he will need for a move.  He would like a function that will calculate how many boxes he needs once he has entered the volume of stuff. There can't be any stuff left over so even if the last bit won't fill a whole box, a box is still needed.\n",
        "\n",
        "**Your task**\n",
        "\n",
        "Building on what you did in the last exercise, write a function called **calculate_boxes()** which will:  \n",
        "\n",
        "*  calculate the volume of a box, using a **base** of 3.2, **width** of 5.6 and **height** of 7.8  \n",
        "*  ask Bill for the **total_volume** of the stuff he needs to move (use input() )  \n",
        "*  calculate the total **number_of_boxes** he will need, and print the `number_of_boxes`  \n",
        "\n",
        "*Hint: the `number_of_boxes` will not be a whole number - you should use floor division and add one to the answer (for the box that will have the leftovers).*\n",
        "\n",
        "Test Input:  \n",
        "1500  \n",
        "\n",
        "Expected output:  \n",
        "11  \n"
      ]
    },
    {
      "cell_type": "code",
      "metadata": {
        "id": "0X6TKFubSIpT",
        "colab": {
          "base_uri": "https://localhost:8080/"
        },
        "outputId": "4f92dc33-3743-497e-ad55-1852a0fa998d"
      },
      "source": [
        "def calculate_volume():\n",
        "  base = float(input(\"Please enter base length: \"))\n",
        "  width = float(input(\"Please enter width: \"))\n",
        "  height = float(input(\"Please enter height: \"))\n",
        "  volume_required = float(input(\"Please enter volume of goods required to be transported: \"))\n",
        "  box_volume = base * width * height\n",
        "  boxes = volume_required // box_volume\n",
        "  number_of_boxes = boxes + 1\n",
        "  message = \"You will need \"  + str(number_of_boxes) + \" boxes for this job.\"\n",
        "  print(message)\n",
        "\n",
        "calculate_volume()"
      ],
      "execution_count": 5,
      "outputs": [
        {
          "output_type": "stream",
          "name": "stdout",
          "text": [
            "Please enter base length: 3.2\n",
            "Please enter width: 5.6\n",
            "Please enter height: 7.8\n",
            "Please enter volume of goods required to be transported: 1500\n",
            "You will need 11.0 boxes for this job.\n"
          ]
        }
      ]
    },
    {
      "cell_type": "markdown",
      "metadata": {
        "id": "paxj6AccSIwy"
      },
      "source": [
        "---\n",
        "### Exercise 8 - parcel charge lookup\n",
        "\n",
        "**Scenario**\n",
        "\n",
        "A parcel delivery company needs to use pricing data to allow desk staff to look up the price based on the weights of each set of parcels to be delivered for a customer.  This will be added to the data being stored.\n",
        "\n",
        "**Your task**\n",
        "\n",
        "Write a function called **calculate_parcel_weight()** which will:  \n",
        "\n",
        "*  ask the user to enter the customer_reference, then the weights, in kg, of four parcels (**weight1, weight2, weight3, weight4**)\n",
        "*  calculate the total **parcel_weight** and display this in a whole number of kg, **always** rounded up to the next kg\n",
        "*  print the customer's reference followed by the total `parcel_weight`\n",
        "\n",
        "*Hint: if you use round(), it could either round up or down. In this scenario, we always need to round up.  Floor division could be a better option - divide by 1 to round down and then add one.  This way 8.11kg will be recorded as 9kg in the same way as 8.77kg would be charged as 9kg so that as long as it is **at least** 8kg, it is recorded as 9kg.* (dealing with exactly 8kg will be left for a later version)\n",
        "\n",
        "**Test Inputs**:  \n",
        "CUST1\n",
        "\n",
        "1.23  \n",
        "2.84  \n",
        "1.675  \n",
        "3.03  \n",
        "\n",
        "**Expected output**:  \n",
        "CUST1, 9kg\n"
      ]
    },
    {
      "cell_type": "code",
      "metadata": {
        "id": "Lulkpg6rStwT",
        "colab": {
          "base_uri": "https://localhost:8080/"
        },
        "outputId": "370b2210-8964-43c9-da34-c910794239be"
      },
      "source": [
        "def calculate_parcel_weight():\n",
        "  reference = str(input(\"Please enter customer reference number: \"))\n",
        "  parcel1 = float(input(\"Please enter parcel weight: \"))\n",
        "  parcel2 = float(input(\"Please enter parcel weight: \"))\n",
        "  parcel3 = float(input(\"Please enter parcel weight: \"))\n",
        "  parcel4 = float(input(\"Please enter parcel weight: \"))\n",
        "  parcel_weight = parcel1 + parcel2  + parcel3 + parcel4\n",
        "  parcel_weightR = parcel_weight // 1\n",
        "  parcel_weightT = parcel_weightR + 1\n",
        "  message = \"Total parcel weight for \" + reference + \" is \" + str(parcel_weightT) + \"kg\"\n",
        "  print(message)\n",
        "\n",
        "calculate_parcel_weight()"
      ],
      "execution_count": 7,
      "outputs": [
        {
          "output_type": "stream",
          "name": "stdout",
          "text": [
            "Please enter customer reference number: CUST1\n",
            "Please enter parcel weight: 1.23\n",
            "Please enter parcel weight: 2.84\n",
            "Please enter parcel weight: 1.675\n",
            "Please enter parcel weight: 3.03\n",
            "Total parcel weight for CUST1 is 9.0kg\n"
          ]
        }
      ]
    },
    {
      "cell_type": "markdown",
      "metadata": {
        "id": "SduMAQwsXKiA"
      },
      "source": [
        "---\n",
        "### Exercise 9 - modulus\n",
        "\n",
        "**Scenario**\n",
        "\n",
        "Your data analyst has some data which contains timestamps relating to activity that only happens in the afternoon.  These are stored in 24 hour format (e.g. 1350). The analyst needs to create two new columns in the dataset, one for the hour and one for the minutes, in 12 hour format (e.g. 1.50pm).  You have been asked to create a prototype for this so that it can be added to the data handling system.  \n",
        "\n",
        "**Your task**  \n",
        "\n",
        "Write a function called **get_pm_minutes()** which will:  \n",
        "\n",
        "*  ask the user to enter an afternoon **time** in 24 hour clock (e.g. 1350)\n",
        "*  use floor division to get the **hour** (ie divide by 100)  \n",
        "*  use modulus (%) to get the **minutes**  \n",
        "*  subtract 12 to get the 12 hour clock storing the result back in `hour`      \n",
        "*  print a message to say that It is `minutes` minutes past `hour` PM\n",
        "\n",
        "**Test Input**:  \n",
        "1350  \n",
        "\n",
        "**Expected output**:  \n",
        "It is 50 minutes past 1 PM\n",
        "\n",
        "*(Is it possible to use this code to get the right hour for a morning time?  You will do this in the section that allows selection depending on value)*\n",
        "\n"
      ]
    },
    {
      "cell_type": "code",
      "metadata": {
        "id": "dSxM7C1dXK9g",
        "colab": {
          "base_uri": "https://localhost:8080/"
        },
        "outputId": "30739400-58cd-4dd3-cac5-c70ca898a0a3"
      },
      "source": [
        "def get_pm_minutes():\n",
        "  afternoon_time = int(input(\"Please enter time in 24 hour format: \"))\n",
        "  hour_24 = afternoon_time // 100\n",
        "  minutes = afternoon_time % 100\n",
        "  hour = hour_24 - 12\n",
        "  message = \"It is \" + str(minutes) + \" minutes past \" + str(hour) + \"PM\"\n",
        "  print(message)\n",
        "\n",
        "get_pm_minutes()\n"
      ],
      "execution_count": 10,
      "outputs": [
        {
          "output_type": "stream",
          "name": "stdout",
          "text": [
            "Please enter time in 24 hour format: 1350\n",
            "It is 50 minutes past 1PM\n"
          ]
        }
      ]
    },
    {
      "cell_type": "markdown",
      "metadata": {
        "id": "HUwYL72HSt5b"
      },
      "source": [
        "---\n",
        "### Exercise 10 - How many tins of beans?  \n",
        "\n",
        "**Scenario**\n",
        "\n",
        "A factory keeps a set of data relating to all the different size boxes it has available for shipping tins of beans.  They would like a look up that can take the dimensions of a box and calculate how many tins can be stacked in the box.  Tins will stand upright and will be stored in layers, so a number of tins will line the base, then the same number of tins will sit on top, until the box is full to the top, without space to fit any more layers.\n",
        "\n",
        "**Your task**\n",
        "\n",
        "Write a function called **calculate_tins()** that will calculate how many tins of beans will fit in a cardboard box. Bean tins are *11cm tall* and *8cm* diameter.  All tins will be standing up and can be stacked in layers.  \n",
        "\n",
        "*  ask the user to enter the **height**, **width** and **depth** of the box as follows: height - 24, width - 50, depth - 18     \n",
        "*  calculate the **number_of_tins** that can fit in the box   \n",
        "*  print the `number_of_tins` that can fit  \n",
        "\n",
        "*Hint: you will need to calculate the number of layers, and the number that will fit in each direction, the product (all of the numbers multiplied together) will tell you how many tins. All answers must be whole numbers*  \n",
        "\n",
        "**Test input**  \n",
        "24\n",
        "50\n",
        "18\n",
        "\n",
        "**Expected output**:  \n",
        "24   \n"
      ]
    },
    {
      "cell_type": "code",
      "metadata": {
        "id": "HNTLnqrDVdAW",
        "colab": {
          "base_uri": "https://localhost:8080/"
        },
        "outputId": "a1441356-8f9b-49e3-b950-72ee37a13a93"
      },
      "source": [
        "def calculate_tins():\n",
        "  box_height = int(input(\"Enter box height: \"))\n",
        "  box_width = int(input(\"Enter box width: \" ))\n",
        "  box_depth = int(input(\"Enter box depth: \"))\n",
        "  tin_height = int(input(\"Enter tin height: \"))\n",
        "  tin_diameter = int(input(\"Enter tin diameter: \"))\n",
        "  number_along = box_width // tin_diameter\n",
        "  number_back = box_depth // tin_diameter\n",
        "  number_stack = box_height // tin_height\n",
        "  number_tins = number_along * number_back * number_stack\n",
        "  print(number_tins)\n",
        "\n",
        "calculate_tins()\n"
      ],
      "execution_count": 11,
      "outputs": [
        {
          "output_type": "stream",
          "name": "stdout",
          "text": [
            "Enter box height: 24\n",
            "Enter box width: 50\n",
            "Enter box depth: 18\n",
            "Enter tin height: 11\n",
            "Enter tin diameter: 8\n",
            "24\n"
          ]
        }
      ]
    },
    {
      "cell_type": "markdown",
      "source": [
        "---\n",
        "# Takeaways from this worksheet\n",
        "* standard operators are used with numeric data to calculate new data\n",
        "* apart from the standard BIDMAS (Brackets, Indices, Division, Multiplication, Addition, Subtraction) other useful operators are floor division, which gets the whole number answer from a division, and modulus, which gets the remainder after the division.\n",
        "* the round() function can be used to round any float number to a number of decimal places.  If you don't specify how many decimal places, it will rount to a whole number.\n",
        "* although a lot of problems requires mathematical calculations, the problems are about working out the logic, so that you know what operations, and which data, to choose."
      ],
      "metadata": {
        "id": "nDIjwfdGvkH0"
      }
    },
    {
      "cell_type": "markdown",
      "source": [
        "---\n",
        "# Your thoughts on what you have learnt\n",
        "Please add some comments in the box below to reflect on what you have learnt through completing this worksheet, and any problems you encountered while doing so."
      ],
      "metadata": {
        "id": "Tvo9OlBlvg-1"
      }
    },
    {
      "cell_type": "markdown",
      "source": [],
      "metadata": {
        "id": "BZhKgyclviil"
      }
    }
  ]
}