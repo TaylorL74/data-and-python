{
  "nbformat": 4,
  "nbformat_minor": 0,
  "metadata": {
    "colab": {
      "provenance": [],
      "toc_visible": true,
      "include_colab_link": true
    },
    "kernelspec": {
      "name": "python3",
      "display_name": "Python 3"
    }
  },
  "cells": [
    {
      "cell_type": "markdown",
      "metadata": {
        "id": "view-in-github",
        "colab_type": "text"
      },
      "source": [
        "<a href=\"https://colab.research.google.com/github/TaylorL74/data-and-python/blob/main/01_Working_with_data.ipynb\" target=\"_parent\"><img src=\"https://colab.research.google.com/assets/colab-badge.svg\" alt=\"Open In Colab\"/></a>"
      ]
    },
    {
      "cell_type": "markdown",
      "metadata": {
        "id": "hfYzBHsYgy0C"
      },
      "source": [
        "# Working with data\n",
        "---\n",
        "\n"
      ]
    },
    {
      "cell_type": "markdown",
      "source": [
        "### Exercise 1 - numerical data - whole numbers (_int_)\n",
        "The cell below contains a **function** that:\n",
        "\n",
        "*  creates a variable called **num** to store a whole number with value 3  \n",
        " `num = int(3)`\n",
        "*  creates a new, second variable called **num_plus_one** to hold the result of adding 1 to `num`  \n",
        "`num_plus_one = num + 1`\n",
        "*  prints the new data  \n",
        "`print(num_plus_one)`\n",
        "\n",
        "If the function has been written properly, it will print 4 (this is the test).  \n",
        "\n",
        "Run the function (click on the play button in the top left corner of the code box)."
      ],
      "metadata": {
        "id": "v01oO9HGbHAQ"
      }
    },
    {
      "cell_type": "code",
      "metadata": {
        "id": "4oPwx_yTf-yt",
        "collapsed": true,
        "outputId": "6a5881ff-fe9a-478d-a65b-c5b2b3c141e1",
        "colab": {
          "base_uri": "https://localhost:8080/"
        }
      },
      "source": [
        "def add_one():\n",
        "  # code instructions added below here, and indented to show that they belong to the function\n",
        "  num = int(450)\n",
        "  num_plus_one = num + 1\n",
        "  print(num_plus_one)\n",
        "\n",
        "\n",
        "add_one()"
      ],
      "execution_count": 2,
      "outputs": [
        {
          "output_type": "stream",
          "name": "stdout",
          "text": [
            "451\n"
          ]
        }
      ]
    },
    {
      "cell_type": "markdown",
      "source": [
        "### Have a play with this function\n",
        "\n",
        "1. Change the number called num to the number 345, run the code and it should print 346.\n",
        "2. Change num to another number, run the code and check that it prints the correct answer\n",
        "3.  Change num to \"two\" (written exactly as it is).  Run the code - it will crash and show the error message \"ValueError: invalid literal for int() with base 10: 'two'\" at the bottom of the error text.  This means that it couldn't process the data as it was a word rather than a number.  Change it to the number 2 and the code should run and give the answer 3"
      ],
      "metadata": {
        "id": "iWrE70yKdnFe"
      }
    },
    {
      "cell_type": "markdown",
      "metadata": {
        "id": "apeD48hhB1Ns"
      },
      "source": [
        "----\n",
        "### Exercise 2 - processing numerical data using decimal numbers (_float_)\n",
        "\n",
        "Have a go at writing this function (the code is included to help you).  \n",
        "*  create two variables **num1** and **num2** and assign them each a whole number  \n",
        "`num1 = float(28.5)` and `num2 = float(32.67)`   \n",
        "*  create a third variable **total** which will store the sum of num1 + num2    \n",
        "`total = num1 + num2`  \n",
        "*  print the total  \n",
        "`print(total)`    \n",
        "\n",
        "Run the function to test that you get the **expected output 61.17**.  \n",
        "\n",
        "Then change the value of one of the numbers and run the code again to get a new total."
      ]
    },
    {
      "cell_type": "code",
      "metadata": {
        "id": "T6WtdKMiCGh-",
        "outputId": "3acf7e44-d19b-41a0-9059-13377d266579",
        "colab": {
          "base_uri": "https://localhost:8080/"
        }
      },
      "source": [
        "def calculate_total():\n",
        "  # add your code below here\n",
        "  num1 = float(2887.9)\n",
        "  num2 = float(356.7)\n",
        "  total = num1 + num2\n",
        "  print(total)\n",
        "\n",
        "\n",
        "\n",
        "\n",
        "calculate_total()"
      ],
      "execution_count": 5,
      "outputs": [
        {
          "output_type": "stream",
          "name": "stdout",
          "text": [
            "3244.6\n"
          ]
        }
      ]
    },
    {
      "cell_type": "markdown",
      "source": [
        "### Have a play with this function\n",
        "\n",
        "1. Change the number called num1 to the number 345, run the code and it should print 377.67.\n",
        "2. Change num2 to another  (either a whole number or a decimal number - floats can cope with both), run the code and check that it prints the correct answer\n",
        "3.  Change num1 to \"56.7\" (written with the quotes).  Run the code - it will crash and show the error message \"ValueError: invalid literal for int() with base 10: '56.7'\" at the bottom of the error text.  This means that it couldn't process the data as it was a word rather than a number, even though it looks like a number (the \"\" identify it as text).  Change it to the number 2 and the code should run and give the answer 3"
      ],
      "metadata": {
        "id": "8t-0-qT-hc3q"
      }
    },
    {
      "cell_type": "markdown",
      "metadata": {
        "id": "Vc435xArCR41"
      },
      "source": [
        "---\n",
        "### Exercise 3 - categorical data - text\n",
        "*  create a variable called **name** and assign it the value \"Billy\" with the quotes  \n",
        "`name = \"Billy\"`\n",
        "*  create a variable called **age** and assign it the value \"18\" with the quotes  \n",
        "`age = \"18\"`  \n",
        "* create a variable called **message** and assign it the value of all the parts of the message joined together  \n",
        "`message = \"Hello \" + name + \" you are \" + age + \" years old.\"`\n",
        "*  print the message  \n",
        "`print(message)`\n",
        "\n",
        "**Expected output**:  \n",
        "Hello Billy you are 18 years old"
      ]
    },
    {
      "cell_type": "code",
      "metadata": {
        "id": "EmO5dR9nCYpE",
        "outputId": "7c317c68-975b-4ed2-c9da-a48a71e7be46",
        "colab": {
          "base_uri": "https://localhost:8080/"
        }
      },
      "source": [
        "def show_message():\n",
        "  # add your code below here\n",
        "  name = \"Billy\"\n",
        "  age = str(25)\n",
        "  message = \"Hello \" + name + \" you are \" + age + \" years old\"\n",
        "  print(message)\n",
        "\n",
        "show_message()"
      ],
      "execution_count": 8,
      "outputs": [
        {
          "output_type": "stream",
          "name": "stdout",
          "text": [
            "Hello Billy you are 25 years old\n"
          ]
        }
      ]
    },
    {
      "cell_type": "markdown",
      "source": [
        "### Have a play with this function\n",
        "\n",
        "1. Change the name to \"Indira\", run the code to see the change.\n",
        "2. Change age to another number,  run the code and check that it prints the correct answer\n",
        "3. Change age to 25 (written without the quotes, so it is a number).  Run the code - it will crash and show the error message \"TypeError: can only concatenate str (not \"int\") to str\" at the bottom of the error text.  This means that it couldn't join the text together as the age was a number and not text.  \n",
        "\n",
        "When adding things together, the variables must be of the same type. Try this:  change *age = 25* to *age = str(25)*.  It should now work correctly and give the message \"Hello Indira you are 25 years old.\""
      ],
      "metadata": {
        "id": "Q1MLSdNajK_r"
      }
    },
    {
      "cell_type": "markdown",
      "source": [
        "---\n",
        "### Exercise 4 - numerical data collected from the user\n",
        "\n",
        "The cell below contains the same **function** used in Exercise 1 but this time the data will come from the user as a keyboard input rather than generated by the code, and it will add 5 instead of 1:\n",
        "\n",
        "*  creates a variable called **num** to store a whole number entered from the keyboard  \n",
        "`num = int(input(\"Please enter a whole number: \"))`\n",
        "*  creates a new, second variable called **num_plus_five** to hold the result of adding 5 to `num` (as in Exercise 1)  \n",
        "*  prints the new data (as in Exercise 1)  \n",
        "\n",
        "If the function has been written properly, and you have entered 3 when asked, it will print **8** (this is the **expected output**).  \n",
        "\n",
        "Run the function (click on the play button in the top left corner of the code box)."
      ],
      "metadata": {
        "id": "4jEQF7QmkizQ"
      }
    },
    {
      "cell_type": "code",
      "source": [
        "def add_five():\n",
        "  # add your code, indented, below here\n",
        "  num = int(input (\"Please input a whole number: \"))\n",
        "  num_plus_5 = 5 + num\n",
        "  print(num_plus_5)\n",
        "\n",
        "\n",
        "\n",
        "add_five()"
      ],
      "metadata": {
        "id": "-oThcTPtnAtS",
        "outputId": "68378a8b-be75-497e-ec32-890b1caa5497",
        "colab": {
          "base_uri": "https://localhost:8080/",
          "height": 335
        }
      },
      "execution_count": 11,
      "outputs": [
        {
          "name": "stdout",
          "output_type": "stream",
          "text": [
            "Please input a whole number: 1.1\n"
          ]
        },
        {
          "output_type": "error",
          "ename": "ValueError",
          "evalue": "invalid literal for int() with base 10: '1.1'",
          "traceback": [
            "\u001b[0;31m---------------------------------------------------------------------------\u001b[0m",
            "\u001b[0;31mValueError\u001b[0m                                Traceback (most recent call last)",
            "\u001b[0;32m<ipython-input-11-e2acbf7e2e68>\u001b[0m in \u001b[0;36m<cell line: 9>\u001b[0;34m()\u001b[0m\n\u001b[1;32m      7\u001b[0m \u001b[0;34m\u001b[0m\u001b[0m\n\u001b[1;32m      8\u001b[0m \u001b[0;34m\u001b[0m\u001b[0m\n\u001b[0;32m----> 9\u001b[0;31m \u001b[0madd_five\u001b[0m\u001b[0;34m(\u001b[0m\u001b[0;34m)\u001b[0m\u001b[0;34m\u001b[0m\u001b[0;34m\u001b[0m\u001b[0m\n\u001b[0m",
            "\u001b[0;32m<ipython-input-11-e2acbf7e2e68>\u001b[0m in \u001b[0;36madd_five\u001b[0;34m()\u001b[0m\n\u001b[1;32m      1\u001b[0m \u001b[0;32mdef\u001b[0m \u001b[0madd_five\u001b[0m\u001b[0;34m(\u001b[0m\u001b[0;34m)\u001b[0m\u001b[0;34m:\u001b[0m\u001b[0;34m\u001b[0m\u001b[0;34m\u001b[0m\u001b[0m\n\u001b[1;32m      2\u001b[0m   \u001b[0;31m# add your code, indented, below here\u001b[0m\u001b[0;34m\u001b[0m\u001b[0;34m\u001b[0m\u001b[0m\n\u001b[0;32m----> 3\u001b[0;31m   \u001b[0mnum\u001b[0m \u001b[0;34m=\u001b[0m \u001b[0mint\u001b[0m\u001b[0;34m(\u001b[0m\u001b[0minput\u001b[0m \u001b[0;34m(\u001b[0m\u001b[0;34m\"Please input a whole number: \"\u001b[0m\u001b[0;34m)\u001b[0m\u001b[0;34m)\u001b[0m\u001b[0;34m\u001b[0m\u001b[0;34m\u001b[0m\u001b[0m\n\u001b[0m\u001b[1;32m      4\u001b[0m   \u001b[0mnum_plus_5\u001b[0m \u001b[0;34m=\u001b[0m \u001b[0;36m5\u001b[0m \u001b[0;34m+\u001b[0m \u001b[0mnum\u001b[0m\u001b[0;34m\u001b[0m\u001b[0;34m\u001b[0m\u001b[0m\n\u001b[1;32m      5\u001b[0m   \u001b[0mprint\u001b[0m\u001b[0;34m(\u001b[0m\u001b[0mnum_plus_5\u001b[0m\u001b[0;34m)\u001b[0m\u001b[0;34m\u001b[0m\u001b[0;34m\u001b[0m\u001b[0m\n",
            "\u001b[0;31mValueError\u001b[0m: invalid literal for int() with base 10: '1.1'"
          ]
        }
      ]
    },
    {
      "cell_type": "markdown",
      "source": [
        "### Have a play with this function\n",
        "\n",
        "1. Run the code with a different whole number entered.\n",
        "2. Run the code with a decimal number entered (it should crash with a message saying \"ValueError\" as it can't convert the number from the keyboard if it doesn't look like a whole number)"
      ],
      "metadata": {
        "id": "ceMBgp-boGCa"
      }
    },
    {
      "cell_type": "markdown",
      "source": [
        "----\n",
        "### Exercise 5 - processing numerical data using decimal numbers (_float_) entered by the user\n",
        "\n",
        "Have a go at writing this function (the code is included to help you).  \n",
        "*  create two variables **num1** and **num2** and ask the user to enter a whole number for each  \n",
        "`num1 = float(input(\"Please enter a decimal number: \"))` and `num2 = float(input(\"Please enter a decimal number: \"))`   \n",
        "*  create a third variable **total** which will store the sum of num1 + num2    \n",
        "`total = num1 + num2`  \n",
        "*  print the total  \n",
        "`print(total)`    \n",
        "\n",
        "Run the function to test that you get the **expected output 61.17** when inputting the values 28.5 and 32.67.  "
      ],
      "metadata": {
        "id": "tm5zebNmnAcB"
      }
    },
    {
      "cell_type": "code",
      "source": [
        "def calculate_float_total():\n",
        "  # add your code, indented, below here\n",
        "  num1 = float(input(\"Please input a decimal number: \"))\n",
        "  num2 = float(input(\"Please input a second decimal number: \"))\n",
        "  Total = num1 + num2\n",
        "  print(Total)\n",
        "\n",
        "\n",
        "\n",
        "calculate_float_total()"
      ],
      "metadata": {
        "id": "O65Io7C1n4u6",
        "outputId": "6870848c-da14-4a4e-f9a1-eaf1a1373367",
        "colab": {
          "base_uri": "https://localhost:8080/"
        }
      },
      "execution_count": 14,
      "outputs": [
        {
          "output_type": "stream",
          "name": "stdout",
          "text": [
            "Please input a decimal number: 45\n",
            "Please input a second decimal number: 89\n",
            "134.0\n"
          ]
        }
      ]
    },
    {
      "cell_type": "markdown",
      "source": [
        "### Have a play with this function\n",
        "\n",
        "1. Try different decimal numbers and check that you get the expected output.\n",
        "2. Try entering whole numbers - it should still work as it just assumes the decimal point with .00 if it isn't there.\n",
        "3. Try entering words rather than numbers, you will get a ValueError"
      ],
      "metadata": {
        "id": "PK1mBZ-iqA0r"
      }
    },
    {
      "cell_type": "markdown",
      "source": [
        "---\n",
        "### Exercise 6 - categorical data - text and numbers from the keyboard\n",
        "*  create a variable called **name** and ask the user to enter a name on the keyboard  \n",
        "`name = input(\"Please enter a name: \")`\n",
        "*  create a variable called **age** and ask the user to enter an age on the keyboard  \n",
        "`age = input(\"Please enter an age: \"`)  \n",
        "* create a variable called **message** and assign it the value of all the parts of the message joined together  \n",
        "`message = \"Hello \" + name + \" you are \" + age + \" years old.\"`\n",
        "*  print the message  \n",
        "`print(message)`\n",
        "\n",
        "**Expected output if user enters Billy and 18**:  \n",
        "Hello Billy you are 18 years old"
      ],
      "metadata": {
        "id": "Pz_EpCuAqldF"
      }
    },
    {
      "cell_type": "code",
      "source": [
        "def show_message_with_keyboard_input():\n",
        "  # add your code below here\n",
        "  name = input(\"please enter a name: \")\n",
        "  age = input(\"please enter an age: \")\n",
        "  message = \"Hello \" + name + \" you are \" + age + \" years old.\"\n",
        "  print(message)\n",
        "\n",
        "\n",
        "show_message_with_keyboard_input()"
      ],
      "metadata": {
        "id": "Ayc-P3ZAreHm",
        "outputId": "dfe44a71-bbd3-4d65-afe8-fa702acac670",
        "colab": {
          "base_uri": "https://localhost:8080/"
        }
      },
      "execution_count": 18,
      "outputs": [
        {
          "output_type": "stream",
          "name": "stdout",
          "text": [
            "please enter a name: Bean\n",
            "please enter an age: Cloud\n",
            "Hello Bean you are Cloud years old.\n"
          ]
        }
      ]
    },
    {
      "cell_type": "markdown",
      "source": [
        "### Have a play with this function\n",
        "\n",
        "1. Try different names and ages and check that you get the expected output.\n",
        "2. Try entering a word for the age - it should still work as it is just expecting some text for the age (but the output will not make sense)."
      ],
      "metadata": {
        "id": "Yu7dvfJLrZbE"
      }
    },
    {
      "cell_type": "markdown",
      "source": [
        "---\n",
        "### Exercise 7 - numerical data collected from a file\n",
        "\n",
        "The cell below contains the same **function** used in Exercise 1 but this time the data will come from file input rather than generated by the code, and it will add 5 instead of 1.  It:\n",
        "\n",
        "*  opens the file called `whole_number.txt` (which is in the `worksheet_data` folder:  \n",
        "`with open(\"worksheet_data/whole_number.txt\", \"r\") as datafile:`  \n",
        "in read-only mode, `\"r\"`, and gives it an alias name, **`datafile`**\n",
        "*  creates a variable called **num** to store a whole number read from `datafile`  \n",
        "`num = int(datafile.readline())`\n",
        "*  creates a new, second variable called **num_plus_five** to hold the result of adding 5 to `num` (as in Exercise 1)  \n",
        "*  prints the new data (as in Exercise 1)  \n",
        "\n",
        "If the function has been written properly, and you have accessed the correct file, it will print **8** (this is the **expected output**).  \n",
        "\n",
        "Run the function (click on the play button in the top left corner of the code box)."
      ],
      "metadata": {
        "id": "pSG6lH23sFjz"
      }
    },
    {
      "cell_type": "code",
      "source": [
        "def add_five_to_file_num():\n",
        "  with open(\"Worksheet data/decimal_numbers.txt\", \"r\") as datafile:\n",
        "    # add your code below, indented to align with the hash at the start of this comment\n",
        "    num = float(datafile.readline())\n",
        "    num_plus_five = 5 + num\n",
        "    print(num_plus_five)\n",
        "\n",
        "add_five_to_file_num()"
      ],
      "metadata": {
        "id": "__be8y8cxl12",
        "colab": {
          "base_uri": "https://localhost:8080/"
        },
        "outputId": "4a44f08c-e712-4f67-cee6-c658bc09cfd3"
      },
      "execution_count": 25,
      "outputs": [
        {
          "output_type": "stream",
          "name": "stdout",
          "text": [
            "10.6\n"
          ]
        }
      ]
    },
    {
      "cell_type": "markdown",
      "source": [
        "### Have a play with this function\n",
        "\n",
        "1. Try using the file `decimal_numbers.txt`, which contains 2 decimal numbers rather than one whole number.  To do this, just change the name of the file from `whole_number.txt` to `decimal_numbers.txt`."
      ],
      "metadata": {
        "id": "kkOyC_cv1cr4"
      }
    },
    {
      "cell_type": "markdown",
      "source": [
        "----\n",
        "### Exercise 8 - processing numerical data using decimal numbers (_float_) entered by the user\n",
        "\n",
        "Have a go at writing this function (the code is included to help you, and is set to read from the `decimal_numbers.txt` file).  \n",
        "*  open the file `decimal_numbers.txt`, in read-only mode, with the alias `datafile` (the code is included for you)   \n",
        "*  create two variables **num1** and **num2** and ask the user to enter a whole number for each  \n",
        "`num1 = float(datafile.readline())` and `num2 = float(datafile.readline())`   \n",
        "*  create a third variable **total** which will store the sum of num1 + num2    \n",
        "`total = num1 + num2`  \n",
        "*  print the total  \n",
        "`print(total)`    \n",
        "\n",
        "Run the function to test that you get the **expected output 39.6**.  "
      ],
      "metadata": {
        "id": "7ZjDKrrz2qwY"
      }
    },
    {
      "cell_type": "code",
      "source": [
        "def calculate_floats_from_file_total():\n",
        "  with open(\"Worksheet data/decimal_numbers.txt\", \"r\") as datafile:\n",
        "    # add your code below, indented to align with the hash at the start of this comment\n",
        "    num1 = float(datafile.readline())\n",
        "    num2 = float(datafile.readline())\n",
        "    total = num1 + num2\n",
        "    print(total)\n",
        "\n",
        "\n",
        "\n",
        "\n",
        "calculate_floats_from_file_total()"
      ],
      "metadata": {
        "id": "HcG9NBbQ52-T",
        "outputId": "03af2996-7340-4a82-d486-36b091b900d2",
        "colab": {
          "base_uri": "https://localhost:8080/"
        }
      },
      "execution_count": 27,
      "outputs": [
        {
          "output_type": "stream",
          "name": "stdout",
          "text": [
            "39.6\n"
          ]
        }
      ]
    },
    {
      "cell_type": "markdown",
      "source": [
        "### Have a play with this function\n",
        "\n",
        "1. Try adding a third variable called `num3` and read the data from the file.  You will get a ValueError as there are no more numbers in the file to be read."
      ],
      "metadata": {
        "id": "i5HcwDrj6R25"
      }
    },
    {
      "cell_type": "markdown",
      "source": [
        "---\n",
        "### Exercise 9 - categorical data - text and numbers from a file\n",
        "*  open the file `message_info.txt` in read-only mode, giving it the alias `datafile` (code is included for you)\n",
        "*  create a variable called **name** and ask the user to enter a name on the keyboard  \n",
        "`name = datafile.readline()`\n",
        "*  create a variable called **age** and ask the user to enter an age on the keyboard  \n",
        "`age = datafile.readline()`  \n",
        "* create a variable called **message** and assign it the value of all the parts of the message joined together  \n",
        "`message = \"Hello \" + name + \" you are \" + age + \" years old.\"`\n",
        "*  print the message  \n",
        "`print(message)`\n",
        "\n",
        "**Expected output if user enters Billy and 18**:  \n",
        "```\n",
        "Hello Billy\n",
        " you are 18\n",
        " years old\n",
        "```\n",
        "The different output is because the file data will have a new line after each piece of data.  This can be removed but we won't do that now.\n",
        "\n"
      ],
      "metadata": {
        "id": "k1FaS6737IFy"
      }
    },
    {
      "cell_type": "code",
      "source": [
        "def show_message_with_file_data():\n",
        "  with open(\"Worksheet data/message_info.txt\", \"r\") as datafile:\n",
        "    # add your code below, indented to align with the hash at the start of this comment\n",
        "    name = datafile.readline()\n",
        "    age = datafile.readline()\n",
        "    message = \"Hello \" + name + \" you are \" + age + \" years old\"\n",
        "    print(message)\n",
        "\n",
        "\n",
        "show_message_with_file_data()"
      ],
      "metadata": {
        "id": "yevW1oL77cIC",
        "outputId": "14f7e392-6de7-40df-c415-df8b2b4a0657",
        "colab": {
          "base_uri": "https://localhost:8080/"
        }
      },
      "execution_count": 34,
      "outputs": [
        {
          "output_type": "stream",
          "name": "stdout",
          "text": [
            "Hello Billy you are \n",
            " years old\n"
          ]
        }
      ]
    },
    {
      "cell_type": "markdown",
      "source": [
        "### Have a play with this function\n",
        "\n",
        "1. Try changing the file so that you read the `decimal_numbers.txt` file instead.  This file also has two pieces of data, and it is also text data, so the code should work but the output will look strange."
      ],
      "metadata": {
        "id": "f4Eu7_q77vQu"
      }
    },
    {
      "cell_type": "markdown",
      "source": [
        "---\n",
        "# Takeaways from this worksheet\n",
        "\n",
        "* coding is a valuable skill\n",
        "* coding is useful for repetitive data tasks and processing that is non-standard\n",
        "* data can be collected from a range of sources, including self-generated, from users or from files\n",
        "* python code should be organised into functions, this is good practice\n",
        "* you can add comments to code\n",
        "* int() and float() are numeric data types and you should convert to the right data type when you create data for a new variable.\n",
        "* strings are indicated by \"\" but you can use str() to force data to be text\n",
        "* errors are nothing to be worried about, they help you to learn and will eventually help you to write better code.\n",
        "\n"
      ],
      "metadata": {
        "id": "JdDQgdx09aqu"
      }
    },
    {
      "cell_type": "markdown",
      "source": [
        "---\n",
        "# Your thoughts on what you have learnt\n",
        "Please add some comments in the box below to reflect on what you have learnt through completing this worksheet, and any problems you encountered while doing so."
      ],
      "metadata": {
        "id": "1CuoB0eiU5O7"
      }
    },
    {
      "cell_type": "markdown",
      "source": [],
      "metadata": {
        "id": "wCLjjj6NVOVE"
      }
    }
  ]
}