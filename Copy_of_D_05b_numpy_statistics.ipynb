{
  "nbformat": 4,
  "nbformat_minor": 0,
  "metadata": {
    "colab": {
      "provenance": [],
      "include_colab_link": true
    },
    "kernelspec": {
      "name": "python3",
      "display_name": "Python 3"
    },
    "language_info": {
      "name": "python"
    }
  },
  "cells": [
    {
      "cell_type": "markdown",
      "metadata": {
        "id": "view-in-github",
        "colab_type": "text"
      },
      "source": [
        "<a href=\"https://colab.research.google.com/github/TaylorL74/data-and-python/blob/main/Copy_of_D_05b_numpy_statistics.ipynb\" target=\"_parent\"><img src=\"https://colab.research.google.com/assets/colab-badge.svg\" alt=\"Open In Colab\"/></a>"
      ]
    },
    {
      "cell_type": "markdown",
      "metadata": {
        "id": "M21YTen340ZU"
      },
      "source": [
        "# Numpy for Statistical Analysis\n",
        "\n",
        "---"
      ]
    },
    {
      "cell_type": "markdown",
      "source": [
        "The exercises in this worksheet will use data on income in certain US states. Run the cell below to import the data, which will be available for you to use as `df`"
      ],
      "metadata": {
        "id": "GytGlqOd9TQr"
      }
    },
    {
      "cell_type": "code",
      "source": [
        "import pandas as pd\n",
        "import numpy as np\n",
        "\n",
        "url = 'https://github.com/futureCodersSE/python-programming-for-data/blob/main/Datasets/Income-Data.xlsx?raw=True'\n",
        "df = pd.read_excel(url)\n"
      ],
      "metadata": {
        "id": "w52hl5pHSxzb"
      },
      "execution_count": 1,
      "outputs": []
    },
    {
      "cell_type": "markdown",
      "metadata": {
        "id": "qf3xj2T9CRmT"
      },
      "source": [
        "---\n",
        "### Exercise 1 - get some statistics from a numpy array created from a data series\n",
        "\n",
        "\n",
        "Write a function which will create a numpy array from the `Age` column in the income dataset and will print the following:\n",
        "\n",
        "*  the average (mean) age of those surveyed  \n",
        "*  the median age of those surveyed\n",
        "*  the age of the oldest person\n",
        "*  the age of the youngest person\n",
        "\n",
        "Expected output:  \n",
        "```\n",
        "29.88888888888889\n",
        "28.0\n",
        "42\n",
        "22\n",
        "```\n",
        "\n",
        "     "
      ]
    },
    {
      "cell_type": "code",
      "metadata": {
        "id": "27UpVktxC_VX",
        "colab": {
          "base_uri": "https://localhost:8080/"
        },
        "outputId": "72f7b45c-ce6f-4602-8902-ae0b146855bd"
      },
      "source": [
        "import pandas as pd\n",
        "import numpy as np\n",
        "\n",
        "def get_age_stats():\n",
        "  age_array = np.array(df[\"Age\"], np.int64)\n",
        "  mean = np.mean(age_array)\n",
        "  median = np.median(age_array)\n",
        "  oldest = np.max(age_array)\n",
        "  youngest = np.min(age_array)\n",
        "\n",
        "  print(f\"The average age is {mean}, the median age is {median}, the oldest person was {oldest} and the youngest person was {youngest}\")\n",
        "\n",
        "  return age_array\n",
        "\n",
        "\n",
        "age_array = get_age_stats()"
      ],
      "execution_count": 2,
      "outputs": [
        {
          "output_type": "stream",
          "name": "stdout",
          "text": [
            "The average age is 29.88888888888889, the median age is 28.0, the oldest person was 42 and the youngest person was 22\n"
          ]
        }
      ]
    },
    {
      "cell_type": "markdown",
      "source": [
        "### Exercise 2 - find the mode value from a numpy array\n",
        "\n",
        "Write a function that will create a numpy array from the `Age` column in the income dataset and will print the mode value.\n",
        "\n",
        "*There is only one mode in this data range, but as an extra challenge, include code in your function that will check there is only one value equal to the maximum and print 'more than one mode' if multiple modes are found.*\n",
        "\n",
        "Expected output:\n",
        "\n",
        "25"
      ],
      "metadata": {
        "id": "CBzecUkJxr_E"
      }
    },
    {
      "cell_type": "code",
      "source": [
        "def get_mode(age_array):\n",
        "  ages, count = np.unique(age_array, return_counts = True)\n",
        "  max_count = np.max(count)\n",
        "  count_index = list(count).index(max_count)\n",
        "  median_age = ages[count_index]\n",
        "  print(f\"The most common age was {median_age}\")\n",
        "\n",
        "get_mode(age_array)"
      ],
      "metadata": {
        "id": "gCPWMwjl910Y",
        "colab": {
          "base_uri": "https://localhost:8080/"
        },
        "outputId": "fb63e815-1cb2-4ea3-de13-3c4374756749"
      },
      "execution_count": 3,
      "outputs": [
        {
          "output_type": "stream",
          "name": "stdout",
          "text": [
            "The most common age was 25\n"
          ]
        }
      ]
    },
    {
      "cell_type": "code",
      "source": [
        "def get_mode(age_array):\n",
        "  # Creates two arrays, one with each unique value in the original array, and another with the count of how many times each number appears\n",
        "  ages, count = np.unique(age_array, return_counts = True)\n",
        "  # Finds the highest number in the counts array to find how often the most common number appears\n",
        "  max_count = np.max(count)\n",
        "\n",
        "  # Code to count how many times the max count appears in the count array, and therefore how many values appear most frequently simultaneously\n",
        "  check_count = 0\n",
        "  for item in count:\n",
        "    if item == max_count:\n",
        "      check_count += 1\n",
        "\n",
        "  # Tells the user if there is more than one mode number\n",
        "  if check_count > 1:\n",
        "    print(\"More than one mode\")\n",
        "  # Finds the mode age by finding the corresponding value in the ages array\n",
        "  else:\n",
        "    count_index = list(count).index(max_count)\n",
        "    mode_age = ages[count_index]\n",
        "    print(f\"The most common age was {mode_age}\")\n",
        "\n",
        "get_mode(age_array)"
      ],
      "metadata": {
        "colab": {
          "base_uri": "https://localhost:8080/"
        },
        "id": "dbnw-L1k0Foe",
        "outputId": "631e75a5-2b18-4e4c-c26e-2a820673fa1a"
      },
      "execution_count": 4,
      "outputs": [
        {
          "output_type": "stream",
          "name": "stdout",
          "text": [
            "The most common age was 25\n"
          ]
        }
      ]
    },
    {
      "cell_type": "code",
      "source": [
        "# Same code as above except with an array of test data with more than one mode to test if the code checking for that works\n",
        "\n",
        "def test_get_mode():\n",
        "  age_array_test = np.array([3, 4, 5, 6, 4, 3, 7, 8, 6, 4, 6]) # 4 and 6 both appear 3 times\n",
        "  ages, count = np.unique(age_array_test, return_counts = True)\n",
        "  max_count = np.max(count)\n",
        "\n",
        "  check_count = 0\n",
        "  for item in count:\n",
        "    if item == max_count:\n",
        "      check_count += 1\n",
        "\n",
        "  if check_count > 1:\n",
        "    print(\"More than one mode\")\n",
        "  else:\n",
        "    count_index = list(count).index(max_count)\n",
        "    mode_age = ages[count_index]\n",
        "    print(f\"The most common age was {mode_age}\")\n",
        "\n",
        "test_get_mode()"
      ],
      "metadata": {
        "colab": {
          "base_uri": "https://localhost:8080/"
        },
        "id": "m4ITTQ0x027-",
        "outputId": "79ee7892-eca3-4ea4-ce71-ac5f1f682521"
      },
      "execution_count": 5,
      "outputs": [
        {
          "output_type": "stream",
          "name": "stdout",
          "text": [
            "More than one mode\n"
          ]
        }
      ]
    },
    {
      "cell_type": "markdown",
      "metadata": {
        "id": "DDVIHbrnFjwz"
      },
      "source": [
        "---\n",
        "### Exercise 3 - find the mean and standard deviation of wages\n",
        "\n",
        "This exercise will again use data on income in certain US states.  \n",
        "\n",
        "Write a function which will create a numpy array from the `Income` column in the income dataset and will print the following:\n",
        "\n",
        "*  the mean income of those surveyed  \n",
        "*  the standard deviation of income\n",
        "*  the highest income\n",
        "*  the lowest income as a percentage of the mean (lowest / mean * 100)\n",
        "\n",
        "\n",
        "Expected output:  \n",
        "```\n",
        "63.388888888888886\n",
        "13.936916958961463\n",
        "81\n",
        "34.70639789658195\n",
        "```\n",
        "\n"
      ]
    },
    {
      "cell_type": "code",
      "metadata": {
        "id": "YB72q998EWkF",
        "colab": {
          "base_uri": "https://localhost:8080/"
        },
        "outputId": "84bc04aa-d067-45d6-d8bd-d17cb1f0f10e"
      },
      "source": [
        "import pandas as pd\n",
        "import numpy as np\n",
        "\n",
        "def get_income_stats():\n",
        "  income_array = np.array(df[\"Income\"], np.float64)\n",
        "  mean = np.mean(income_array)\n",
        "  stddev = np.std(income_array)\n",
        "  highest = np.max(income_array)\n",
        "  lowest = np.min(income_array)\n",
        "  lowest_perc = (lowest / mean) * 100\n",
        "\n",
        "  print(f\"The average income was ${mean} with a standard deviation of {stddev}.\")\n",
        "  print(f\"The highest income was ${highest}, and the lowest incomes was {lowest_perc}% of the average income.\")\n",
        "\n",
        "  return income_array\n",
        "\n",
        "\n",
        "income_array = get_income_stats()"
      ],
      "execution_count": 6,
      "outputs": [
        {
          "output_type": "stream",
          "name": "stdout",
          "text": [
            "The average income was $63.388888888888886 with a standard deviation of 13.936916958961463.\n",
            "The highest income was $81.0, and the lowest incomes was 34.70639789658195% of the average income.\n"
          ]
        }
      ]
    },
    {
      "cell_type": "markdown",
      "source": [
        "### Exercise 4 - find income IQR\n",
        "\n",
        "Write a function that will create a numpy array from the `Income` column of the income dataset and print the following:\n",
        "* the 25th percentile\n",
        "* the 75th percentile\n",
        "* the interquartile range\n",
        "\n",
        "Expected output:\n",
        "```\n",
        "62.0\n",
        "73.0\n",
        "11.0\n",
        "```\n"
      ],
      "metadata": {
        "id": "H2BYIMJM-BpJ"
      }
    },
    {
      "cell_type": "code",
      "source": [
        "def get_income_iqr(income_array):\n",
        "  perc_25 = np.percentile(income_array, 25)\n",
        "  perc_75 = np.percentile(income_array, 75)\n",
        "  iqr = perc_75 - perc_25\n",
        "\n",
        "  print(f\"The 25th percentile is {perc_25}\")\n",
        "  print(f\"The 75th percentile is {perc_75}\")\n",
        "  print(f\"The interquartile range is {iqr}\")\n",
        "\n",
        "get_income_iqr(income_array)"
      ],
      "metadata": {
        "id": "2H5BptYk-BYJ",
        "colab": {
          "base_uri": "https://localhost:8080/"
        },
        "outputId": "eacf31a2-e6fb-43ee-cd7e-5679a3b9135f"
      },
      "execution_count": 7,
      "outputs": [
        {
          "output_type": "stream",
          "name": "stdout",
          "text": [
            "The 25th percentile is 62.0\n",
            "The 75th percentile is 73.0\n",
            "The interquartile range is 11.0\n"
          ]
        }
      ]
    },
    {
      "cell_type": "markdown",
      "source": [
        "### Exercise 5 - find outliers\n",
        "\n",
        "Write a function that will create a numpy array from the Income column that will do the following:\n",
        "* calculate the standard deviation, mean, Q1, Q2 and interquartile range of the data (as separate variables)\n",
        "* calculate the upper limit for outliers based on both standard deviation and iqr\n",
        "* calculate the lower limit for outliers based on both standard deviation and iqr\n",
        "* filter four times, once for each outlier type\n",
        "* print the outliers\n",
        "\n",
        "\n",
        "Expected output:\n",
        "```\n",
        "Upper outliers by std: []\n",
        "Lower outliers by std: [22]\n",
        "Upper outliers by iqr: []\n",
        "Lower outliers by iqr: [45 22]\n",
        "```"
      ],
      "metadata": {
        "id": "NdMpUt3yJKTV"
      }
    },
    {
      "cell_type": "code",
      "source": [
        "def find_outliers(income_array):\n",
        "  stddev = np.std(income_array)\n",
        "  mean = np.mean(income_array)\n",
        "  perc_25 = np.percentile(income_array, 25)\n",
        "  perc_75 = np.percentile(income_array, 75)\n",
        "  iqr = perc_75 - perc_25\n",
        "\n",
        "  iqr_lower = perc_25 - (iqr * 1.5)\n",
        "  iqr_upper = perc_75 + (iqr * 1.5)\n",
        "\n",
        "  std_lower = mean - (stddev * 2)\n",
        "  std_upper = mean + (stddev * 2)\n",
        "\n",
        "  filter_iqr_lower = income_array < iqr_lower\n",
        "  outliers_iqr_lower = income_array[filter_iqr_lower]\n",
        "  print(outliers_iqr_lower)\n",
        "\n",
        "  filter_iqr_upper = income_array > iqr_upper\n",
        "  outliers_iqr_upper = income_array[filter_iqr_upper]\n",
        "  print(outliers_iqr_upper)\n",
        "\n",
        "  filter_std_lower = income_array < std_lower\n",
        "  outliers_std_lower = income_array[filter_std_lower]\n",
        "  print(outliers_std_lower)\n",
        "\n",
        "  filter_std_upper = income_array > std_upper\n",
        "  outliers_std_upper = income_array[filter_std_upper]\n",
        "  print(outliers_std_upper)\n",
        "\n",
        "\n",
        "find_outliers(income_array)"
      ],
      "metadata": {
        "id": "nhnzxYxkJJ5f",
        "colab": {
          "base_uri": "https://localhost:8080/"
        },
        "outputId": "1340047a-15bb-448d-ebae-7ad573cea9d7"
      },
      "execution_count": 10,
      "outputs": [
        {
          "output_type": "stream",
          "name": "stdout",
          "text": [
            "[45. 22.]\n",
            "[]\n",
            "[22.]\n",
            "[]\n"
          ]
        }
      ]
    },
    {
      "cell_type": "markdown",
      "metadata": {
        "id": "QnOKzp1cHAvH"
      },
      "source": [
        "---\n",
        "### Exercise 6 - finding the correlation between two series\n",
        "\n",
        "Let's find out if there is a strong correlation between Age and Income in the income data set.\n",
        "\n",
        "*  create a numpy array from the Age column  \n",
        "*  create a numpy array from the Income column  \n",
        "*  use the np.corrcoef(nparray1, nparray2) function to get the Pearson's Correlation Coefficient (the measure of linear correlation between the two data sets) and store it in a variable called **coef**\n",
        "*  print the correlation coefficient output (see below, it will be a 2x2 matrix)\n",
        "*  print the correlation coefficient (which is at position [0][1] (coef[0][1]))\n",
        "\n",
        "\n",
        "Expected output:  \n",
        "```\n",
        "[[ 1.         -0.14787412]\n",
        " [-0.14787412  1.        ]]\n",
        " -0.1478741157606825\n",
        "\n",
        "```\n",
        "The matrix gives 4 values showing the correlation between:\n",
        "\n",
        "```\n",
        "   |    (Age/Age)        (Age/Income)     |\n",
        "   |    (Income/Age)     (Income/Income)  |\n",
        "```\n",
        "This suggests that income decreases with age (the correlation is negative\n",
        "so as one increases the other decreases) but that the correlation is quite weak (an absolute correlation would be 1 and no correlation would be 0)"
      ]
    },
    {
      "cell_type": "code",
      "metadata": {
        "id": "xXsISkA4HibO",
        "colab": {
          "base_uri": "https://localhost:8080/"
        },
        "outputId": "f7f36c6a-1796-402c-a1b5-f95d65f8bbfd"
      },
      "source": [
        "import pandas as pd\n",
        "import numpy as np\n",
        "\n",
        "def get_correlation(age_array, income_array):\n",
        "  coef = np.corrcoef(age_array, income_array)\n",
        "  print(coef)\n",
        "  print(coef[0][1])\n",
        "\n",
        "\n",
        "\n",
        "get_correlation(age_array, income_array)"
      ],
      "execution_count": 13,
      "outputs": [
        {
          "output_type": "stream",
          "name": "stdout",
          "text": [
            "[[ 1.         -0.14787412]\n",
            " [-0.14787412  1.        ]]\n",
            "-0.1478741157606825\n"
          ]
        }
      ]
    },
    {
      "cell_type": "markdown",
      "source": [
        "### Exercise 7 - practicing correlation\n",
        "\n",
        "Repeat exercise 6 but use the Income and Population columns instead.\n",
        "\n",
        "If you have completed the user defined functions worksheet, try writing a function that takes two arrays as parameters and returns the correlation coefficient."
      ],
      "metadata": {
        "id": "dE4b8WzmTs1e"
      }
    },
    {
      "cell_type": "code",
      "source": [
        "import pandas as pd\n",
        "import numpy as np\n",
        "\n",
        "def practicing_correlation(array1, array2):\n",
        "  population_array = np.array(df[\"Population\"], np.int64)\n",
        "  coef = np.corrcoef(array1, array2)\n",
        "  print(coef)\n",
        "  print(coef[0][1])\n",
        "\n",
        "\n",
        "\n",
        "population_array = np.array(df[\"Population\"], np.int64)\n",
        "practicing_correlation(income_array, population_array)"
      ],
      "metadata": {
        "colab": {
          "base_uri": "https://localhost:8080/"
        },
        "id": "3fyAXbvYWArU",
        "outputId": "ec75e4aa-f6ca-4883-b04c-85767553959a"
      },
      "execution_count": 18,
      "outputs": [
        {
          "output_type": "stream",
          "name": "stdout",
          "text": [
            "[[1.         0.11644143]\n",
            " [0.11644143 1.        ]]\n",
            "0.11644142628402859\n"
          ]
        }
      ]
    },
    {
      "cell_type": "markdown",
      "metadata": {
        "id": "Bv1G1MJpT1U9"
      },
      "source": [
        "---\n",
        "### Exercise 8 - create a new column in the dataframe from a numpy array\n",
        "\n",
        "**Challenging**\n",
        "\n",
        "Write a function which will calculate expected salaries for all in the income data set after an inflation rate of 3.5% (with results in a new numpy array).\n",
        "\n",
        "Just to show the result, calculate and print the Pearson Correlation Coefficient between the salaries series and the inflated salaries series.  We would expect this to be 1 (ie the inflated salary is always 3.5% higher than the current salary) and the exercise is just meant to show that - the statistic has no relevance.  \n",
        "\n",
        "Create a new column in the dataframe from the new numpy array (so that the dataframe now contains the original salaries and the inflated salaries.  \n",
        "(**Recap**:  *to add a new column, just use* `df['new column name']`)  \n",
        "\n",
        "To assign a numpy array to a pandas column use  \n",
        "`df['new column name'] = numpyarrayname.tolist()`\n",
        "\n",
        "Display the new dataframe and print the correlation coefficient.\n",
        "\n",
        "\n",
        "\n",
        "\n",
        "\n"
      ]
    },
    {
      "cell_type": "code",
      "metadata": {
        "id": "x90cXT8NWD40",
        "colab": {
          "base_uri": "https://localhost:8080/"
        },
        "outputId": "b80fb10a-951d-488d-febf-659b3380b01e"
      },
      "source": [
        "import pandas as pd\n",
        "import numpy as np\n",
        "\n",
        "def add_new_column(income_array):\n",
        "  new_salaries = income_array * 3.5\n",
        "  df[\"New Salaries\"] = new_salaries.tolist()\n",
        "  coef = np.corrcoef(income_array, new_salaries)\n",
        "  print(coef)\n",
        "\n",
        "add_new_column(income_array)\n",
        "\n"
      ],
      "execution_count": 20,
      "outputs": [
        {
          "output_type": "stream",
          "name": "stdout",
          "text": [
            "[[1. 1.]\n",
            " [1. 1.]]\n"
          ]
        }
      ]
    },
    {
      "cell_type": "markdown",
      "metadata": {
        "id": "yQyytEbnZ1lw"
      },
      "source": [
        "# Reflection\n",
        "----\n",
        "\n",
        "## What skills have you demonstrated in completing this notebook?"
      ]
    },
    {
      "cell_type": "markdown",
      "metadata": {
        "id": "MM00hR5aZk1-"
      },
      "source": [
        "Your answer: I have demonstrated an understanding of how to perform statistical calculations on numpy arrays such as finding the mean, median, min/max values, mode, iqr and standard deviation, and identifying and isolating outliers. I have also passed data to and from pandas databases and numpy arrays, and practiced using functions to find the correlation coefficients between two numpy arrays."
      ]
    },
    {
      "cell_type": "markdown",
      "metadata": {
        "id": "Zgexd27sZ1ly"
      },
      "source": [
        "## What caused you the most difficulty?"
      ]
    },
    {
      "cell_type": "markdown",
      "metadata": {
        "id": "-Y_nrVBwaGXr"
      },
      "source": [
        "Your answer:I had to look up some guides to fully understand how to interpret the resuts of Pearson Correlation Coefficient calculations, but after viewing some [example graphs ](https://www.scribbr.com/statistics/pearson-correlation-coefficient/) I was able to understand the meaning of the results."
      ]
    }
  ]
}