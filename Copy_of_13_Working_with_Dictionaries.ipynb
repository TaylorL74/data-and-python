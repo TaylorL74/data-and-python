{
  "nbformat": 4,
  "nbformat_minor": 0,
  "metadata": {
    "colab": {
      "provenance": [],
      "include_colab_link": true
    },
    "kernelspec": {
      "name": "python3",
      "display_name": "Python 3"
    },
    "language_info": {
      "name": "python"
    }
  },
  "cells": [
    {
      "cell_type": "markdown",
      "metadata": {
        "id": "view-in-github",
        "colab_type": "text"
      },
      "source": [
        "<a href=\"https://colab.research.google.com/github/TaylorL74/data-and-python/blob/main/Copy_of_13_Working_with_Dictionaries.ipynb\" target=\"_parent\"><img src=\"https://colab.research.google.com/assets/colab-badge.svg\" alt=\"Open In Colab\"/></a>"
      ]
    },
    {
      "cell_type": "markdown",
      "metadata": {
        "id": "AiiF1h2X4PHP"
      },
      "source": [
        "# Dictionaries\n",
        "\n",
        "---\n",
        "\n",
        "A **dictionary** is a collection of dissimilar data stored together in one *record*. Each item of data has a  (or key) that describes its paired value.  \n",
        "\n",
        "Create a dictionary object by declaring the set of keys and values, e.g.:\n",
        "\n",
        "```\n",
        "   transport = {\n",
        "       \"type\":\"bus\",\n",
        "       \"num_passengers\":72,\n",
        "       \"colour\":\"blue\",\n",
        "       \"fuel\":\"diesel\"\n",
        "   }\n",
        "```\n",
        "\n",
        "To access a value in a dictionary, use its key:  \n",
        "\n",
        "```\n",
        "transport_type = transport[\"type\"]\n",
        "transport_colour = transport[\"colour\"]\n",
        "```\n",
        "\n",
        "To change a value in a dictionary, assign a new value to the key:  \n",
        "```\n",
        "transport[\"type\"] = \"coach\"\n",
        "transport[\"fuel\"] = \"petrol\"\n",
        "```\n",
        "\n",
        "\n",
        "To add a new key/value pair to a dictionary, simply assign a value to a new key:  \n",
        "```\n",
        "transport[\"seats\"] = 54\n",
        "```\n",
        "\n",
        "The transport dictionary will now look like this:  \n",
        "```\n",
        "   transport = {\n",
        "       \"type\":\"coach\",\n",
        "       \"num_passengers\":72,\n",
        "       \"colour\":\"blue\",\n",
        "       \"fuel\":\"petrol\",\n",
        "       \"seats\":54\n",
        "   }\n",
        "```\n",
        "\n"
      ]
    },
    {
      "cell_type": "markdown",
      "metadata": {
        "id": "1uZ5kNWB6CqK"
      },
      "source": [
        "---\n",
        "### Exercise 1 - print dictionary\n",
        "\n",
        "Write a function which will:  \n",
        "\n",
        "*  create an empty dictionary for a person (name, age and postcode, with values \"\", 0 and \"\", respectively.)\n",
        "*  ask the user for name, age and postcode and assign the values to the correct keys in the dictionary  \n",
        "*  print the dictionary\n",
        "\n",
        "Test input:  \n",
        "Jack Jones  \n",
        "16  \n",
        "AB5 3DF  \n",
        "\n",
        "Expected output:  \n",
        "```{'name':'Jack Jones', 'age':16, 'postcode':'AB5 3DF'}```"
      ]
    },
    {
      "cell_type": "code",
      "metadata": {
        "id": "Ac7VQTj94Mrc",
        "outputId": "38ef2ea1-3b7a-47ad-ba30-4424b5ffa7af",
        "colab": {
          "base_uri": "https://localhost:8080/"
        }
      },
      "source": [
        "def new_dictionary():\n",
        "  person = {\n",
        "      \"name\": \"\",\n",
        "      \"age\": 0,\n",
        "      \"postcode\":\"\",\n",
        "\n",
        "  }\n",
        "  person[\"name\"] = str(input(\"Enter name: \"))\n",
        "  person[\"age\"] = int(input(\"Enter age: \"))\n",
        "  person[\"postode\"] = str(input(\"Enter postcode: \"))\n",
        "  print(person)\n",
        "\n",
        "new_dictionary()"
      ],
      "execution_count": null,
      "outputs": [
        {
          "output_type": "stream",
          "name": "stdout",
          "text": [
            "Enter name: Jack Jones\n",
            "Enter age: 16\n",
            "Enter postcode: AB5 3DF\n",
            "{'name': 'Jack Jones', 'age': 16, 'postcode': '', 'postode': 'AB5 3DF'}\n"
          ]
        }
      ]
    },
    {
      "cell_type": "markdown",
      "metadata": {
        "id": "0OtNqNKv7WKm"
      },
      "source": [
        "---\n",
        "### Exercise 2 - create a dictionary\n",
        "\n",
        "Write a function that will create two dictionaries,without values:  \n",
        "\n",
        "1.  person (with keys firstname, surname, birthdate, postcode)  \n",
        "2.  car (with key/value pairs as follows:  make - Vauxhall, model - Corsa, engine_size - 1199, fuel_type - unleaded, num_doors - 4)  \n",
        "\n",
        "*   ask the user to enter the values for the person dictionary  \n",
        "*   print, on one line, the person's name from the person dictionary and the make of the car from the car dictionary.\n",
        "\n",
        "Test input:  \n",
        "Jack  \n",
        "Jones  \n",
        "2005/02/02    \n",
        "AB5 3DF  \n",
        "\n",
        "Expected output:  \n",
        "Jack Jones Vauxhall"
      ]
    },
    {
      "cell_type": "code",
      "metadata": {
        "id": "ZyqhaBCC-GdI",
        "outputId": "b49bed47-8c6f-4f4a-a665-d3ffc44d9e2b",
        "colab": {
          "base_uri": "https://localhost:8080/"
        }
      },
      "source": [
        "def person_and_car():\n",
        "  person = {\n",
        "      \"firstname\": \"\",\n",
        "      \"surname\": \"\",\n",
        "      \"birthdate\": \"\",\n",
        "      \"postcode\": \"\",\n",
        "  }\n",
        "\n",
        "  car = {\n",
        "      \"make\":\"Vauxhall\",\n",
        "      \"model\": \"Corsa\",\n",
        "      \"engine_size\": 1199,\n",
        "      \"fuel_type\":\"unleaded\",\n",
        "      \"num_doors\":4,\n",
        "  }\n",
        "\n",
        "  person[\"firstname\"] = str(input(\"Enter first name:\"))\n",
        "  person[\"surname\"] = str(input(\"Enter second name: \"))\n",
        "  person[\"birthdate\"] = str(input(\"Enter birthdate: \"))\n",
        "  person[\"postcode\"] = str(input(\"Enter postcode: \"))\n",
        "\n",
        "  print(person[\"firstname\"] + \" \" + person[\"surname\"] + \" \" + car[\"make\"])\n",
        "\n",
        "person_and_car()"
      ],
      "execution_count": null,
      "outputs": [
        {
          "output_type": "stream",
          "name": "stdout",
          "text": [
            "Enter first name:Jack\n",
            "Enter second name: Jones\n",
            "Enter birthdate: 2005/02/02\n",
            "Enter postcode: ADF DB5\n",
            "Jack Jones Vauxhall\n"
          ]
        }
      ]
    },
    {
      "cell_type": "markdown",
      "metadata": {
        "id": "gYuuOUYw-G4I"
      },
      "source": [
        "---\n",
        "### Exercise 3 - check dictionary values\n",
        "\n",
        "Write a new function which will:\n",
        "\n",
        "*  set up the same two dictionaries as in Exercise 2  \n",
        "*  ask the user to enter the details to complete the person record  \n",
        "*  calculate the person's age  \n",
        "*  if the person is under 17 then print a message to say that they can't buy a car as they are too young to drive\n",
        "*  else if the person is under 25 then print a message to say that an engine size under 1200 is recommended  \n",
        "*  ask the user to enter the make of car that the person is looking for  \n",
        "*  if the user enters the same make as that stored in the car record, then print a message to say that you have one car of that make in stock and print all the details of the car that you have the record for\n",
        "*  else (if the user enters any other car make) then print a message to say sorry that you don't have any cars of that make in stock\n",
        "*  print a message to say that the user can get more details for stockists in the <user's postcode> area if they call 01234567890\n",
        "*  print a message to say \"Thank you <user's name> for using our site\"  \n",
        "\n",
        "Test input:  \n",
        "Jack  \n",
        "Jones  \n",
        "2009/02/02  \n",
        "AB5 3DF  \n",
        "Vauxhall  \n",
        "\n",
        "Expected output:  \n",
        "You are too young to drive\n",
        "\n",
        "Test input:  \n",
        "John  \n",
        "Jones  \n",
        "2003/02/02  \n",
        "AB5 3DF  \n",
        "Vauxhall\n",
        "\n",
        "Expected output:  \n",
        "An engine size under 1200 is recommended.  \n",
        "We have one Vauxhall in stock, details:  \n",
        "Make - Vauxhall    \n",
        "Model - Corsa    \n",
        "Engine size - 1199  \n",
        "Fuel type - unleaded   \n",
        "Number of doors - 4  \n",
        "You can get more details of stockists near AB5 3DF on 01234567890.  \n",
        "Thank you John Jones for using our site.     \n",
        "\n",
        "Test input:  \n",
        "John  \n",
        "Jones  \n",
        "2003/02/02  \n",
        "AB5 3DF  \n",
        "Ford  \n",
        "\n",
        "Expected output:  \n",
        "An engine size under 1200 is recommended.  \n",
        "Sorry, we don't have any of that make in stock.  \n"
      ]
    },
    {
      "cell_type": "code",
      "metadata": {
        "id": "Wp9Il2JG_hDh",
        "outputId": "aaac215f-77bd-484c-838c-e0eeb2e680c3",
        "colab": {
          "base_uri": "https://localhost:8080/"
        }
      },
      "source": [
        "from datetime import datetime\n",
        "def person_and_car():\n",
        "  person = {\n",
        "      \"firstname\": \"\",\n",
        "      \"surname\": \"\",\n",
        "      \"birthdate\": \"\",\n",
        "      \"postcode\": \"\",\n",
        "  }\n",
        "\n",
        "  car = {\n",
        "      \"make\":\"Vauxhall\",\n",
        "      \"model\": \"Corsa\",\n",
        "      \"engine_size\": 1199,\n",
        "      \"fuel_type\":\"unleaded\",\n",
        "      \"num_doors\":4,\n",
        "  }\n",
        "\n",
        "  person[\"firstname\"] = str(input(\"Enter first name:\"))\n",
        "  person[\"surname\"] = str(input(\"Enter second name: \"))\n",
        "  person[\"birthdate\"] = str(input(\"Enter birthdate: \"))\n",
        "  person[\"postcode\"] = str(input(\"Enter postcode: \"))\n",
        "\n",
        "  date_of_birth = datetime.strptime(person[\"birthdate\"], \"%Y/%m/%d\")\n",
        "  date_now = datetime.now()\n",
        "  age = date_now.year - date_of_birth.year\n",
        "  if (date_now.month, date_now.day) < (date_of_birth.month, date_of_birth.day):\n",
        "    age = age - 1\n",
        "\n",
        "  if age < 17:\n",
        "    print(\"You are too young to buy a car\")\n",
        "  elif age >= 17 and age < 25:\n",
        "    print(\"Engine size of under 1200 is recommended\")\n",
        "\n",
        "  make_sought = str(input(\"Enter make of care you are looking for:\"))\n",
        "  make_sought = make_sought.capitalize()\n",
        "  if make_sought == car[\"make\"]:\n",
        "    print(\"We have 1 car in stock\")\n",
        "    print(car)\n",
        "  else:\n",
        "    print(\"Sorry we don't have any cars of that make in stock\")\n",
        "    print(\"For more information on cars available in \" +  person[\"postcode\"] + \" please call 01234567890\")\n",
        "    print(\"Thank you \" + person[\"firstname\"] + \" for using our site\")\n",
        "\n",
        "person_and_car()\n",
        "\n"
      ],
      "execution_count": null,
      "outputs": [
        {
          "output_type": "stream",
          "name": "stdout",
          "text": [
            "Enter first name:John\n",
            "Enter second name: Jones\n",
            "Enter birthdate: 2004/03/08\n",
            "Enter postcode: gh5 hy6\n",
            "Engine size of under 1200 is recommended\n",
            "Enter make of care you are looking for:vauxhall\n",
            "We have 1 car in stock\n",
            "{'make': 'Vauxhall', 'model': 'Corsa', 'engine_size': 1199, 'fuel_type': 'unleaded', 'num_doors': 4}\n"
          ]
        }
      ]
    },
    {
      "cell_type": "markdown",
      "metadata": {
        "id": "I6dUiRwn7Gkg"
      },
      "source": [
        "---\n",
        "### Exercise 4 - print keys and values\n",
        "\n",
        "Two dictionaries have been created below.  You can print a list of the dictionary's keys using `dictionary_name.keys()` and the values using `dictionary_name.values()`\n",
        "\n",
        "Write a function which will accept a dictionary as a parameter and will:  \n",
        "*  print the dictionary keys as a list   \n",
        "*  print the dictionary values as a list  \n",
        "\n",
        "*Hint*:  you will need to cast the keys as a list (`list(dictionary_name.keys()`)  and do the same for the values.\n",
        "\n",
        "**Expected Output**\n",
        "\n",
        "Input: english_scores  \n",
        "Output:\n",
        "['Andy', 'Angela']  \n",
        "[95, 53]  \n",
        "\n",
        "Input: maths_scores  \n",
        "Output:  \n",
        "['Andy', 'Angela']  \n",
        "[58, 72]\n",
        "\n",
        "\n",
        "\n"
      ]
    },
    {
      "cell_type": "code",
      "metadata": {
        "id": "FApOckhJEsMs",
        "outputId": "95fae768-6fd6-4550-e62c-b852db50b8ff",
        "colab": {
          "base_uri": "https://localhost:8080/"
        }
      },
      "source": [
        "def display_dictionary(scores):\n",
        "  keys_list = list(scores.keys())\n",
        "  values_list = list(scores.values())\n",
        "  print(keys_list)\n",
        "  print(values_list)\n",
        "\n",
        "\n",
        "english_scores = {'Andy': 95, 'Angela': 53}\n",
        "maths_scores = {'Andy': 58, 'Angela': 72}\n",
        "display_dictionary(english_scores)\n",
        "display_dictionary(maths_scores)"
      ],
      "execution_count": null,
      "outputs": [
        {
          "output_type": "stream",
          "name": "stdout",
          "text": [
            "['Andy', 'Angela']\n",
            "[95, 53]\n",
            "['Andy', 'Angela']\n",
            "[58, 72]\n"
          ]
        }
      ]
    },
    {
      "cell_type": "markdown",
      "metadata": {
        "id": "segSpkmBFSJl"
      },
      "source": [
        "---\n",
        "### Exercise 5 - add field\n",
        "\n",
        "Write a function which will:\n",
        "\n",
        "*  create a new dictionary called **science_scores** with values of 0 for both Andy and Angela\n",
        "*  update Andy's score for science to 73 and Angela's score to 73   \n",
        "*  create a new key/value pair by adding another learner to the `science_scores`  dictionary (George has a score of 55)    \n",
        "*  print the `science_scores` dictionary to check results  \n",
        "\n",
        "Expected Output\n",
        "\n",
        "{'Andy': 73, 'Angela': 73, 'George': 55}"
      ]
    },
    {
      "cell_type": "code",
      "metadata": {
        "id": "BL1JM-Z7Gttf",
        "outputId": "cee4dcd9-e428-45ed-dcd7-fa3bd87244e2",
        "colab": {
          "base_uri": "https://localhost:8080/"
        }
      },
      "source": [
        "def science_scores():\n",
        "  science = {\n",
        "      \"Andy\": 0, \"Angela\": 0,\n",
        "  }\n",
        "  science[\"Andy\"] = 73\n",
        "  science[\"Angela\"] = 73\n",
        "  science[\"George\"] = 55\n",
        "  print(science)\n",
        "\n",
        "science_scores()"
      ],
      "execution_count": null,
      "outputs": [
        {
          "output_type": "stream",
          "name": "stdout",
          "text": [
            "{'Andy': 73, 'Angela': 73, 'George': 55}\n"
          ]
        }
      ]
    },
    {
      "cell_type": "markdown",
      "metadata": {
        "id": "_Vzv0zlHGt-C"
      },
      "source": [
        "---\n",
        "### Exercise 6 - loop through keys/value pairs\n",
        "\n",
        "Write a function which will use a *for* loop to print the each key/value pair in the science dictionary (recreate this dictionary in this function)\n",
        "\n",
        "*(Hint: you can iterate through the key/value pairs in the dictionary in the same way as you iterate through a loop (e.g. for record in dictionary) and print the record (which is the key) and its value)*\n",
        "\n",
        "Expected output:  \n",
        "\n",
        "Andy 73  \n",
        "Angela 73  \n",
        "George 55  "
      ]
    },
    {
      "cell_type": "code",
      "metadata": {
        "id": "JL40_-W-Hxnt",
        "outputId": "16693f6d-34ba-48f7-edc8-8fe3df68f18d",
        "colab": {
          "base_uri": "https://localhost:8080/"
        }
      },
      "source": [
        "def science_scores():\n",
        "  science = {\n",
        "      \"Andy\": 73, \"Angela\": 73, \"George\":55\n",
        "  }\n",
        "  for record in science.items():\n",
        "    print(record)\n",
        "\n",
        "\n",
        "science_scores()"
      ],
      "execution_count": null,
      "outputs": [
        {
          "output_type": "stream",
          "name": "stdout",
          "text": [
            "('Andy', 73)\n",
            "('Angela', 73)\n",
            "('George', 55)\n"
          ]
        }
      ]
    },
    {
      "cell_type": "markdown",
      "metadata": {
        "id": "G9wamxzRJdrE"
      },
      "source": [
        "---\n",
        "### Exercise 7 - generate new dictionary  \n",
        "\n",
        "Write a functions which will:\n",
        "*  create a new dictionary where the keys are numbers between 1 and 15 (both included) and the values are square of keys\n",
        "*  print the dictionary\n",
        "* HINT: You can create an empty dictionary by assiging the variable name to empty curly brackets, e.g. `new_dictionary = {}`\n",
        "\n",
        "Expected output:  \n",
        "{1: 1, 2: 4, 3: 9, 4: 16, 5: 25, 6: 36, 7: 49, 8: 64, 9: 81, 10: 100, 11: 121, 12: 144, 13: 169, 14: 196, 15: 225}"
      ]
    },
    {
      "cell_type": "code",
      "metadata": {
        "id": "1-LI-LVrJ--N",
        "outputId": "b3db0b1b-b66f-4a39-c9a6-b93fe869bb7b",
        "colab": {
          "base_uri": "https://localhost:8080/"
        }
      },
      "source": [
        "def new_dictionary():\n",
        "  new_dictionary = {}\n",
        "  for key in range(1, 16):\n",
        "    new_dictionary[key] = key * key\n",
        "  print(new_dictionary)\n",
        "\n",
        "new_dictionary()"
      ],
      "execution_count": null,
      "outputs": [
        {
          "output_type": "stream",
          "name": "stdout",
          "text": [
            "{1: 1, 2: 4, 3: 9, 4: 16, 5: 25, 6: 36, 7: 49, 8: 64, 9: 81, 10: 100, 11: 121, 12: 144, 13: 169, 14: 196, 15: 225}\n"
          ]
        }
      ]
    },
    {
      "cell_type": "markdown",
      "metadata": {
        "id": "t0y4mefwJ_jQ"
      },
      "source": [
        "---\n",
        "### Exercise 8 - colour dictionary  \n",
        "\n",
        "Write a function which will:  \n",
        "*  create a new dictionary record called colour_codes with the values 'red' - '#FF0000', 'green' - '#008000', 'black' - '#000000', 'white' - '#FFFFFF'\n",
        "*  add a new colour code:  'blue' - '#0000FF'    \n",
        "*  remove the colours black and white from the dictionary\n",
        "*  print the updated dictionary\n",
        "\n",
        "*Hint:  there is a list of methods [here](https://www.w3schools.com/python/python_ref_dictionary.asp)*  \n",
        "\n",
        "Expected output:\n",
        "\n",
        "{'red': '#FF0000', 'green': '#008000', 'blue': '#0000FF'}"
      ]
    },
    {
      "cell_type": "code",
      "metadata": {
        "id": "yod1mUNOMeWg",
        "outputId": "5f7de841-2d59-4fdb-8896-964ea4e1551d",
        "colab": {
          "base_uri": "https://localhost:8080/"
        }
      },
      "source": [
        "def colour_dictionary():\n",
        "  colour_codes = {\n",
        "      \"red\":\"#FF0000\", \"green\":\"#008000\", \"black\": \"#000000\", \"white\":\"#FFFFFF\"\n",
        "  }\n",
        "\n",
        "  colour_codes[\"blue\"] = \"#0000FF\"\n",
        "  colour_codes.pop(\"black\")\n",
        "  colour_codes.pop(\"white\")\n",
        "  print(colour_codes)\n",
        "\n",
        "colour_dictionary()"
      ],
      "execution_count": null,
      "outputs": [
        {
          "output_type": "stream",
          "name": "stdout",
          "text": [
            "{'red': '#FF0000', 'green': '#008000', 'blue': '#0000FF'}\n"
          ]
        }
      ]
    },
    {
      "cell_type": "markdown",
      "metadata": {
        "id": "gjos_0vuMeyS"
      },
      "source": [
        "---\n",
        "### Exercise 9 - item tuples  \n",
        "\n",
        "Write a function which will:  \n",
        "*  create a new dictionary containing the colour codes for red, green, blue, black and white\n",
        "*  print the key/value pairs of a dictionary as a list of tuples  \n",
        "\n",
        "*Hint:  iterate through colour_codes.items()*\n",
        "\n",
        "Expected output:\n",
        "\n",
        "[('red', '#FF0000'), ('green', '#008000'), ('blue', '#0000FF'), ('black', '#000000'), ('white', '#000000')]"
      ]
    },
    {
      "cell_type": "code",
      "metadata": {
        "id": "EzuMkUypOKTY",
        "outputId": "c6cd03b3-68cd-4bc2-dc49-702699f555da",
        "colab": {
          "base_uri": "https://localhost:8080/"
        }
      },
      "source": [
        "def colour_dictionary():\n",
        "  colour_codes = {\n",
        "      \"red\":\"#FF0000\", \"green\":\"#008000\", \"black\": \"#000000\", \"white\":\"#FFFFFF\", \"blue\":\"#0000FF\"\n",
        "  }\n",
        "  for colours in colour_codes.items():\n",
        "    print(colours)\n",
        "\n",
        "colour_dictionary()"
      ],
      "execution_count": null,
      "outputs": [
        {
          "output_type": "stream",
          "name": "stdout",
          "text": [
            "('red', '#FF0000')\n",
            "('green', '#008000')\n",
            "('black', '#000000')\n",
            "('white', '#FFFFFF')\n",
            "('blue', '#0000FF')\n"
          ]
        }
      ]
    },
    {
      "cell_type": "markdown",
      "metadata": {
        "id": "Jw1ot10cOc6r"
      },
      "source": [
        "---\n",
        "### Exercise 10 - check if empty\n",
        "Taken from w3resouce.com  \n",
        "\n",
        "Write a function which will check if a dictionary is empty or not\n",
        "\n",
        "*Hint:  you can use bool(dictionary_name), if the dictionary is empty then bool(dictionary_name will be false)*\n",
        "\n",
        "Test 1 sample data:\n",
        "{}\n",
        "\n",
        "Expected output:\n",
        "Dictionary is empty  \n",
        "\n",
        "Test 2 sample data:  \n",
        "{\"name\":\"Groucho\", \"occupation\":\"comedian\"}\n",
        "\n",
        "Expected output:  \n",
        "Dictionary is not empty"
      ]
    },
    {
      "cell_type": "code",
      "metadata": {
        "id": "7UdM1TfwRqnt",
        "outputId": "ffff6c38-4c34-4476-9137-ea7ef38e1fff",
        "colab": {
          "base_uri": "https://localhost:8080/"
        }
      },
      "source": [
        "def check_empty():\n",
        "  dictionary = {\n",
        "      \"name\":\"Groucho\", \"occupation\":\"comedian\"\n",
        "  }\n",
        "  if bool(dictionary) == False:\n",
        "    print(\"The dictionary is empty\")\n",
        "  else:\n",
        "    print(\"The dictionary is not empty\")\n",
        "\n",
        "check_empty()"
      ],
      "execution_count": null,
      "outputs": [
        {
          "output_type": "stream",
          "name": "stdout",
          "text": [
            "The dictionary is not empty\n"
          ]
        }
      ]
    },
    {
      "cell_type": "markdown",
      "source": [
        "## Your thoughts on what you have learnt\n",
        "Please add some comments in the box below to reflect on what you have learnt through completing this worksheet, and any problems you encountered while doing so."
      ],
      "metadata": {
        "id": "EXYfVV1hv8U-"
      }
    },
    {
      "cell_type": "markdown",
      "source": [
        "Learned how to make and edit dictionaries, and how to use .items method to manage key and value pairs together."
      ],
      "metadata": {
        "id": "e_295aNvv9U2"
      }
    }
  ]
}