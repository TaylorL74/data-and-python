{
  "nbformat": 4,
  "nbformat_minor": 0,
  "metadata": {
    "colab": {
      "provenance": [],
      "include_colab_link": true
    },
    "kernelspec": {
      "name": "python3",
      "display_name": "Python 3"
    },
    "language_info": {
      "name": "python"
    }
  },
  "cells": [
    {
      "cell_type": "markdown",
      "metadata": {
        "id": "view-in-github",
        "colab_type": "text"
      },
      "source": [
        "<a href=\"https://colab.research.google.com/github/TaylorL74/data-and-python/blob/main/10_User_defined_functions.ipynb\" target=\"_parent\"><img src=\"https://colab.research.google.com/assets/colab-badge.svg\" alt=\"Open In Colab\"/></a>"
      ]
    },
    {
      "cell_type": "markdown",
      "metadata": {
        "id": "_mb8Es9TZFdY"
      },
      "source": [
        "# User-defined functions\n",
        "\n",
        "---\n",
        "\n",
        "Before you start this worksheet and if you haven't already done so:\n",
        "\n",
        "\n",
        "*   Read the presentation [here](https://docs.google.com/presentation/d/e/2PACX-1vTXmY-fhJQQXou6q5yb03ROswXyBD-mKScguh4mgd2zU07epZ59YOr39b6EPmEa5fkmC7qpfzgmMUvW/pub?start=false&loop=false&delayms=5000&slide=id.p)\n",
        "\n",
        "\n",
        "\n"
      ]
    },
    {
      "cell_type": "markdown",
      "metadata": {
        "id": "yDPndJACZJKA"
      },
      "source": [
        "\n",
        "---\n",
        "## Examples\n",
        "Run the code for each to see what it does.\n",
        "\n",
        "\n",
        "\n",
        "\n"
      ]
    },
    {
      "cell_type": "code",
      "metadata": {
        "id": "BRlxHaF9YtoB"
      },
      "source": [
        "# a function that takes NO parameters but returns new data collected from the user\n",
        "def get_username():\n",
        "  username = input(\"Enter your username: \")\n",
        "  return username\n",
        "\n",
        "username = get_username()\n",
        "print(username)"
      ],
      "execution_count": null,
      "outputs": []
    },
    {
      "cell_type": "markdown",
      "metadata": {
        "id": "RsSaHvS_bx0i"
      },
      "source": [
        "---\n"
      ]
    },
    {
      "cell_type": "code",
      "metadata": {
        "id": "DraANPGIbd13",
        "outputId": "3a81c9fc-e7af-4ba1-ee18-ba836e8bc828",
        "colab": {
          "base_uri": "https://localhost:8080/"
        }
      },
      "source": [
        "# a function that takes two number parameters and returns their sum\n",
        "def calculate_sum(num1, num2):\n",
        "  sum = num1 + num2\n",
        "  return sum\n",
        "\n",
        "total = calculate_sum(4, 7)\n",
        "print(total)"
      ],
      "execution_count": 1,
      "outputs": [
        {
          "output_type": "stream",
          "name": "stdout",
          "text": [
            "11\n"
          ]
        }
      ]
    },
    {
      "cell_type": "markdown",
      "metadata": {
        "id": "IaybFpHvbziA"
      },
      "source": [
        "---\n"
      ]
    },
    {
      "cell_type": "code",
      "metadata": {
        "id": "pEldozw1bw9K",
        "outputId": "198b32c3-be31-4523-b6d8-4491a5e2ac7b",
        "colab": {
          "base_uri": "https://localhost:8080/"
        }
      },
      "source": [
        "# a function that takes one numeric parameter and outputs the number as a string in a message\n",
        "def show_score(score):\n",
        "  print(\"Your current score is: \" + str(score) + \"%\")\n",
        "\n",
        "show_score(50)"
      ],
      "execution_count": 2,
      "outputs": [
        {
          "output_type": "stream",
          "name": "stdout",
          "text": [
            "Your current score is: 50%\n"
          ]
        }
      ]
    },
    {
      "cell_type": "markdown",
      "metadata": {
        "id": "S54v0BzZfcle"
      },
      "source": [
        "---\n",
        "## Passing data to functions\n",
        "\n",
        "Data is passed to a function through its brackets using parameters. When the function is called, the parameters are added to the function call.\n",
        "\n",
        "Run the function in the cell below and see if you can work out what it does."
      ]
    },
    {
      "cell_type": "code",
      "metadata": {
        "id": "nPaM_x2cg2EI",
        "outputId": "7fac2f72-7b41-46dc-daca-227206dbb0a2",
        "colab": {
          "base_uri": "https://localhost:8080/"
        }
      },
      "source": [
        "# example of a function being given real values (5,7,'+') and reading them as variables to be used within the function- can you work out what it does?\n",
        "def calculate_answer(num1, num2, operator):\n",
        "  if operator == \"+\":\n",
        "     return num1 + num2\n",
        "  elif operator == \"-\":\n",
        "     return num1 - num2\n",
        "  elif operator == \"*\":\n",
        "     return num1 * num2\n",
        "  elif operator == \"/\":\n",
        "     return num1 / num2\n",
        "  else:\n",
        "     return -999999\n",
        "\n",
        "answer = calculate_answer(5,7,\"+\")\n",
        "print(answer)"
      ],
      "execution_count": 3,
      "outputs": [
        {
          "output_type": "stream",
          "name": "stdout",
          "text": [
            "12\n"
          ]
        }
      ]
    },
    {
      "cell_type": "markdown",
      "metadata": {
        "id": "2pN0AVaTh-HP"
      },
      "source": [
        "---\n",
        "## Global and local variables\n",
        "\n",
        "The function below demonstrates the scope of global and local variables.\n",
        "\n",
        "Run the function and make sure you understand what is happening."
      ]
    },
    {
      "cell_type": "code",
      "metadata": {
        "id": "Ww0WCrVBhNLm",
        "outputId": "bdd0e4f4-8e8d-4543-8d12-710b433ac86a",
        "colab": {
          "base_uri": "https://localhost:8080/"
        }
      },
      "source": [
        "def calculate_sum(num1, num2):\n",
        "  # add the parameters together and return the total\n",
        "  total = num1 + num2  # here total is a local variable\n",
        "  print(\"Inside the function, local total\", total)\n",
        "  return total\n",
        "\n",
        "total = 0  # here total is a global variable (declared outside any function)\n",
        "\n",
        "# call the calculate_sum function, storing the result in the global variable\n",
        "new_total = calculate_sum(10, 20)\n",
        "print(\"Outside the function, global total\", total)\n",
        "print(\"Outside the function, global new_total, returned from function\", new_total)"
      ],
      "execution_count": 1,
      "outputs": [
        {
          "output_type": "stream",
          "name": "stdout",
          "text": [
            "Inside the function, local total 30\n",
            "Outside the function, global total 0\n",
            "Outside the function, global new_total, returned from function 30\n"
          ]
        }
      ]
    },
    {
      "cell_type": "markdown",
      "metadata": {
        "id": "VQ2bk-Qo7jC7"
      },
      "source": [
        "---\n",
        "# Have a go"
      ]
    },
    {
      "cell_type": "markdown",
      "metadata": {
        "id": "iK9GF4T274Na"
      },
      "source": [
        "---\n",
        "### Exercise 1 - get valid digit\n",
        "\n",
        "Write a function called **input_digit()** which will:\n",
        "*  ask the user for a **number** that must be between 0 and 9\n",
        "*  if the number is between 0 and 9 return the number to be printed by the caller\n",
        "*  otherwise return the message \"That number is not valid\" to be printed by the caller   \n",
        "\n",
        "**Test inputs**:  \n",
        "33  \n",
        "-1  \n",
        "8  \n",
        "\n",
        "**Expected outputs**:  \n",
        "Number is not valid  \n",
        "Number is not valid  \n",
        "8  "
      ]
    },
    {
      "cell_type": "code",
      "metadata": {
        "id": "lwN-VvkH8Skt",
        "outputId": "7fa22bfc-83d2-41ce-9e3d-cce9ecaea307",
        "colab": {
          "base_uri": "https://localhost:8080/"
        }
      },
      "source": [
        "def input_digit():\n",
        "  number = int(input(\"Enter number between 0 and 9: \"))\n",
        "  if number >= 0 and number <= 9:\n",
        "    print(number)\n",
        "  else:\n",
        "    print(\"Number is not valid\")\n",
        "\n",
        "input_digit()"
      ],
      "execution_count": 4,
      "outputs": [
        {
          "output_type": "stream",
          "name": "stdout",
          "text": [
            "Enter number between 0 and 9: 8\n",
            "8\n"
          ]
        }
      ]
    },
    {
      "cell_type": "markdown",
      "metadata": {
        "id": "v-qE3qQ58THx"
      },
      "source": [
        "---\n",
        "### Exercise 2 - input range\n",
        "\n",
        "Write a function called **input_value(min, max)** which will:  \n",
        "*  ask the user for **number** that must be between `min` and `max` and only return the `number` if it is within the limits.  The caller will print the `number`.\n",
        "\n",
        "**Test inputs**:  \n",
        "min = 3  \n",
        "max = 24  \n",
        "1  \n",
        "45  \n",
        "20  \n",
        "\n",
        "**Expected outputs**:  \n",
        "Number is out of range  \n",
        "Number is out of range  \n",
        "20"
      ]
    },
    {
      "cell_type": "code",
      "metadata": {
        "id": "PKAlW0sr9XR1",
        "outputId": "8e72c607-5785-412d-cc24-0a467392749b",
        "colab": {
          "base_uri": "https://localhost:8080/"
        }
      },
      "source": [
        "def input_value(min, max):\n",
        "  number = int(input(f\"Enter number between {min} and {max}: \"))\n",
        "  if number >= min and number <= max:\n",
        "    print(number)\n",
        "  else:\n",
        "    print(\"Number is not valid\")\n",
        "\n",
        "input_1 = int(input(\"Please enter min value: \"))\n",
        "input_2 = int(input(\"Please enter max value: \"))\n",
        "\n",
        "input_value(input_1, input_2)"
      ],
      "execution_count": 8,
      "outputs": [
        {
          "output_type": "stream",
          "name": "stdout",
          "text": [
            "Please enter min value: 3\n",
            "Please enter max value: 24\n",
            "Enter number between 3 and 24: 7\n",
            "7\n"
          ]
        }
      ]
    },
    {
      "cell_type": "markdown",
      "metadata": {
        "id": "MXhunQBG9XkU"
      },
      "source": [
        "---\n",
        "### Exercise 3 - re-using the function\n",
        "\n",
        "Using the same function as in Exercise 2 above, and with the same numbers for user input, try running it with these function calls:\n",
        "\n",
        "```\n",
        "value1 = input_value(1,10)\n",
        "value2 = input_value(11,20)\n",
        "value3 = input_value(21,30)\n",
        "print(value1, value2, value3)\n",
        "```"
      ]
    },
    {
      "cell_type": "code",
      "metadata": {
        "id": "oVpQJ3ZM9xCJ",
        "outputId": "c619168a-6fbb-4f7b-86a9-e5cc2de7db8a",
        "colab": {
          "base_uri": "https://localhost:8080/"
        }
      },
      "source": [
        "def input_value(min, max):\n",
        "  number = int(input(f\"Enter number between {min} and {max}: \"))\n",
        "  if number >= min and number <= max:\n",
        "    print(number)\n",
        "  else:\n",
        "    print(\"Number is not valid\")\n",
        "\n",
        "value1 = input_value(1, 10)\n",
        "value2 = input_value(11, 20)\n",
        "value3 = input_value(21, 30)\n",
        "print(value1, value2, value3)"
      ],
      "execution_count": 9,
      "outputs": [
        {
          "output_type": "stream",
          "name": "stdout",
          "text": [
            "Enter number between 1 and 10: 1\n",
            "1\n",
            "Enter number between 11 and 20: 45\n",
            "Number is not valid\n",
            "Enter number between 21 and 30: 25\n",
            "25\n",
            "None None None\n"
          ]
        }
      ]
    },
    {
      "cell_type": "markdown",
      "metadata": {
        "id": "P0QwTt7O9xUz"
      },
      "source": [
        "---\n",
        "### Exercise 4 - generate random even number\n",
        "\n",
        "Write a function called **generate_even_number(maximum)** that will generate a random, even **number**, below the maximum and return it to the caller, which will print it.\n",
        "\n",
        "*Hint: the function will need to generate the number, check it is an even number, repeat if not and return the number once it has got an even number*."
      ]
    },
    {
      "cell_type": "code",
      "metadata": {
        "id": "1ccTQxUa-Ok7",
        "outputId": "28bdab48-b64f-4b96-ae3d-00c692a6781f",
        "colab": {
          "base_uri": "https://localhost:8080/"
        }
      },
      "source": [
        "import random\n",
        "\n",
        "def generate_even_number(maximum):\n",
        "  number = random.randint(2, maximum)\n",
        "  while number % 2 != 0:\n",
        "    number = random.randint(2, maximum)\n",
        "  return number\n",
        "\n",
        "print(generate_even_number(100))"
      ],
      "execution_count": 25,
      "outputs": [
        {
          "output_type": "stream",
          "name": "stdout",
          "text": [
            "72\n"
          ]
        }
      ]
    },
    {
      "cell_type": "markdown",
      "metadata": {
        "id": "LYLGRytk-Ot6"
      },
      "source": [
        "---\n",
        "### Exercise 5 - biggest of 3 numbers\n",
        "\n",
        "Write a function called **check_largest(num1, num2, num3)** which will:  \n",
        "*  select the largest of `num1`, `num2` and `num3` and store this in a variable called **largest**\n",
        "*  return `largest` to the caller, where it will be printed.\n",
        "\n",
        "**Test inputs**:  \n",
        "check_largest(3,5,8)  \n",
        "check_largest(5,7,2)  \n",
        "check_largest(123,45,122)\n",
        "\n",
        "**Expected outputs**:  \n",
        "8  \n",
        "7  \n",
        "123  "
      ]
    },
    {
      "cell_type": "code",
      "metadata": {
        "id": "S_LeqEVd__Cc",
        "outputId": "9ec4bd80-65e5-49e3-e700-9694bec9e91e",
        "colab": {
          "base_uri": "https://localhost:8080/"
        }
      },
      "source": [
        "def check_largest(num1, num2, num3):\n",
        "  if num1 > num2 and num1 > num3:\n",
        "    largest = num1\n",
        "  elif num2 > num1 and num2 > num3:\n",
        "    largest = num2\n",
        "  elif num3 > num1 and num3 > num2:\n",
        "    largest = num3\n",
        "  return largest\n",
        "\n",
        "check_largest(123, 45, 122)"
      ],
      "execution_count": 32,
      "outputs": [
        {
          "output_type": "execute_result",
          "data": {
            "text/plain": [
              "123"
            ]
          },
          "metadata": {},
          "execution_count": 32
        }
      ]
    },
    {
      "cell_type": "markdown",
      "metadata": {
        "id": "NG2u2VT-CwO6"
      },
      "source": [
        "---\n",
        "### Exercise 6 - reverse a string\n",
        "\n",
        " Write a function called **reverse_string(word)** which will:  \n",
        "\n",
        " *  reverse the letters in the word  \n",
        " *  return the **reversed** `word` for printing\n",
        "\n",
        "[Help if you need it](https://www.w3schools.com/python/python_howto_reverse_string.asp)  \n",
        "\n",
        " **Test input**:  \n",
        " tiger  \n",
        "\n",
        "**Expected output**:  \n",
        " regit\n",
        "\n",
        " **Test input**:  \n",
        " Expected\n",
        "\n",
        " **Expected output**:  \n",
        " detcepxE"
      ]
    },
    {
      "cell_type": "code",
      "metadata": {
        "id": "BFTEfne8APF5",
        "outputId": "2f964727-b10e-4b67-a80f-1f322b970223",
        "colab": {
          "base_uri": "https://localhost:8080/",
          "height": 35
        }
      },
      "source": [
        "def reverse_string(word):\n",
        "  reverse = word[::-1]\n",
        "  return reverse\n",
        "\n",
        "reverse_string('expected')"
      ],
      "execution_count": 36,
      "outputs": [
        {
          "output_type": "execute_result",
          "data": {
            "text/plain": [
              "'detcepxe'"
            ],
            "application/vnd.google.colaboratory.intrinsic+json": {
              "type": "string"
            }
          },
          "metadata": {},
          "execution_count": 36
        }
      ]
    },
    {
      "cell_type": "markdown",
      "metadata": {
        "id": "cbrFvknfAO05"
      },
      "source": [
        "---\n",
        "### Exercise 7 - average of a list of numbers\n",
        "\n",
        "Write a function **calculate_average(num_list)** which will calculate the average of the list of numbers given, then return the number to the caller which will print it.  \n",
        "\n",
        "**Test inputs**:   \n",
        "list_1 = [1,2,3,4,5] <br>\n",
        "calculate_average(list_1)\n",
        "\n",
        "list_2 = [10002, 30004, 5005, 3333333, 12345] <br>\n",
        "calculate_average(list_2)  \n",
        "\n",
        "**Expected outputs**:  \n",
        "3.0  \n",
        "678137.8"
      ]
    },
    {
      "cell_type": "code",
      "metadata": {
        "id": "lSHhdyhUBRKr",
        "outputId": "47c3117a-9098-4649-db80-8c832e39e858",
        "colab": {
          "base_uri": "https://localhost:8080/"
        }
      },
      "source": [
        "def calculate_average(num_list):\n",
        "  total = sum(num_list)\n",
        "  length = len(num_list)\n",
        "  average = total / length\n",
        "  return average\n",
        "\n",
        "list_1 = [10002, 30004, 5005, 3333333, 12345]\n",
        "calculate_average(list_1)"
      ],
      "execution_count": 38,
      "outputs": [
        {
          "output_type": "execute_result",
          "data": {
            "text/plain": [
              "678137.8"
            ]
          },
          "metadata": {},
          "execution_count": 38
        }
      ]
    },
    {
      "cell_type": "markdown",
      "metadata": {
        "id": "x-JvvWUVFvY8"
      },
      "source": [
        "---\n",
        "### Exercise 8 - palindrome  \n",
        "\n",
        "Write a function called **is_palindrome(word)** which will return True if the `word` passed in is a palindrome (ie it reads the same in reverse) and False if not.\n",
        "\n",
        "*Hint:  remember that upper case and lower case letters are not seen as the same by Python, there are [case conversion](https://www.codecademy.com/learn/learn-python-3/modules/learn-python3-strings/cheatsheet) functions you can use to help with this.*\n",
        "\n",
        "**Test input**:  \n",
        "is_palindrome(\"racecar\")  \n",
        "is_palindrome(\"Racecar\")  \n",
        "is_palindrome(\"banana\")  \n",
        "\n",
        "**Expected output**:  \n",
        "True  \n",
        "True  \n",
        "False  "
      ]
    },
    {
      "cell_type": "code",
      "metadata": {
        "id": "OdHYWCJMCwaI",
        "outputId": "ce9f96f4-b70c-47a1-bab8-3b63943603c2",
        "colab": {
          "base_uri": "https://localhost:8080/"
        }
      },
      "source": [
        "def find_palindrome(word):\n",
        "  word = word.lower()\n",
        "  reverse = word[::-1]\n",
        "  if word == reverse:\n",
        "    return True\n",
        "  else:\n",
        "    return False\n",
        "\n",
        "find_palindrome(\"banana\")\n",
        "\n"
      ],
      "execution_count": 43,
      "outputs": [
        {
          "output_type": "execute_result",
          "data": {
            "text/plain": [
              "False"
            ]
          },
          "metadata": {},
          "execution_count": 43
        }
      ]
    },
    {
      "cell_type": "markdown",
      "metadata": {
        "id": "QPHDjtXXEJ92"
      },
      "source": [
        "---\n",
        "### Exercise 9 - find factorial\n",
        "\n",
        "Write a function called **calculate_factorial(num)** which will:\n",
        "\n",
        "*  if `num` is negative set **factorial** to -1\n",
        "*  if `num` isn't negative, if it is 0 then set `factorial` to 1\n",
        "*  if `num` isn't 0 then calculate `factorial` (multiply the numbers from `num` down to 1 using a loop)\n",
        "*  return `factorial`.   \n",
        "\n",
        "**Test inputs**:  \n",
        "calculate_factorial(5)  \n",
        "calculate_factorial(-5)  \n",
        "calculate_factorial(0)    \n",
        "\n",
        "**Expected outputs**:  \n",
        "120  \n",
        "-1  \n",
        "1    "
      ]
    },
    {
      "cell_type": "code",
      "metadata": {
        "id": "QAln19ReEKH5",
        "outputId": "010e6501-29c3-4655-c4ad-bc4115447e44",
        "colab": {
          "base_uri": "https://localhost:8080/"
        }
      },
      "source": [
        "def calculate_factorial(num):\n",
        "  if num < 0:\n",
        "    factorial = -1\n",
        "  elif num == 0:\n",
        "    factorial = 1\n",
        "  else:\n",
        "    for number in range(1, num):\n",
        "      num = num * number\n",
        "  return num\n",
        "\n",
        "calculate_factorial(10)"
      ],
      "execution_count": 48,
      "outputs": [
        {
          "output_type": "execute_result",
          "data": {
            "text/plain": [
              "3628800"
            ]
          },
          "metadata": {},
          "execution_count": 48
        }
      ]
    },
    {
      "cell_type": "markdown",
      "metadata": {
        "id": "Z58a7qa1BQ6j"
      },
      "source": [
        "---\n",
        "### Exercise 10 - passing data between functions - calculate price and apply discount\n",
        "\n",
        "Write a function called **calculate_price(product_price, num_items)** which will:\n",
        "\n",
        "*  calculate the total cost of the items, from the `product_price` and `num_items`\n",
        "*  return the `total`\n",
        "\n",
        "Write a second function **calculate_discount_price(total_price)** that will:\n",
        "\n",
        "*  ask the user to enter any **discount** they have (this can be 10% or 25% only), if the discount value is invalid, do not apply a discount   \n",
        "*  calculate the price of the items after the discount is applied\n",
        "*  return the `discounted_price` to be printed by the caller.\n",
        "\n",
        "Call the first function, with the given `product_price` and `num_items` and store the returned value in a variable called **total**  \n",
        "\n",
        "Call the second function, with the `total`, store the result in a variable called **discounted_price**, then print `discounted_price`\n",
        "\n",
        "Here is what it would look like:\n",
        "\n",
        "**Test input**:  \n",
        "Test with a product_price of 3.50, 4 items, and enter a discount of 10%   \n",
        "```\n",
        "total = calculate_price(3.50, 4)  \n",
        "discounted_price = calculate_discount_price(total)\n",
        "```   \n",
        "\n",
        "**Expected output**:  \n",
        "Discounted price: £ 12.60\n",
        "\n",
        "**Test input**:  \n",
        "Test with a product_price of 8.99, 10 items, and enter a discount of 50%  \n",
        "```\n",
        "total = calculate_price(8.99, 10)\n",
        "discounted_price = calculate_discount_price(total)\n",
        "```\n",
        "\n",
        "**Expected output**:  \n",
        "Discounted price: £ 89.90  "
      ]
    },
    {
      "cell_type": "code",
      "metadata": {
        "id": "Jx0ZSYl0FvjD",
        "outputId": "0fc32cf8-0d36-4868-b17b-475ced1ec6b6",
        "colab": {
          "base_uri": "https://localhost:8080/"
        }
      },
      "source": [
        "def calculate_price(product_price, num_items):\n",
        "  total = product_price * num_items\n",
        "  return total\n",
        "\n",
        "def calculate_discount(total):\n",
        "  discount = int(input(\"Select a discount amount - 25% or 10%: \"))\n",
        "  if discount == 25:\n",
        "    dis_total = total * 0.75\n",
        "    dis_totalR = round(dis_total, 2)\n",
        "  if discount == 10:\n",
        "    dis_total = total * 0.9\n",
        "    dis_totalR = round(dis_total, 2)\n",
        "  else:\n",
        "    dis_totalR = \"Invalid discount applied\"\n",
        "  return dis_totalR\n",
        "\n",
        "total = calculate_price(3.5, 4)\n",
        "print(calculate_discount(total))\n",
        "\n",
        "\n",
        "\n"
      ],
      "execution_count": 53,
      "outputs": [
        {
          "output_type": "stream",
          "name": "stdout",
          "text": [
            "Select a discount amount - 25% or 10%: 10\n",
            "12.67\n"
          ]
        }
      ]
    },
    {
      "cell_type": "markdown",
      "source": [
        "## Your thoughts on what you have learnt\n",
        "Please add some comments in the box below to reflect on what you have learnt through completing this worksheet, and any problems you encountered while doing so."
      ],
      "metadata": {
        "id": "U_J4qlpgvtWP"
      }
    },
    {
      "cell_type": "markdown",
      "source": [
        "I learned how to reverse strings using [::-1] slice statement, and how to pass information into and out of a user defined function."
      ],
      "metadata": {
        "id": "sKMXhunpvuWV"
      }
    }
  ]
}