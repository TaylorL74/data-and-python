{
  "nbformat": 4,
  "nbformat_minor": 0,
  "metadata": {
    "colab": {
      "provenance": [],
      "include_colab_link": true
    },
    "kernelspec": {
      "name": "python3",
      "display_name": "Python 3"
    }
  },
  "cells": [
    {
      "cell_type": "markdown",
      "metadata": {
        "id": "view-in-github",
        "colab_type": "text"
      },
      "source": [
        "<a href=\"https://colab.research.google.com/github/TaylorL74/data-and-python/blob/main/09_SelectionChallenges.ipynb\" target=\"_parent\"><img src=\"https://colab.research.google.com/assets/colab-badge.svg\" alt=\"Open In Colab\"/></a>"
      ]
    },
    {
      "cell_type": "markdown",
      "metadata": {
        "id": "-QxAKPD8DZfj"
      },
      "source": [
        "# Three selection challenges\n",
        "\n",
        "---\n"
      ]
    },
    {
      "cell_type": "markdown",
      "metadata": {
        "id": "f0R4GYTEFQS-"
      },
      "source": [
        "### Challenge 1 - triangle shape  \n",
        "\n",
        "Write a function called **evaluate_triangle_shape()** which will check if a triangle is equilateral, isosceles or scalene, based on the three side lengths entered by a user (**x**, **y** and **z**).\n",
        "\n",
        "An equilateral triangle is one in which all three sides are equal.\n",
        "A scalene triangle is one that has three unequal sides.\n",
        "An isosceles triangle is one with two equal sides.\n",
        "\n",
        "For example:  \n",
        "\n",
        "A triange with side lengths                                 \n",
        "x: 6                                                                    \n",
        "y: 8                                                                    \n",
        "z: 12                                                                   \n",
        "is a *Scalene triangle*\n",
        "\n",
        "A triangle with side lengths  \n",
        "x:5  \n",
        "y:3   \n",
        "z:5  \n",
        "is an *Isosceles triangle*"
      ]
    },
    {
      "cell_type": "code",
      "metadata": {
        "id": "oBgl4ro1DVL0",
        "outputId": "e7bc1b82-f6b7-4c38-99d8-c427f9af0ba2",
        "colab": {
          "base_uri": "https://localhost:8080/"
        }
      },
      "source": [
        "def evaluate_triangle_shape():\n",
        "  x_length = int(input(\"Enter side length 1: \"))\n",
        "  y_length = int(input(\"Enter side length 2: \"))\n",
        "  z_length = int(input(\"Enter side length 3: \"))\n",
        "  if x_length == y_length and y_length == z_length:\n",
        "    print(\"This is an equilateral triangle\")\n",
        "  elif x_length == y_length and y_length != z_length:\n",
        "    print(\"This is an isosceles triangle\")\n",
        "  elif x_length == z_length and y_length != z_length:\n",
        "    print(\"This is an isosceles triangle\")\n",
        "  elif y_length == z_length and z_length != x_length:\n",
        "    print(\"This is an isosceles triangle\")\n",
        "  else:\n",
        "    print(\"This is a scalene triangle\")\n",
        "\n",
        "evaluate_triangle_shape()"
      ],
      "execution_count": 7,
      "outputs": [
        {
          "output_type": "stream",
          "name": "stdout",
          "text": [
            "Enter side length 1: 4\n",
            "Enter side length 2: 5\n",
            "Enter side length 3: 6\n",
            "This is a scalene triangle\n"
          ]
        }
      ]
    },
    {
      "cell_type": "markdown",
      "metadata": {
        "id": "hr2EotkqG33l"
      },
      "source": [
        "---\n",
        "### Challenge 2 - which season\n",
        "\n",
        "Write a function called **determine_season()** which will ask the user to enter two integers representing a **month** and **day** and will calculate and print the season for that month and day.\n",
        "\n",
        "Note:  for this exercise the season dates are:\n",
        "*  Winter December 21 to March 20    \n",
        "*  Spring March 21 to June 20  \n",
        "*  Summer June 21 to September 20  \n",
        "*  Autumn September 21 to December 20\n",
        "\n",
        "**Test input for July 31st**:  \n",
        "Input the month (e.g. January, February etc.): 7                     \n",
        "Input the day: 31                                                       \n",
        "\n",
        "**Expected output**:  \n",
        "Season is summer\n",
        "\n",
        "*Note: this will require multiple and/or operators and you should use brackets to help Python know which operations to do first*  \n",
        "\n",
        "*For an extra challenge you can check that the day is valid for the month*"
      ]
    },
    {
      "cell_type": "code",
      "metadata": {
        "id": "cvbfz8nzG4IL",
        "outputId": "3a4a4c12-944b-449c-ccaa-4f01729895e0",
        "colab": {
          "base_uri": "https://localhost:8080/"
        }
      },
      "source": [
        "#First attempt\n",
        "def determine_season():\n",
        "  month = int(input(\"Enter the month as a number: \"))\n",
        "  day = int(input(\"Enter the day as a number: \"))\n",
        "  if month == 1 or month == 2:\n",
        "    print(\"The season is winter\")\n",
        "  elif month == 12 and day >= 21:\n",
        "    print(\"The season is winter\")\n",
        "  elif month == 3 and day <= 20:\n",
        "    print(\"The season is winter\")\n",
        "  elif month == 3 and day >= 21:\n",
        "    print(\"The season is spring\")\n",
        "  elif month == 4 or month == 5:\n",
        "    print(\"The season is spring \")\n",
        "  elif month == 6 and day <= 20:\n",
        "    print(\"The season is spring\")\n",
        "  elif month == 6 and day >= 21:\n",
        "    print(\"The season is summer\")\n",
        "  elif month == 7 or month == 8:\n",
        "    print(\"The season is summer\")\n",
        "  elif month == 9 and day <= 20:\n",
        "    print(\"The season is summer\")\n",
        "  else:\n",
        "    print(\"The season is autumn\")\n",
        "\n",
        "determine_season()"
      ],
      "execution_count": 9,
      "outputs": [
        {
          "output_type": "stream",
          "name": "stdout",
          "text": [
            "Enter the month as a number: 5\n",
            "Enter the day as a number: 21\n",
            "The season is spring \n"
          ]
        }
      ]
    },
    {
      "cell_type": "code",
      "source": [
        "#second attempt\n",
        "def determine_seasons():\n",
        "  month = int(input(\"Enter the month as a number: \"))\n",
        "  day = int(input(\"Enter the day as a number: \"))\n",
        "  if (month == 12 and day >= 21) or (month == 1 or month == 2) or (month == 3 and day <= 20):\n",
        "    print(\"The season is winter\")\n",
        "  elif (month == 3 and day >= 21) or (month == 4 or month == 5) or (month == 6 and day <= 20):\n",
        "    print(\"The season is spring\")\n",
        "  elif (month == 6 and day >= 21) or (month == 7 or month == 8) or (month == 9  and day <= 20):\n",
        "    print(\"The season is summer\")\n",
        "  else:\n",
        "    print(\"The season is autumn\")\n",
        "\n",
        "determine_seasons()"
      ],
      "metadata": {
        "id": "58DYsydrgxJC",
        "outputId": "12924e82-4e30-4432-c7ef-95eb4aa3cf21",
        "colab": {
          "base_uri": "https://localhost:8080/"
        }
      },
      "execution_count": 13,
      "outputs": [
        {
          "output_type": "stream",
          "name": "stdout",
          "text": [
            "Enter the month as a number: 9\n",
            "Enter the day as a number: 18\n",
            "The season is summer\n"
          ]
        }
      ]
    },
    {
      "cell_type": "markdown",
      "metadata": {
        "id": "2KYUALILDcM9"
      },
      "source": [
        "---\n",
        "### Challenge 3 - password format  \n",
        "\n",
        "Write a function called **check_password_valid()** which will check the validity of a **password** input by a user.\n",
        "\n",
        "Rules for a valid password are:  \n",
        "\n",
        "*  At least 1 letter between [a-z] and 1 letter between [A-Z].\n",
        "*  At least 1 number between [0-9].\n",
        "*  At least 1 character from [$#@].\n",
        "*  Minimum length 6 characters.\n",
        "*  Maximum length 16 characters.  \n",
        "\n",
        "Let the user know if the `password` they have typed is valid and, if not, where was the first error.\n",
        "\n",
        "*Hint:  to test if a set of characters is present in a password String, you can use re.search('[character set]', `password`)*  \n",
        "\n",
        "Example:   \n",
        "*if re.search('[a-z]',`password`):*    \n",
        "if there is at least 1 character a-z in the password, `re.search` **will not be None**\n",
        "\n",
        "You can test if re.search('[a-z]') is not None like this:\n",
        "`if re.search('[a-z]') is not None:`\n",
        "\n",
        "**re** is a pre-written Python function for pattern searching in Strings.  It has been imported for you in the code cell below.  "
      ]
    },
    {
      "cell_type": "code",
      "source": [
        "import re\n",
        "def testing():\n",
        "  password = \"75!\"\n",
        "  check = re.search('[A-Z]', password)\n",
        "  print(check)\n",
        "\n",
        "testing()"
      ],
      "metadata": {
        "id": "iRg028HFmKoB",
        "outputId": "499ced37-557d-4090-d1d7-0ccb2e4980cd",
        "colab": {
          "base_uri": "https://localhost:8080/"
        }
      },
      "execution_count": 31,
      "outputs": [
        {
          "output_type": "stream",
          "name": "stdout",
          "text": [
            "None\n"
          ]
        }
      ]
    },
    {
      "cell_type": "code",
      "metadata": {
        "id": "8wBK9IA4BO2e",
        "outputId": "3a5b5c3e-9214-4886-8716-2cc7144d90e6",
        "colab": {
          "base_uri": "https://localhost:8080/"
        }
      },
      "source": [
        "import re\n",
        "def check_password_valid():\n",
        "  password = str(input(\"Enter password: \"))\n",
        "  length = len(password)\n",
        "  print(length)\n",
        "  if not re.search('[a-z]', password) or not re.search('[A-Z]', password):\n",
        "    print(\"Invalid password. Password must contain at least 1 letter between [a-z] and 1 letter between [A-Z]\")\n",
        "  elif not re.search('[0-9]', password):\n",
        "    print(\"Invalid password. Password must contain at least 1 number between [0-9]\")\n",
        "  elif not re.search('[$, #, @]', password):\n",
        "    print(\"Invalid password. Password must contain at least 1 character from [$#@]\")\n",
        "  elif length < 6 or length > 16:\n",
        "    print(\"Invalid password. Password must be between 6 and 16 characters long\")\n",
        "  else:\n",
        "    print(\"Valid password\")\n",
        "\n",
        "check_password_valid()\n",
        "\n",
        "\n",
        "\n"
      ],
      "execution_count": 40,
      "outputs": [
        {
          "output_type": "stream",
          "name": "stdout",
          "text": [
            "Enter password: H$llO76\n",
            "7\n",
            "Valid password\n"
          ]
        }
      ]
    },
    {
      "cell_type": "markdown",
      "source": [
        "---\n",
        "# Your thoughts on what you have learnt from these challenges  \n",
        "\n",
        "Please add some comments in the box below to reflect on what you have learnt through completing this worksheet, and any problems you encountered while doing so."
      ],
      "metadata": {
        "id": "xr6B589Youcr"
      }
    },
    {
      "cell_type": "markdown",
      "source": [
        "I have learned how to set the order of and/or checks using brackets, and how to use not to check if an re.search hasn't found anything."
      ],
      "metadata": {
        "id": "qIfjax_VovRz"
      }
    }
  ]
}