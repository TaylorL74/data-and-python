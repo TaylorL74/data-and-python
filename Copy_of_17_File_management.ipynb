{
  "cells": [
    {
      "cell_type": "markdown",
      "metadata": {
        "id": "view-in-github",
        "colab_type": "text"
      },
      "source": [
        "<a href=\"https://colab.research.google.com/github/TaylorL74/data-and-python/blob/main/Copy_of_17_File_management.ipynb\" target=\"_parent\"><img src=\"https://colab.research.google.com/assets/colab-badge.svg\" alt=\"Open In Colab\"/></a>"
      ]
    },
    {
      "cell_type": "markdown",
      "metadata": {
        "id": "RYkEMTM8Rirb"
      },
      "source": [
        "# File Management\n",
        "---\n",
        "\n",
        "Before you start this worksheet and if you haven't already done so:\n",
        "*   Read the presentation on File Management [here](https://docs.google.com/presentation/d/e/2PACX-1vRhKwnkG-I_8nKvtGb6fA6bR80qyFppTF5cVtr31fcuP7EakhE7p6MCW3Ak_vi8sLh6HOF75NqCEoTp/pub?start=false&loop=false&delayms=5000&slide=id.p)\n",
        "\n",
        "\n"
      ]
    },
    {
      "cell_type": "markdown",
      "metadata": {
        "id": "m5Y0v-lVXdy-"
      },
      "source": [
        "### Upload some files to work with\n",
        "---\n",
        "\n",
        "The zipped folder containing the files needed for this worksheet can be downloaded [here](https://drive.google.com/file/d/16YXn5XdbIA4rSoQhZQ4c20__z0C_lD3f/view?usp=sharing)  \n",
        "\n",
        "Watch this [video](https://vimeo.com/891330968/b7c8408947) if you haven't already to see how to upload the prepared set of files to the notebook."
      ]
    },
    {
      "cell_type": "markdown",
      "metadata": {
        "id": "arSH11Mqbpga"
      },
      "source": [
        "### Find help for file handling with python\n",
        "---\n",
        "\n",
        "You will need to be able to do the following:\n",
        "*  list the contents of a directory\n",
        "*  walk through directory contents (subdirectories)\n",
        "*  rename a file\n",
        "*  create a folder\n",
        "*  delete a file\n",
        "*  move a file\n",
        "*  change access settings for a file or folder\n",
        "\n",
        "This site has some guidance:  https://pynative.com/python/file-handling/\n",
        "\n",
        "The PATH to access files in the notebook file system is:\n",
        "\n",
        "/content/folder_name/file_name"
      ]
    },
    {
      "cell_type": "markdown",
      "metadata": {
        "id": "uWqUBJI8eNgD"
      },
      "source": [
        "### Exercise 1\n",
        "---\n",
        "\n",
        "Print a list of the files in the Acme File System directory"
      ]
    },
    {
      "cell_type": "code",
      "execution_count": 1,
      "metadata": {
        "id": "A5g5tz1sRbiP",
        "outputId": "c4280dcc-16ae-4214-94b9-b534490c0601",
        "colab": {
          "base_uri": "https://localhost:8080/"
        }
      },
      "outputs": [
        {
          "output_type": "stream",
          "name": "stdout",
          "text": [
            "October 2023 minutes.txt\n",
            "January 2023 minutes.txt\n",
            "October 2022 report.txt\n",
            "April 2023 minutes.txt\n",
            "August 2023 minutes.txt\n",
            "November 2022 report - Copy.txt\n",
            "June 2023 minutes.txt\n",
            "September 2022 report.txt\n",
            "July 2022 report.txt\n",
            "Bank details.txt\n",
            "April 2023 report.txt\n",
            "Temp staff.txt\n",
            "August 2022 report.txt\n",
            "February 2023 minutes.txt\n",
            "January 2023 report.txt\n",
            "Staff addresses.txt\n",
            "May 2023 minutes.txt\n",
            "July 2023 minutes.txt\n",
            "Bobs Diary.txt\n",
            "Mar 2023 report - Copy.txt\n",
            "Company Accounts.txt\n",
            "Mar 2023 minutes.txt\n",
            "December  2023 minutes.txt\n",
            "February 2023 report.txt\n",
            "September 2023 minutes.txt\n",
            "Security Project.txt\n",
            "November 2022 report.txt\n",
            "December  2022 report.txt\n",
            "May 2023 report.txt\n",
            "June 2023 report.txt\n",
            "Mar 2023 report.txt\n",
            "Company Accounts - Copy.txt\n",
            "Customer payments.txt\n",
            "February 2023 report - Copy.txt\n",
            "November 2023 minutes.txt\n",
            "August 2023 minutes - Copy.txt\n",
            "May 2023 minutes - Copy.txt\n",
            "June 2023 minutes - Copy.txt\n"
          ]
        }
      ],
      "source": [
        "import os\n",
        "\n",
        "def print_directory_files():\n",
        "  # Assingning the directory path to a variable (find directory path by right clicking on the folder and selecting \"copy path\")\n",
        "  path = \"/content/Acme File Systems\"\n",
        "\n",
        "  # Iterate through each file in the directory and print it's name\n",
        "  for item in os.listdir(path):\n",
        "    print(item)\n",
        "\n",
        "print_directory_files()"
      ]
    },
    {
      "cell_type": "markdown",
      "metadata": {
        "id": "sUhPT6OVe59J"
      },
      "source": [
        "### Exercise 2\n",
        "---\n",
        "Create TWO new folders:  \n",
        "*  Minutes\n",
        "*  Reports\n",
        "\n",
        "Move all files with names containing 'minutes' to the Minutes folder.  \n",
        "\n",
        "Move all files with names containing 'report' to the Reports folder."
      ]
    },
    {
      "cell_type": "code",
      "execution_count": 2,
      "metadata": {
        "id": "7ybpu_aOfZfY"
      },
      "outputs": [],
      "source": [
        "import os\n",
        "import shutil\n",
        "\n",
        "def create_and_populate_folders():\n",
        "\n",
        "  path = \"/content/Acme File Systems\"\n",
        "  minutes_folder_name = \"Minutes\"\n",
        "  reports_folder_name = \"Reports\"\n",
        "\n",
        "  minutes_full_path = os.path.join(path, minutes_folder_name)\n",
        "  reports_full_path = os.path.join(path, reports_folder_name)\n",
        "\n",
        "  os.mkdir(minutes_full_path)\n",
        "  os.mkdir(reports_full_path)\n",
        "\n",
        "\n",
        "  for item in os.listdir(path):\n",
        "    if \"minutes\" in item:\n",
        "      item_path = os.path.join(path, item)\n",
        "      shutil.move(item_path, minutes_full_path)\n",
        "    elif \"report\" in item:\n",
        "      item_path = os.path.join(path, item)\n",
        "      shutil.move(item_path, reports_full_path)\n",
        "\n",
        "create_and_populate_folders()"
      ]
    },
    {
      "cell_type": "markdown",
      "metadata": {
        "id": "661xS_VafZrS"
      },
      "source": [
        "### Exercise 3\n",
        "---\n",
        "In the Reports folder, create TWO new folders:\n",
        "*  2022 reports\n",
        "*  2023 reports\n",
        "\n",
        "Move all files with 2022 in the name to the 2022 folder.  \n",
        "Move all files with 2023 in the name to the 2023 folder."
      ]
    },
    {
      "cell_type": "code",
      "execution_count": 3,
      "metadata": {
        "id": "bbPeHrUlftRw"
      },
      "outputs": [],
      "source": [
        "import os\n",
        "import shutil\n",
        "\n",
        "def create_new_reports_folders():\n",
        "  # Setting the base path as a variable\n",
        "  reports_path = \"/content/Acme File Systems/Reports\"\n",
        "\n",
        "  # Giving the new folders names\n",
        "  reports_22 = \"2022_Reports\"\n",
        "  reports_23 = \"2023_Reports\"\n",
        "\n",
        "  # Creating the paths for the new folders\n",
        "  reports_22_path = os.path.join(reports_path, reports_22)\n",
        "  reports_23_path = os.path.join(reports_path, reports_23)\n",
        "\n",
        "  # Making the new folders using the new paths\n",
        "  os.mkdir(reports_22_path)\n",
        "  os.mkdir(reports_23_path)\n",
        "\n",
        "  # Sorting the files into the correct folders\n",
        "  for item in os.listdir(reports_path):\n",
        "    if \"2022\" in item:\n",
        "      item_path = os.path.join(reports_path, item)\n",
        "      shutil.move(item_path, reports_22_path)\n",
        "    elif \"2023\" in item:\n",
        "      item_path = os.path.join(reports_path, item)\n",
        "      shutil.move(item_path, reports_23_path)\n",
        "\n",
        "create_new_reports_folders()"
      ]
    },
    {
      "cell_type": "markdown",
      "metadata": {
        "id": "6qkW3JsZftcA"
      },
      "source": [
        "### Exercise 4\n",
        "---\n",
        "List the directory structure for Acme File System using os.walk()\n",
        "\n",
        "Help here: https://www.geeksforgeeks.org/os-walk-python/"
      ]
    },
    {
      "cell_type": "code",
      "execution_count": 7,
      "metadata": {
        "id": "JhsZwSpIiH2b",
        "colab": {
          "base_uri": "https://localhost:8080/"
        },
        "outputId": "255fac7a-15b3-48fa-f230-96204844372f"
      },
      "outputs": [
        {
          "output_type": "stream",
          "name": "stdout",
          "text": [
            "Root: /content/Acme File Systems \n",
            "Sub-directories: ['Reports', 'Minutes'] \n",
            "Files: ['Bank details.txt', 'Temp staff.txt', 'Staff addresses.txt', 'Bobs Diary.txt', 'Company Accounts.txt', 'Security Project.txt', 'Company Accounts - Copy.txt', 'Customer payments.txt']\n",
            "\n",
            "Root: /content/Acme File Systems/Reports \n",
            "Sub-directories: ['2023_Reports', '2022_Reports'] \n",
            "Files: []\n",
            "\n",
            "Root: /content/Acme File Systems/Reports/2023_Reports \n",
            "Sub-directories: [] \n",
            "Files: ['April 2023 report.txt', 'January 2023 report.txt', 'Mar 2023 report - Copy.txt', 'February 2023 report.txt', 'May 2023 report.txt', 'June 2023 report.txt', 'Mar 2023 report.txt', 'February 2023 report - Copy.txt']\n",
            "\n",
            "Root: /content/Acme File Systems/Reports/2022_Reports \n",
            "Sub-directories: [] \n",
            "Files: ['October 2022 report.txt', 'November 2022 report - Copy.txt', 'September 2022 report.txt', 'July 2022 report.txt', 'August 2022 report.txt', 'November 2022 report.txt', 'December  2022 report.txt']\n",
            "\n",
            "Root: /content/Acme File Systems/Minutes \n",
            "Sub-directories: [] \n",
            "Files: ['October 2023 minutes.txt', 'January 2023 minutes.txt', 'April 2023 minutes.txt', 'August 2023 minutes.txt', 'June 2023 minutes.txt', 'February 2023 minutes.txt', 'May 2023 minutes.txt', 'July 2023 minutes.txt', 'Mar 2023 minutes.txt', 'December  2023 minutes.txt', 'September 2023 minutes.txt', 'November 2023 minutes.txt', 'August 2023 minutes - Copy.txt', 'May 2023 minutes - Copy.txt', 'June 2023 minutes - Copy.txt']\n",
            "\n"
          ]
        }
      ],
      "source": [
        "import os\n",
        "\n",
        "def walk_directory():\n",
        "\n",
        "  for dirpath, dirnames, filenames in os.walk(\"/content/Acme File Systems\"):\n",
        "    print(\n",
        "        f\"Root: {dirpath} \\n\"\n",
        "        f\"Sub-directories: {dirnames} \\n\"\n",
        "        f\"Files: {filenames}\\n\"\n",
        "        \"\"\n",
        "    )\n",
        "\n",
        "walk_directory()"
      ]
    },
    {
      "cell_type": "markdown",
      "metadata": {
        "id": "w3Fk4y9miI_R"
      },
      "source": [
        "### Exercise 5\n",
        "---\n",
        "There are some accidental copies of files in the directory.  \n",
        "\n",
        "Walk through the directory, find all files with 'copy' in the name and delete them.\n",
        "\n",
        "List all the files and folders in the directory and its sub-directories."
      ]
    },
    {
      "cell_type": "code",
      "execution_count": 20,
      "metadata": {
        "id": "2MccPkztimSS",
        "colab": {
          "base_uri": "https://localhost:8080/"
        },
        "outputId": "32dcf2f8-3f6a-4cad-da94-e762fd920f0b"
      },
      "outputs": [
        {
          "output_type": "stream",
          "name": "stdout",
          "text": [
            "Root: /content/Acme File Systems \n",
            "Sub-directories: ['Reports', 'Minutes'] \n",
            "Files: ['Bank details.txt', 'Temp staff.txt', 'Staff addresses.txt', 'Bobs Diary.txt', 'Company Accounts.txt', 'Security Project.txt', 'Customer payments.txt'] \n",
            "\n",
            "Root: /content/Acme File Systems/Reports \n",
            "Sub-directories: ['2023_Reports', '2022_Reports'] \n",
            "Files: [] \n",
            "\n",
            "Root: /content/Acme File Systems/Reports/2023_Reports \n",
            "Sub-directories: [] \n",
            "Files: ['April 2023 report.txt', 'January 2023 report.txt', 'February 2023 report.txt', 'May 2023 report.txt', 'June 2023 report.txt', 'Mar 2023 report.txt'] \n",
            "\n",
            "Root: /content/Acme File Systems/Reports/2022_Reports \n",
            "Sub-directories: [] \n",
            "Files: ['October 2022 report.txt', 'September 2022 report.txt', 'July 2022 report.txt', 'August 2022 report.txt', 'November 2022 report.txt', 'December  2022 report.txt'] \n",
            "\n",
            "Root: /content/Acme File Systems/Minutes \n",
            "Sub-directories: [] \n",
            "Files: ['October 2023 minutes.txt', 'January 2023 minutes.txt', 'April 2023 minutes.txt', 'August 2023 minutes.txt', 'June 2023 minutes.txt', 'February 2023 minutes.txt', 'May 2023 minutes.txt', 'July 2023 minutes.txt', 'Mar 2023 minutes.txt', 'December  2023 minutes.txt', 'September 2023 minutes.txt', 'November 2023 minutes.txt'] \n",
            "\n"
          ]
        }
      ],
      "source": [
        "import os\n",
        "\n",
        "def remove_copy():\n",
        "\n",
        "  # Walking through the files and folders in the directory, isolating the filenames to check if they match \"copy\", then finding the file path and removing it\n",
        "  for dirpath, dirnames, filenames in os.walk(\"/content/Acme File Systems\"):\n",
        "    for filename in filenames:\n",
        "      if \"copy\" in filename or \"Copy\" in filename:\n",
        "        copy_path = os.path.join(dirpath, filename)\n",
        "        os.remove(copy_path)\n",
        "\n",
        "  for dirpath, dirnames, filenames in os.walk(\"/content/Acme File Systems\"):\n",
        "   print(\n",
        "    f\"Root: {dirpath} \\n\"\n",
        "    f\"Sub-directories: {dirnames} \\n\"\n",
        "    f\"Files: {filenames} \\n\"\n",
        "    \"\"\n",
        "    )\n",
        "\n",
        "remove_copy()\n",
        "\n",
        "\n"
      ]
    },
    {
      "cell_type": "markdown",
      "metadata": {
        "id": "mjM-LkFZimoL"
      },
      "source": [
        "### Exercise 6\n",
        "---\n",
        "The files in the minutes and the reports directories are labelled by month.  Consequently, they are not stored in date order.  \n",
        "\n",
        "Rename all files with a month in the name to use the month number rather than the name (e.g. replace 'August' with '08', 'December' with '12, etc)\n",
        "\n",
        "List all the files and folders in the directory and its sub-directories."
      ]
    },
    {
      "cell_type": "code",
      "execution_count": 30,
      "metadata": {
        "id": "J-t0OgZljDPp",
        "colab": {
          "base_uri": "https://localhost:8080/"
        },
        "outputId": "0725fa26-7bf7-43da-ea57-02265618aa11"
      },
      "outputs": [
        {
          "output_type": "stream",
          "name": "stdout",
          "text": [
            "Root: /content/Acme File Systems \n",
            "Sub-directories: ['Reports', 'Minutes'] \n",
            "Files: ['Bank details.txt', 'Temp staff.txt', 'Staff addresses.txt', 'Bobs Diary.txt', 'Company Accounts.txt', 'Security Project.txt', 'Customer payments.txt'] \n",
            "\n",
            "Root: /content/Acme File Systems/Reports \n",
            "Sub-directories: ['2023_Reports', '2022_Reports'] \n",
            "Files: [] \n",
            "\n",
            "Root: /content/Acme File Systems/Reports/2023_Reports \n",
            "Sub-directories: [] \n",
            "Files: ['02 2023 report.txt', '06 2023 report.txt', '03 2023 report.txt', '04 2023 report.txt', '05 2023 report.txt', '01 2023 report.txt'] \n",
            "\n",
            "Root: /content/Acme File Systems/Reports/2022_Reports \n",
            "Sub-directories: [] \n",
            "Files: ['07 2022 report.txt', '08 2022 report.txt', '09 2022 report.txt', '12  2022 report.txt', '10 2022 report.txt', '11 2022 report.txt'] \n",
            "\n",
            "Root: /content/Acme File Systems/Minutes \n",
            "Sub-directories: [] \n",
            "Files: ['06 2023 minutes.txt', '01 2023 minutes.txt', '07 2023 minutes.txt', '04 2023 minutes.txt', '08 2023 minutes.txt', '09 2023 minutes.txt', '03 2023 minutes.txt', '02 2023 minutes.txt', '11 2023 minutes.txt', '12  2023 minutes.txt', '10 2023 minutes.txt', '05 2023 minutes.txt'] \n",
            "\n"
          ]
        }
      ],
      "source": [
        "import os\n",
        "\n",
        "def rename_files():\n",
        "\n",
        "  # List of months names to be referenced as they are written in the filenames\n",
        "  months = [\"January\", \"February\", \"Mar\", \"April\", \"May\", \"June\", \"July\", \"August\", \"September\", \"October\", \"November\", \"December\"]\n",
        "\n",
        "  # Walking through the directory, isolating the filename and checking it against each item in the list\n",
        "  for dirpath, dirnames, filenames in os.walk(\"/content/Acme File Systems\"):\n",
        "    for filename in filenames:\n",
        "      for month in months:\n",
        "        if month in filename:\n",
        "          # Slicing the filename after the month, and find the number for the month using indexing\n",
        "          end_name = filename[len(month):]\n",
        "          start_name = str(months.index(month) + 1)\n",
        "          # Accounting for the 0 that needs to be at the start of single digit number months\n",
        "          if month != \"October\" and month != \"November\" and month != \"December\":\n",
        "            start_name = f\"0{start_name}\"\n",
        "          # Creating new filename and path and renaming the files\n",
        "          new_name = start_name + end_name\n",
        "          old_path = os.path.join(dirpath, filename)\n",
        "          new_path = os.path.join(dirpath, new_name)\n",
        "          os.rename(old_path, new_path)\n",
        "\n",
        "  for dirpath, dirnames, filenames in os.walk(\"/content/Acme File Systems\"):\n",
        "    print(\n",
        "      f\"Root: {dirpath} \\n\"\n",
        "      f\"Sub-directories: {dirnames} \\n\"\n",
        "      f\"Files: {filenames} \\n\"\n",
        "      \"\"\n",
        "      )\n",
        "\n",
        "rename_files()\n",
        "\n",
        "\n"
      ]
    },
    {
      "cell_type": "markdown",
      "metadata": {
        "id": "FnEIwC1mjJlg"
      },
      "source": [
        "### Exercise 7\n",
        "---\n",
        "Some operating systems do not process files with spaces in their names.  \n",
        "\n",
        "Rename all files to replace spaces with underscores ( _ )  \n",
        "\n",
        "List all the files and folders in the directory and its sub-directories."
      ]
    },
    {
      "cell_type": "code",
      "execution_count": 32,
      "metadata": {
        "id": "8z3HLv0JjdZt",
        "colab": {
          "base_uri": "https://localhost:8080/"
        },
        "outputId": "b362bc0d-1528-43cb-b5d5-20d7f83eef91"
      },
      "outputs": [
        {
          "output_type": "stream",
          "name": "stdout",
          "text": [
            "Root: /content/Acme File Systems \n",
            "Sub-directories: ['Reports', 'Minutes'] \n",
            "Files: ['Temp_staff.txt', 'Bank_details.txt', 'Bobs_Diary.txt', 'Security_Project.txt', 'Company_Accounts.txt', 'Staff_addresses.txt', 'Customer_payments.txt'] \n",
            "\n",
            "Root: /content/Acme File Systems/Reports \n",
            "Sub-directories: ['2023_Reports', '2022_Reports'] \n",
            "Files: [] \n",
            "\n",
            "Root: /content/Acme File Systems/Reports/2023_Reports \n",
            "Sub-directories: [] \n",
            "Files: ['04_2023_report.txt', '02_2023_report.txt', '05_2023_report.txt', '03_2023_report.txt', '06_2023_report.txt', '01_2023_report.txt'] \n",
            "\n",
            "Root: /content/Acme File Systems/Reports/2022_Reports \n",
            "Sub-directories: [] \n",
            "Files: ['08_2022_report.txt', '07_2022_report.txt', '11_2022_report.txt', '10_2022_report.txt', '12__2022_report.txt', '09_2022_report.txt'] \n",
            "\n",
            "Root: /content/Acme File Systems/Minutes \n",
            "Sub-directories: [] \n",
            "Files: ['12__2023_minutes.txt', '04_2023_minutes.txt', '06_2023_minutes.txt', '08_2023_minutes.txt', '11_2023_minutes.txt', '10_2023_minutes.txt', '03_2023_minutes.txt', '01_2023_minutes.txt', '02_2023_minutes.txt', '09_2023_minutes.txt', '07_2023_minutes.txt', '05_2023_minutes.txt'] \n",
            "\n"
          ]
        }
      ],
      "source": [
        "import os\n",
        "\n",
        "def replace_spaces():\n",
        "\n",
        "  for dirpath, dirnames, filenames in os.walk(\"/content/Acme File Systems\"):\n",
        "    for filename in filenames:\n",
        "      new_name = filename.replace(\" \", \"_\")\n",
        "      new_path = os.path.join(dirpath, new_name)\n",
        "      old_path = os.path.join(dirpath, filename)\n",
        "      os.rename(old_path, new_path)\n",
        "\n",
        "\n",
        "  for dirpath, dirnames, filenames in os.walk(\"/content/Acme File Systems\"):\n",
        "    print(\n",
        "      f\"Root: {dirpath} \\n\"\n",
        "      f\"Sub-directories: {dirnames} \\n\"\n",
        "      f\"Files: {filenames} \\n\"\n",
        "      \"\"\n",
        "      )\n",
        "\n",
        "replace_spaces()\n",
        "\n"
      ]
    },
    {
      "cell_type": "markdown",
      "metadata": {
        "id": "_AEY2vKnjduc"
      },
      "source": [
        "### Exercise 8\n",
        "---\n",
        "Make a back up copy of the whole folder\n",
        "\n"
      ]
    },
    {
      "cell_type": "code",
      "execution_count": 47,
      "metadata": {
        "id": "9e_k072QkfPi",
        "colab": {
          "base_uri": "https://localhost:8080/"
        },
        "outputId": "139539ff-2455-4a0e-b771-3fcfaf6a8a6b"
      },
      "outputs": [
        {
          "output_type": "stream",
          "name": "stdout",
          "text": [
            "Root: /content/Acme File Systems Backup \n",
            "Sub-directories: ['Reports', 'Minutes'] \n",
            "Files: ['Temp_staff.txt', 'Bank_details.txt', 'Bobs_Diary.txt', 'Security_Project.txt', 'Company_Accounts.txt', 'Staff_addresses.txt', 'Customer_payments.txt'] \n",
            "\n",
            "Root: /content/Acme File Systems Backup/Reports \n",
            "Sub-directories: ['2023_Reports', '2022_Reports'] \n",
            "Files: [] \n",
            "\n",
            "Root: /content/Acme File Systems Backup/Reports/2023_Reports \n",
            "Sub-directories: [] \n",
            "Files: ['04_2023_report.txt', '02_2023_report.txt', '05_2023_report.txt', '03_2023_report.txt', '06_2023_report.txt', '01_2023_report.txt'] \n",
            "\n",
            "Root: /content/Acme File Systems Backup/Reports/2022_Reports \n",
            "Sub-directories: [] \n",
            "Files: ['08_2022_report.txt', '07_2022_report.txt', '11_2022_report.txt', '10_2022_report.txt', '12__2022_report.txt', '09_2022_report.txt'] \n",
            "\n",
            "Root: /content/Acme File Systems Backup/Minutes \n",
            "Sub-directories: [] \n",
            "Files: ['12__2023_minutes.txt', '04_2023_minutes.txt', '06_2023_minutes.txt', '08_2023_minutes.txt', '11_2023_minutes.txt', '10_2023_minutes.txt', '03_2023_minutes.txt', '01_2023_minutes.txt', '02_2023_minutes.txt', '09_2023_minutes.txt', '07_2023_minutes.txt', '05_2023_minutes.txt'] \n",
            "\n"
          ]
        }
      ],
      "source": [
        "import os\n",
        "import shutil\n",
        "\n",
        "def create_backup():\n",
        "\n",
        "  acme_file_backup = \"Acme File Systems Backup\"\n",
        "  root = \"/content\"\n",
        "  backup_path = os.path.join(root, acme_file_backup)\n",
        "\n",
        "  shutil.copytree(\"/content/Acme File Systems\", backup_path)\n",
        "\n",
        "\n",
        "  for dirpath, dirnames, filenames in os.walk(backup_path):\n",
        "    print(\n",
        "      f\"Root: {dirpath} \\n\"\n",
        "      f\"Sub-directories: {dirnames} \\n\"\n",
        "      f\"Files: {filenames} \\n\"\n",
        "      \"\"\n",
        "      )\n",
        "\n",
        "create_backup()"
      ]
    },
    {
      "cell_type": "markdown",
      "metadata": {
        "id": "t1jql1Hln75D"
      },
      "source": [
        "### Exercise 9\n",
        "---\n",
        "Zip the back up folder (use the shutil or zipfile library - help here: https://www.guru99.com/python-zip-file.html.\n",
        "\n",
        "Download the zipped file to your local drive.  You can use the following code to download to your downloads folder:   \n",
        "```\n",
        "from google.colab import files\n",
        "files.download('example.txt')\n",
        "```\n",
        "\n"
      ]
    },
    {
      "cell_type": "code",
      "execution_count": 48,
      "metadata": {
        "id": "07TF6NbsoVKh",
        "colab": {
          "base_uri": "https://localhost:8080/",
          "height": 37
        },
        "outputId": "f78d5fcf-8ed6-497b-8696-a4ad82e4c5b5"
      },
      "outputs": [
        {
          "output_type": "display_data",
          "data": {
            "text/plain": [
              "<IPython.core.display.Javascript object>"
            ],
            "application/javascript": [
              "\n",
              "    async function download(id, filename, size) {\n",
              "      if (!google.colab.kernel.accessAllowed) {\n",
              "        return;\n",
              "      }\n",
              "      const div = document.createElement('div');\n",
              "      const label = document.createElement('label');\n",
              "      label.textContent = `Downloading \"${filename}\": `;\n",
              "      div.appendChild(label);\n",
              "      const progress = document.createElement('progress');\n",
              "      progress.max = size;\n",
              "      div.appendChild(progress);\n",
              "      document.body.appendChild(div);\n",
              "\n",
              "      const buffers = [];\n",
              "      let downloaded = 0;\n",
              "\n",
              "      const channel = await google.colab.kernel.comms.open(id);\n",
              "      // Send a message to notify the kernel that we're ready.\n",
              "      channel.send({})\n",
              "\n",
              "      for await (const message of channel.messages) {\n",
              "        // Send a message to notify the kernel that we're ready.\n",
              "        channel.send({})\n",
              "        if (message.buffers) {\n",
              "          for (const buffer of message.buffers) {\n",
              "            buffers.push(buffer);\n",
              "            downloaded += buffer.byteLength;\n",
              "            progress.value = downloaded;\n",
              "          }\n",
              "        }\n",
              "      }\n",
              "      const blob = new Blob(buffers, {type: 'application/binary'});\n",
              "      const a = document.createElement('a');\n",
              "      a.href = window.URL.createObjectURL(blob);\n",
              "      a.download = filename;\n",
              "      div.appendChild(a);\n",
              "      a.click();\n",
              "      div.remove();\n",
              "    }\n",
              "  "
            ]
          },
          "metadata": {}
        },
        {
          "output_type": "display_data",
          "data": {
            "text/plain": [
              "<IPython.core.display.Javascript object>"
            ],
            "application/javascript": [
              "download(\"download_a7eda024-4129-4340-9b21-8b98f72ce7bf\", \"Zip_Acme_File_Systems.zip\", 5099)"
            ]
          },
          "metadata": {}
        }
      ],
      "source": [
        "import os\n",
        "import shutil\n",
        "from shutil import make_archive\n",
        "from google.colab import files\n",
        "\n",
        "def zip_file():\n",
        "\n",
        "  dir_name = \"Acme File Systems Backup\"\n",
        "  output_name = \"Zip_Acme_File_Systems\"\n",
        "\n",
        "  new_zip = shutil.make_archive(output_name, \"zip\", dir_name)\n",
        "\n",
        "  files.download(new_zip)\n",
        "\n",
        "zip_file()"
      ]
    },
    {
      "cell_type": "markdown",
      "source": [
        "### Final challenge\n",
        "---\n",
        "\n",
        "Create a new Colab notebook. Write a clean up program that will:\n",
        "\n",
        "Allow the user to specify the name of a zipped folder to upload  \n",
        "Allow the zipped folder to be uploaded  \n",
        "Unzip the folder    \n",
        "Clean up the folder in a similar way to all the things done in the exercises  \n",
        "Back up  \n",
        "Zip and download  \n",
        "\n"
      ],
      "metadata": {
        "id": "qUP8HvMLq-Il"
      }
    },
    {
      "cell_type": "markdown",
      "source": [
        "## Your thoughts on what you have learnt\n",
        "Please add some comments in the box below to reflect on what you have learnt through completing this worksheet, and any problems you encountered while doing so."
      ],
      "metadata": {
        "id": "i7K7gS_zxN85"
      }
    },
    {
      "cell_type": "markdown",
      "source": [
        "Had to look up additional resources on os.walk() function, but got the additional information of how to use \\n to easily start a new line within the same print command out of it.\n",
        "\n",
        "Leaned how to use a lot of different methods and functions to manage files."
      ],
      "metadata": {
        "id": "vO4BrqeyxO0e"
      }
    }
  ],
  "metadata": {
    "colab": {
      "provenance": [],
      "include_colab_link": true
    },
    "kernelspec": {
      "display_name": "Python 3",
      "name": "python3"
    },
    "language_info": {
      "name": "python"
    }
  },
  "nbformat": 4,
  "nbformat_minor": 0
}